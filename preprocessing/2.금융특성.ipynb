{
  "nbformat": 4,
  "nbformat_minor": 0,
  "metadata": {
    "colab": {
      "provenance": []
    },
    "kernelspec": {
      "name": "python3",
      "display_name": "Python 3"
    },
    "language_info": {
      "name": "python"
    }
  },
  "cells": [
    {
      "cell_type": "code",
      "execution_count": null,
      "metadata": {
        "colab": {
          "base_uri": "https://localhost:8080/"
        },
        "id": "u1PrCfxMvTT3",
        "outputId": "1361406f-0a96-44e3-c45a-cc49496208fe"
      },
      "outputs": [
        {
          "output_type": "stream",
          "name": "stdout",
          "text": [
            "Mounted at /content/drive\n"
          ]
        }
      ],
      "source": [
        "from google.colab import drive\n",
        "drive.mount('/content/drive')"
      ]
    },
    {
      "cell_type": "code",
      "source": [
        "# 파일 경로 설정\n",
        "file_path = '/content/drive/MyDrive/2조/Database/독립변수/7.금융/서울시_경제지표(2013-2022).csv'\n",
        "\n",
        "# 파일 읽어오기\n",
        "import pandas as pd\n",
        "df = pd.read_csv(file_path, encoding='cp949')\n",
        "df.head(30)\n",
        "\n",
        "df = df.drop([1,2,3,7,9,10,11,13,15,21,24], axis=0).reset_index(drop=True)\n",
        "df\n",
        "\n",
        "df = df.iloc[:, 2:-1]\n",
        "df = df[['지표별(2)', '2015', '2016', '2017', '2018', '2019', '2020', '2021', '2022']]\n",
        "df\n",
        "\n",
        "df.columns = ['경제 지표', '2015', '2016', '2017', '2018', '2019', '2020', '2021', '2022']\n",
        "df\n",
        "\n",
        "df.set_index(['경제 지표'], inplace=True)\n",
        "df\n",
        "\n",
        "df = df.T\n",
        "\n",
        "df = df.reset_index()\n",
        "df\n",
        "\n",
        "print(df.head())\n",
        "\n",
        "df.columns = [ '연도',\t'소비자물가지수(2020=100)',\t'예금은행대출금액(십억원)',\t'예금은행예금액(십억원)',\t'소비자물가 등락률(%)',\t'임금상승률(%)',\t'청년고용률(%)',\t'실업률(시도)',\t'실업자수(천명)',\t'취업자증감(천명)',\t'청년실업률(%)',\t'제조업생산 증감률(%)',\t'서비스업생산 증감률(%)',\t'수입액(100만달러)',\t'수출액(100만달러)',\t'지방세(백만원)']\n",
        "\n",
        "df.head()\n",
        "\n",
        "df.to_csv('서울시 경제 지표.csv')\n"
      ],
      "metadata": {
        "colab": {
          "base_uri": "https://localhost:8080/"
        },
        "id": "JARi8A7mvegy",
        "outputId": "a82032f3-f437-4793-d42d-f68370c77a5a"
      },
      "execution_count": null,
      "outputs": [
        {
          "output_type": "stream",
          "name": "stdout",
          "text": [
            "경제 지표 index 소비자물가지수 (2020=100) 예금은행대출금액 (십억원) 예금은행예금액 (십억원) 소비자물가 등락률 (%)  \\\n",
            "0      2015              94.47       525529.0      600391.0           1.3   \n",
            "1      2016              95.59       544592.0      628071.0           1.2   \n",
            "2      2017              97.49       569688.0      664687.0           2.0   \n",
            "3      2018               98.8       607389.0      728763.0           1.3   \n",
            "4      2019              99.38       641634.0      791161.0           0.6   \n",
            "\n",
            "경제 지표 임금상승률  (%) 청년고용률 (%) 실업률(시도) 실업자수 (천명) 취업자증감 (천명) 청년실업률 (%)  \\\n",
            "0            1.9      43.8     4.2     226.0      -43.9       9.3   \n",
            "1            3.2      44.6     4.2     226.0      -19.0      10.3   \n",
            "2            2.4      45.3     4.5     244.0        6.2      10.1   \n",
            "3            3.4      46.1     4.8     254.0      -72.2      10.1   \n",
            "4            3.9      47.5     4.4     233.0        6.0       8.8   \n",
            "\n",
            "경제 지표 제조업생산 증감률 (%) 서비스업생산 증감률 (%) 수입액 (100만달러) 수출액 (100만달러)   지방세 (백만원)  \n",
            "0              -2.7            2.3     140668.0      60273.0  17038835.0  \n",
            "1               3.3            3.2     128531.0      53428.0  18024176.0  \n",
            "2              -2.1            2.7     147467.0      57386.0  19296437.0  \n",
            "3              -0.2            3.5     163793.0      64618.0  20695311.0  \n",
            "4              -5.3            1.8     157399.0      57379.0  22268213.0  \n"
          ]
        }
      ]
    },
    {
      "cell_type": "code",
      "source": [
        "# 파일 경로 설정\n",
        "file_path = '/content/drive/MyDrive/2조/Database/독립변수/7.금융/경제성장률(2010~2022).xlsx'\n",
        "\n",
        "# 파일 읽어오기\n",
        "import pandas as pd\n",
        "df = pd.read_excel(file_path, skiprows=2)\n",
        "df.head(30)\n",
        "\n",
        "df = df.drop([2,3,4], axis=0).reset_index(drop=True)\n",
        "df\n",
        "\n",
        "df = df.set_index('Unnamed: 0')\n",
        "df = df.T\n",
        "\n",
        "df.reset_index(inplace=True)\n",
        "df\n",
        "\n",
        "df.columns = ['연도', '국내총생산(명목GDP)', '경제성장률(실질GDP성장률)']\n",
        "df\n",
        "\n",
        "df.to_csv('경제성장률.csv')"
      ],
      "metadata": {
        "id": "4cMIUkRwvwn7"
      },
      "execution_count": null,
      "outputs": []
    },
    {
      "cell_type": "code",
      "source": [],
      "metadata": {
        "id": "5yT-W2j-2djn"
      },
      "execution_count": null,
      "outputs": []
    }
  ]
}