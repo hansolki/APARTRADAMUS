{
  "nbformat": 4,
  "nbformat_minor": 0,
  "metadata": {
    "colab": {
      "provenance": [],
      "gpuType": "T4"
    },
    "kernelspec": {
      "name": "python3",
      "display_name": "Python 3"
    },
    "language_info": {
      "name": "python"
    },
    "accelerator": "GPU"
  },
  "cells": [
    {
      "cell_type": "code",
      "execution_count": null,
      "metadata": {
        "colab": {
          "base_uri": "https://localhost:8080/"
        },
        "id": "3MA3eeWNkMQ9",
        "outputId": "76987560-74c8-4693-9384-efbc578023a9"
      },
      "outputs": [
        {
          "output_type": "stream",
          "name": "stdout",
          "text": [
            "Mounted at /content/drive\n"
          ]
        }
      ],
      "source": [
        "# Google Drive와 연결\n",
        "from google.colab import drive\n",
        "drive.mount('/content/drive')"
      ]
    },
    {
      "cell_type": "code",
      "source": [
        "# df 원본 불러오기\n",
        "import pandas as pd\n",
        "df = pd.read_csv('/content/drive/MyDrive/2조/버전관리/CSV/data(ver.4.2)_한솔.csv', index_col=0)\n",
        "df.head()"
      ],
      "metadata": {
        "colab": {
          "base_uri": "https://localhost:8080/",
          "height": 444
        },
        "id": "FussI6-mkWHj",
        "outputId": "6dfe1f72-6894-4a79-fea3-8c3ce8b9b77f"
      },
      "execution_count": null,
      "outputs": [
        {
          "output_type": "execute_result",
          "data": {
            "text/plain": [
              "   지역구    동  계약월   계약년  계약일  전용면적(㎡)   층  건축연도  공공체육시설(개소)  공원면적(천㎡)  ...  \\\n",
              "0  강남구  개포동   12  2022   23  49.8600   4  1992         293    7794.1  ...   \n",
              "1  강남구  개포동   12  2022   23  49.8600   4  1992         293    7794.1  ...   \n",
              "2  강남구  개포동   12  2022   22  76.1709  24  2019         293    7794.1  ...   \n",
              "3  강남구  개포동   12  2022   17  83.2100   3  1983         293    7794.1  ...   \n",
              "4  강남구  개포동   12  2022   16  51.1200  15  1992         293    7794.1  ...   \n",
              "\n",
              "   건강생활실천율(%)  건강양호판단비율(%)  평균연령(세)  여성대비 남성인구 비율(%)  조이혼율(‰)  독거노인가구비율(%)  \\\n",
              "0        49.4         57.3     42.7             91.7      1.3          5.9   \n",
              "1        49.4         57.3     42.7             91.7      1.3          5.9   \n",
              "2        49.4         57.3     42.7             91.7      1.3          5.9   \n",
              "3        49.4         57.3     42.7             91.7      1.3          5.9   \n",
              "4        49.4         57.3     42.7             91.7      1.3          5.9   \n",
              "\n",
              "   등록외국인현황(명)  다문화가구(가구)  다문화가구원(명)  거래금액(만원)  \n",
              "0                     5001             2384             7041    104000  \n",
              "1                     5001             2384             7041    104000  \n",
              "2                     5001             2384             7041    220000  \n",
              "3                     5001             2384             7041    190000  \n",
              "4                     5001             2384             7041    100000  \n",
              "\n",
              "[5 rows x 58 columns]"
            ],
            "text/html": [
              "\n",
              "  <div id=\"df-a67b47ff-3b33-40f7-9641-14b2b5268d98\" class=\"colab-df-container\">\n",
              "    <div>\n",
              "<style scoped>\n",
              "    .dataframe tbody tr th:only-of-type {\n",
              "        vertical-align: middle;\n",
              "    }\n",
              "\n",
              "    .dataframe tbody tr th {\n",
              "        vertical-align: top;\n",
              "    }\n",
              "\n",
              "    .dataframe thead th {\n",
              "        text-align: right;\n",
              "    }\n",
              "</style>\n",
              "<table border=\"1\" class=\"dataframe\">\n",
              "  <thead>\n",
              "    <tr style=\"text-align: right;\">\n",
              "      <th></th>\n",
              "      <th>지역구</th>\n",
              "      <th>동</th>\n",
              "      <th>계약월</th>\n",
              "      <th>계약년</th>\n",
              "      <th>계약일</th>\n",
              "      <th>전용면적(㎡)</th>\n",
              "      <th>층</th>\n",
              "      <th>건축연도</th>\n",
              "      <th>공공체육시설(개소)</th>\n",
              "      <th>공원면적(천㎡)</th>\n",
              "      <th>...</th>\n",
              "      <th>건강생활실천율(%)</th>\n",
              "      <th>건강양호판단비율(%)</th>\n",
              "      <th>평균연령(세)</th>\n",
              "      <th>여성대비 남성인구 비율(%)</th>\n",
              "      <th>조이혼율(‰)</th>\n",
              "      <th>독거노인가구비율(%)</th>\n",
              "      <th>등록외국인현황(명)</th>\n",
              "      <th>다문화가구(가구)</th>\n",
              "      <th>다문화가구원(명)</th>\n",
              "      <th>거래금액(만원)</th>\n",
              "    </tr>\n",
              "  </thead>\n",
              "  <tbody>\n",
              "    <tr>\n",
              "      <th>0</th>\n",
              "      <td>강남구</td>\n",
              "      <td>개포동</td>\n",
              "      <td>12</td>\n",
              "      <td>2022</td>\n",
              "      <td>23</td>\n",
              "      <td>49.8600</td>\n",
              "      <td>4</td>\n",
              "      <td>1992</td>\n",
              "      <td>293</td>\n",
              "      <td>7794.1</td>\n",
              "      <td>...</td>\n",
              "      <td>49.4</td>\n",
              "      <td>57.3</td>\n",
              "      <td>42.7</td>\n",
              "      <td>91.7</td>\n",
              "      <td>1.3</td>\n",
              "      <td>5.9</td>\n",
              "      <td>5001</td>\n",
              "      <td>2384</td>\n",
              "      <td>7041</td>\n",
              "      <td>104000</td>\n",
              "    </tr>\n",
              "    <tr>\n",
              "      <th>1</th>\n",
              "      <td>강남구</td>\n",
              "      <td>개포동</td>\n",
              "      <td>12</td>\n",
              "      <td>2022</td>\n",
              "      <td>23</td>\n",
              "      <td>49.8600</td>\n",
              "      <td>4</td>\n",
              "      <td>1992</td>\n",
              "      <td>293</td>\n",
              "      <td>7794.1</td>\n",
              "      <td>...</td>\n",
              "      <td>49.4</td>\n",
              "      <td>57.3</td>\n",
              "      <td>42.7</td>\n",
              "      <td>91.7</td>\n",
              "      <td>1.3</td>\n",
              "      <td>5.9</td>\n",
              "      <td>5001</td>\n",
              "      <td>2384</td>\n",
              "      <td>7041</td>\n",
              "      <td>104000</td>\n",
              "    </tr>\n",
              "    <tr>\n",
              "      <th>2</th>\n",
              "      <td>강남구</td>\n",
              "      <td>개포동</td>\n",
              "      <td>12</td>\n",
              "      <td>2022</td>\n",
              "      <td>22</td>\n",
              "      <td>76.1709</td>\n",
              "      <td>24</td>\n",
              "      <td>2019</td>\n",
              "      <td>293</td>\n",
              "      <td>7794.1</td>\n",
              "      <td>...</td>\n",
              "      <td>49.4</td>\n",
              "      <td>57.3</td>\n",
              "      <td>42.7</td>\n",
              "      <td>91.7</td>\n",
              "      <td>1.3</td>\n",
              "      <td>5.9</td>\n",
              "      <td>5001</td>\n",
              "      <td>2384</td>\n",
              "      <td>7041</td>\n",
              "      <td>220000</td>\n",
              "    </tr>\n",
              "    <tr>\n",
              "      <th>3</th>\n",
              "      <td>강남구</td>\n",
              "      <td>개포동</td>\n",
              "      <td>12</td>\n",
              "      <td>2022</td>\n",
              "      <td>17</td>\n",
              "      <td>83.2100</td>\n",
              "      <td>3</td>\n",
              "      <td>1983</td>\n",
              "      <td>293</td>\n",
              "      <td>7794.1</td>\n",
              "      <td>...</td>\n",
              "      <td>49.4</td>\n",
              "      <td>57.3</td>\n",
              "      <td>42.7</td>\n",
              "      <td>91.7</td>\n",
              "      <td>1.3</td>\n",
              "      <td>5.9</td>\n",
              "      <td>5001</td>\n",
              "      <td>2384</td>\n",
              "      <td>7041</td>\n",
              "      <td>190000</td>\n",
              "    </tr>\n",
              "    <tr>\n",
              "      <th>4</th>\n",
              "      <td>강남구</td>\n",
              "      <td>개포동</td>\n",
              "      <td>12</td>\n",
              "      <td>2022</td>\n",
              "      <td>16</td>\n",
              "      <td>51.1200</td>\n",
              "      <td>15</td>\n",
              "      <td>1992</td>\n",
              "      <td>293</td>\n",
              "      <td>7794.1</td>\n",
              "      <td>...</td>\n",
              "      <td>49.4</td>\n",
              "      <td>57.3</td>\n",
              "      <td>42.7</td>\n",
              "      <td>91.7</td>\n",
              "      <td>1.3</td>\n",
              "      <td>5.9</td>\n",
              "      <td>5001</td>\n",
              "      <td>2384</td>\n",
              "      <td>7041</td>\n",
              "      <td>100000</td>\n",
              "    </tr>\n",
              "  </tbody>\n",
              "</table>\n",
              "<p>5 rows × 58 columns</p>\n",
              "</div>\n",
              "    <div class=\"colab-df-buttons\">\n",
              "\n",
              "  <div class=\"colab-df-container\">\n",
              "    <button class=\"colab-df-convert\" onclick=\"convertToInteractive('df-a67b47ff-3b33-40f7-9641-14b2b5268d98')\"\n",
              "            title=\"Convert this dataframe to an interactive table.\"\n",
              "            style=\"display:none;\">\n",
              "\n",
              "  <svg xmlns=\"http://www.w3.org/2000/svg\" height=\"24px\" viewBox=\"0 -960 960 960\">\n",
              "    <path d=\"M120-120v-720h720v720H120Zm60-500h600v-160H180v160Zm220 220h160v-160H400v160Zm0 220h160v-160H400v160ZM180-400h160v-160H180v160Zm440 0h160v-160H620v160ZM180-180h160v-160H180v160Zm440 0h160v-160H620v160Z\"/>\n",
              "  </svg>\n",
              "    </button>\n",
              "\n",
              "  <style>\n",
              "    .colab-df-container {\n",
              "      display:flex;\n",
              "      gap: 12px;\n",
              "    }\n",
              "\n",
              "    .colab-df-convert {\n",
              "      background-color: #E8F0FE;\n",
              "      border: none;\n",
              "      border-radius: 50%;\n",
              "      cursor: pointer;\n",
              "      display: none;\n",
              "      fill: #1967D2;\n",
              "      height: 32px;\n",
              "      padding: 0 0 0 0;\n",
              "      width: 32px;\n",
              "    }\n",
              "\n",
              "    .colab-df-convert:hover {\n",
              "      background-color: #E2EBFA;\n",
              "      box-shadow: 0px 1px 2px rgba(60, 64, 67, 0.3), 0px 1px 3px 1px rgba(60, 64, 67, 0.15);\n",
              "      fill: #174EA6;\n",
              "    }\n",
              "\n",
              "    .colab-df-buttons div {\n",
              "      margin-bottom: 4px;\n",
              "    }\n",
              "\n",
              "    [theme=dark] .colab-df-convert {\n",
              "      background-color: #3B4455;\n",
              "      fill: #D2E3FC;\n",
              "    }\n",
              "\n",
              "    [theme=dark] .colab-df-convert:hover {\n",
              "      background-color: #434B5C;\n",
              "      box-shadow: 0px 1px 3px 1px rgba(0, 0, 0, 0.15);\n",
              "      filter: drop-shadow(0px 1px 2px rgba(0, 0, 0, 0.3));\n",
              "      fill: #FFFFFF;\n",
              "    }\n",
              "  </style>\n",
              "\n",
              "    <script>\n",
              "      const buttonEl =\n",
              "        document.querySelector('#df-a67b47ff-3b33-40f7-9641-14b2b5268d98 button.colab-df-convert');\n",
              "      buttonEl.style.display =\n",
              "        google.colab.kernel.accessAllowed ? 'block' : 'none';\n",
              "\n",
              "      async function convertToInteractive(key) {\n",
              "        const element = document.querySelector('#df-a67b47ff-3b33-40f7-9641-14b2b5268d98');\n",
              "        const dataTable =\n",
              "          await google.colab.kernel.invokeFunction('convertToInteractive',\n",
              "                                                    [key], {});\n",
              "        if (!dataTable) return;\n",
              "\n",
              "        const docLinkHtml = 'Like what you see? Visit the ' +\n",
              "          '<a target=\"_blank\" href=https://colab.research.google.com/notebooks/data_table.ipynb>data table notebook</a>'\n",
              "          + ' to learn more about interactive tables.';\n",
              "        element.innerHTML = '';\n",
              "        dataTable['output_type'] = 'display_data';\n",
              "        await google.colab.output.renderOutput(dataTable, element);\n",
              "        const docLink = document.createElement('div');\n",
              "        docLink.innerHTML = docLinkHtml;\n",
              "        element.appendChild(docLink);\n",
              "      }\n",
              "    </script>\n",
              "  </div>\n",
              "\n",
              "\n",
              "<div id=\"df-82d37eb3-2a9b-4506-8656-da1dd0a25a11\">\n",
              "  <button class=\"colab-df-quickchart\" onclick=\"quickchart('df-82d37eb3-2a9b-4506-8656-da1dd0a25a11')\"\n",
              "            title=\"Suggest charts\"\n",
              "            style=\"display:none;\">\n",
              "\n",
              "<svg xmlns=\"http://www.w3.org/2000/svg\" height=\"24px\"viewBox=\"0 0 24 24\"\n",
              "     width=\"24px\">\n",
              "    <g>\n",
              "        <path d=\"M19 3H5c-1.1 0-2 .9-2 2v14c0 1.1.9 2 2 2h14c1.1 0 2-.9 2-2V5c0-1.1-.9-2-2-2zM9 17H7v-7h2v7zm4 0h-2V7h2v10zm4 0h-2v-4h2v4z\"/>\n",
              "    </g>\n",
              "</svg>\n",
              "  </button>\n",
              "\n",
              "<style>\n",
              "  .colab-df-quickchart {\n",
              "      --bg-color: #E8F0FE;\n",
              "      --fill-color: #1967D2;\n",
              "      --hover-bg-color: #E2EBFA;\n",
              "      --hover-fill-color: #174EA6;\n",
              "      --disabled-fill-color: #AAA;\n",
              "      --disabled-bg-color: #DDD;\n",
              "  }\n",
              "\n",
              "  [theme=dark] .colab-df-quickchart {\n",
              "      --bg-color: #3B4455;\n",
              "      --fill-color: #D2E3FC;\n",
              "      --hover-bg-color: #434B5C;\n",
              "      --hover-fill-color: #FFFFFF;\n",
              "      --disabled-bg-color: #3B4455;\n",
              "      --disabled-fill-color: #666;\n",
              "  }\n",
              "\n",
              "  .colab-df-quickchart {\n",
              "    background-color: var(--bg-color);\n",
              "    border: none;\n",
              "    border-radius: 50%;\n",
              "    cursor: pointer;\n",
              "    display: none;\n",
              "    fill: var(--fill-color);\n",
              "    height: 32px;\n",
              "    padding: 0;\n",
              "    width: 32px;\n",
              "  }\n",
              "\n",
              "  .colab-df-quickchart:hover {\n",
              "    background-color: var(--hover-bg-color);\n",
              "    box-shadow: 0 1px 2px rgba(60, 64, 67, 0.3), 0 1px 3px 1px rgba(60, 64, 67, 0.15);\n",
              "    fill: var(--button-hover-fill-color);\n",
              "  }\n",
              "\n",
              "  .colab-df-quickchart-complete:disabled,\n",
              "  .colab-df-quickchart-complete:disabled:hover {\n",
              "    background-color: var(--disabled-bg-color);\n",
              "    fill: var(--disabled-fill-color);\n",
              "    box-shadow: none;\n",
              "  }\n",
              "\n",
              "  .colab-df-spinner {\n",
              "    border: 2px solid var(--fill-color);\n",
              "    border-color: transparent;\n",
              "    border-bottom-color: var(--fill-color);\n",
              "    animation:\n",
              "      spin 1s steps(1) infinite;\n",
              "  }\n",
              "\n",
              "  @keyframes spin {\n",
              "    0% {\n",
              "      border-color: transparent;\n",
              "      border-bottom-color: var(--fill-color);\n",
              "      border-left-color: var(--fill-color);\n",
              "    }\n",
              "    20% {\n",
              "      border-color: transparent;\n",
              "      border-left-color: var(--fill-color);\n",
              "      border-top-color: var(--fill-color);\n",
              "    }\n",
              "    30% {\n",
              "      border-color: transparent;\n",
              "      border-left-color: var(--fill-color);\n",
              "      border-top-color: var(--fill-color);\n",
              "      border-right-color: var(--fill-color);\n",
              "    }\n",
              "    40% {\n",
              "      border-color: transparent;\n",
              "      border-right-color: var(--fill-color);\n",
              "      border-top-color: var(--fill-color);\n",
              "    }\n",
              "    60% {\n",
              "      border-color: transparent;\n",
              "      border-right-color: var(--fill-color);\n",
              "    }\n",
              "    80% {\n",
              "      border-color: transparent;\n",
              "      border-right-color: var(--fill-color);\n",
              "      border-bottom-color: var(--fill-color);\n",
              "    }\n",
              "    90% {\n",
              "      border-color: transparent;\n",
              "      border-bottom-color: var(--fill-color);\n",
              "    }\n",
              "  }\n",
              "</style>\n",
              "\n",
              "  <script>\n",
              "    async function quickchart(key) {\n",
              "      const quickchartButtonEl =\n",
              "        document.querySelector('#' + key + ' button');\n",
              "      quickchartButtonEl.disabled = true;  // To prevent multiple clicks.\n",
              "      quickchartButtonEl.classList.add('colab-df-spinner');\n",
              "      try {\n",
              "        const charts = await google.colab.kernel.invokeFunction(\n",
              "            'suggestCharts', [key], {});\n",
              "      } catch (error) {\n",
              "        console.error('Error during call to suggestCharts:', error);\n",
              "      }\n",
              "      quickchartButtonEl.classList.remove('colab-df-spinner');\n",
              "      quickchartButtonEl.classList.add('colab-df-quickchart-complete');\n",
              "    }\n",
              "    (() => {\n",
              "      let quickchartButtonEl =\n",
              "        document.querySelector('#df-82d37eb3-2a9b-4506-8656-da1dd0a25a11 button');\n",
              "      quickchartButtonEl.style.display =\n",
              "        google.colab.kernel.accessAllowed ? 'block' : 'none';\n",
              "    })();\n",
              "  </script>\n",
              "</div>\n",
              "\n",
              "    </div>\n",
              "  </div>\n"
            ]
          },
          "metadata": {},
          "execution_count": 2
        }
      ]
    },
    {
      "cell_type": "code",
      "source": [
        "df.columns"
      ],
      "metadata": {
        "colab": {
          "base_uri": "https://localhost:8080/"
        },
        "id": "IfDETiLEkg1-",
        "outputId": "a376526b-312f-4cb4-d2af-12023112efa4"
      },
      "execution_count": null,
      "outputs": [
        {
          "output_type": "execute_result",
          "data": {
            "text/plain": [
              "Index(['지역구', '동', '계약월', '계약년', '계약일', '전용면적(㎡)', '층', '건축연도', '공공체육시설(개소)',\n",
              "       '공원면적(천㎡)', '경찰 및 소방관서(개소)', '전체병원(개소)', '종합병원(개소)',\n",
              "       '노인여가복지시설(개소)', '요양기관수(개소)', '보육시설(개소)', '초등학교(개소)',\n",
              "       '고등학교(개소)', '학급당 학생수 평균(명)', '학원(개소)', '범죄건수(건)', 'KOSPI',\n",
              "       '전국 소비자물가지수(2020=100)', '기준금리(%)', '건강보험급여(천원)',\n",
              "       '서울시 소비자물가지수(2020=100)', '예금은행대출금액(십억원)', '예금은행예금액(십억원)',\n",
              "       '소비자물가 등락률(%)', '임금상승률(%)', '제조업생산 증감률(%)', '서비스업생산 증감률(%)',\n",
              "       '수입액(백만달러)', '수출액(백만달러)', '지방세(백만원)', '재정자립도(%)', '국내총생산(명목GDP,십억원)',\n",
              "       '경제성장률(실질GDP성장률,%)', '청년고용률(%)', '청년실업률(%)', '실업률(%)', '실업자수(천명)',\n",
              "       '취업자증감(천명)', '흡연율(%)', '월간음주율(%)', '비만율(%)', '연간출산율(%)', '인플루엔자 접종률(%)',\n",
              "       '건강생활실천율(%)', '건강양호판단비율(%)', '평균연령(세)', '여성대비 남성인구 비율(%)', '조이혼율(‰)',\n",
              "       '독거노인가구비율(%)', '등록외국인현황(명)', '다문화가구(가구)',\n",
              "       '다문화가구원(명)', '거래금액(만원)'],\n",
              "      dtype='object')"
            ]
          },
          "metadata": {},
          "execution_count": 3
        }
      ]
    },
    {
      "cell_type": "code",
      "source": [
        "df.columns.nunique()"
      ],
      "metadata": {
        "colab": {
          "base_uri": "https://localhost:8080/"
        },
        "id": "KFriJm4glr_T",
        "outputId": "12c69cba-9ddd-4c83-d0f0-b253034a575d"
      },
      "execution_count": null,
      "outputs": [
        {
          "output_type": "execute_result",
          "data": {
            "text/plain": [
              "58"
            ]
          },
          "metadata": {},
          "execution_count": 4
        }
      ]
    },
    {
      "cell_type": "code",
      "source": [
        "cols = ['제조업생산 증감률(%)', '계약월', '계약일', '수출액(백만달러)', '실업률(%)', '서비스업생산 증감률(%)', '취업자증감(천명)', '경제성장률(실질GDP성장률,%)', '실업자수(천명)', '월간음주율(%)', '임금상승률(%)']\n",
        "df = df.drop(cols, axis=1)"
      ],
      "metadata": {
        "id": "DQkdyDsEkaKW"
      },
      "execution_count": null,
      "outputs": []
    },
    {
      "cell_type": "code",
      "source": [
        "df.columns"
      ],
      "metadata": {
        "colab": {
          "base_uri": "https://localhost:8080/"
        },
        "id": "3z3iNWR6lL6s",
        "outputId": "4857fc6b-50ae-40ca-deab-c61d9f461f65"
      },
      "execution_count": null,
      "outputs": [
        {
          "output_type": "execute_result",
          "data": {
            "text/plain": [
              "Index(['지역구', '동', '계약년', '전용면적(㎡)', '층', '건축연도', '공공체육시설(개소)', '공원면적(천㎡)',\n",
              "       '경찰 및 소방관서(개소)', '전체병원(개소)', '종합병원(개소)', '노인여가복지시설(개소)',\n",
              "       '요양기관수(개소)', '보육시설(개소)', '초등학교(개소)', '고등학교(개소)', '학급당 학생수 평균(명)',\n",
              "       '학원(개소)', '범죄건수(건)', 'KOSPI', '전국 소비자물가지수(2020=100)', '기준금리(%)',\n",
              "       '건강보험급여(천원)', '서울시 소비자물가지수(2020=100)', '예금은행대출금액(십억원)', '예금은행예금액(십억원)',\n",
              "       '소비자물가 등락률(%)', '수입액(백만달러)', '지방세(백만원)', '재정자립도(%)', '국내총생산(명목GDP,십억원)',\n",
              "       '청년고용률(%)', '청년실업률(%)', '흡연율(%)', '비만율(%)', '연간출산율(%)', '인플루엔자 접종률(%)',\n",
              "       '건강생활실천율(%)', '건강양호판단비율(%)', '평균연령(세)', '여성대비 남성인구 비율(%)', '조이혼율(‰)',\n",
              "       '독거노인가구비율(%)', '등록외국인현황(명)', '다문화가구(가구)',\n",
              "       '다문화가구원(명)', '거래금액(만원)'],\n",
              "      dtype='object')"
            ]
          },
          "metadata": {},
          "execution_count": 6
        }
      ]
    },
    {
      "cell_type": "code",
      "source": [
        "df.columns.nunique()"
      ],
      "metadata": {
        "colab": {
          "base_uri": "https://localhost:8080/"
        },
        "id": "CAMV0b0TlMmj",
        "outputId": "845ce094-707f-46af-e481-8ff2e2a1e7c4"
      },
      "execution_count": null,
      "outputs": [
        {
          "output_type": "execute_result",
          "data": {
            "text/plain": [
              "47"
            ]
          },
          "metadata": {},
          "execution_count": 7
        }
      ]
    },
    {
      "cell_type": "code",
      "source": [
        "df.to_csv('data(ver.4.3)_하은.csv')"
      ],
      "metadata": {
        "id": "PIEhYIaQlTB8"
      },
      "execution_count": null,
      "outputs": []
    },
    {
      "cell_type": "code",
      "source": [
        "pip install -q flaml[notebook]"
      ],
      "metadata": {
        "colab": {
          "base_uri": "https://localhost:8080/"
        },
        "id": "h-fYD1rVmTX_",
        "outputId": "fc0ddf4b-39a4-4e60-d688-2dcc253ed0cd"
      },
      "execution_count": null,
      "outputs": [
        {
          "output_type": "stream",
          "name": "stdout",
          "text": [
            "\u001b[2K     \u001b[90m━━━━━━━━━━━━━━━━━━━━━━━━━━━━━━━━━━━━━━━━\u001b[0m \u001b[32m295.2/295.2 kB\u001b[0m \u001b[31m5.8 MB/s\u001b[0m eta \u001b[36m0:00:00\u001b[0m\n",
            "\u001b[2K     \u001b[90m━━━━━━━━━━━━━━━━━━━━━━━━━━━━━━━━━━━━━━━━\u001b[0m \u001b[32m123.4/123.4 kB\u001b[0m \u001b[31m17.0 MB/s\u001b[0m eta \u001b[36m0:00:00\u001b[0m\n",
            "\u001b[2K     \u001b[90m━━━━━━━━━━━━━━━━━━━━━━━━━━━━━━━━━━━━━━━━\u001b[0m \u001b[32m93.5/93.5 kB\u001b[0m \u001b[31m11.5 MB/s\u001b[0m eta \u001b[36m0:00:00\u001b[0m\n",
            "\u001b[2K     \u001b[90m━━━━━━━━━━━━━━━━━━━━━━━━━━━━━━━━━━━━━━━━\u001b[0m \u001b[32m1.6/1.6 MB\u001b[0m \u001b[31m49.2 MB/s\u001b[0m eta \u001b[36m0:00:00\u001b[0m\n",
            "\u001b[?25h"
          ]
        }
      ]
    },
    {
      "cell_type": "code",
      "source": [
        "# 상관관계 분석\n",
        "df_corr = df.corr()\n",
        "df_corr['거래금액(만원)'] = abs(df_corr['거래금액(만원)'])\n",
        "df_corr = df_corr.sort_values('거래금액(만원)', ascending=False)\n",
        "df_corr.iloc[:,-1]"
      ],
      "metadata": {
        "colab": {
          "base_uri": "https://localhost:8080/"
        },
        "id": "MgrxVWYrmYmv",
        "outputId": "1e887df2-460c-48cf-b526-1b37ca50963d"
      },
      "execution_count": null,
      "outputs": [
        {
          "output_type": "stream",
          "name": "stderr",
          "text": [
            "<ipython-input-10-fbf7bd698b53>:2: FutureWarning: The default value of numeric_only in DataFrame.corr is deprecated. In a future version, it will default to False. Select only valid columns or specify the value of numeric_only to silence this warning.\n",
            "  df_corr = df.corr()\n"
          ]
        },
        {
          "output_type": "execute_result",
          "data": {
            "text/plain": [
              "거래금액(만원)                   1.000000\n",
              "전용면적(㎡)                    0.571715\n",
              "재정자립도(%)                   0.490157\n",
              "전체병원(개소)                   0.440482\n",
              "요양기관수(개소)                  0.439333\n",
              "흡연율(%)                     0.426387\n",
              "조이혼율(‰)                    0.426264\n",
              "건강양호판단비율(%)                0.374262\n",
              "여성대비 남성인구 비율(%)            0.372157\n",
              "학원(개소)                     0.361336\n",
              "연간출산율(%)                   0.357892\n",
              "계약년                        0.318050\n",
              "지방세(백만원)                   0.316694\n",
              "예금은행예금액(십억원)               0.316157\n",
              "예금은행대출금액(십억원)              0.311163\n",
              "국내총생산(명목GDP,십억원)           0.308896\n",
              "청년고용률(%)                   0.307530\n",
              "전국 소비자물가지수(2020=100)     0.306040\n",
              "서울시 소비자물가지수(2020=100)      0.304805\n",
              "인플루엔자 접종률(%)               0.295342\n",
              "수입액(백만달러)                  0.246821\n",
              "보육시설(개소)                   0.244823\n",
              "KOSPI                      0.229763\n",
              "기준금리(%)                    0.217209\n",
              "경찰 및 소방관서(개소)              0.204764\n",
              "독거노인가구비율(%)                0.196031\n",
              "청년실업률(%)                   0.192321\n",
              "공공체육시설(개소)                 0.190079\n",
              "범죄건수(건)                    0.165876\n",
              "건강보험급여(천원)                 0.161331\n",
              "층                          0.158397\n",
              "건강생활실천율(%)                 0.154474\n",
              "비만율(%)                     0.146004\n",
              "다문화가구(가구)            0.108683\n",
              "등록외국인현황(명)    0.102444\n",
              "다문화가구원(명)            0.101657\n",
              "노인여가복지시설(개소)    0.077806\n",
              "건축연도                       0.048591\n",
              "공원면적(천㎡)                   0.030295\n",
              "평균연령(세)                    0.025177\n",
              "소비자물가 등락률(%)               0.019015\n",
              "종합병원(개소)                   0.018038\n",
              "학급당 학생수 평균(명)              0.013487\n",
              "초등학교(개소)                   0.001444\n",
              "고등학교(개소)                   0.001321\n",
              "Name: 거래금액(만원), dtype: float64"
            ]
          },
          "metadata": {},
          "execution_count": 10
        }
      ]
    },
    {
      "cell_type": "code",
      "source": [
        "# df 컬럼명 전처리\n",
        "df.columns = df.columns.str.replace(r'\\([^)]*\\)', '', regex=True)\n",
        "df.columns = df.columns.str.replace(r' ', '_', regex=True)\n",
        "df.columns\n",
        "\n",
        "\n",
        "# MinMaxScaling\n",
        "from sklearn.preprocessing import MinMaxScaler\n",
        "scaler = MinMaxScaler()\n",
        "cols = df.select_dtypes(exclude='object').columns\n",
        "cols = cols.drop('거래금액')\n",
        "df[cols] = scaler.fit_transform(df[cols])\n",
        "df.head()\n",
        "\n",
        "\n",
        "# Label Encoding\n",
        "from sklearn.preprocessing import LabelEncoder\n",
        "cols = ['지역구', '동']\n",
        "for col in cols:\n",
        "  le = LabelEncoder()\n",
        "  df[col] = le.fit_transform(df[col])\n",
        "df.head()\n",
        "\n",
        "\n",
        "# train test 나누기\n",
        "X_train = df[df['계약년']<=0.6].drop('거래금액', axis=1)\n",
        "X_test = df[df['계약년']>=0.6].drop('거래금액', axis=1)\n",
        "y_train = df[df['계약년']<0.6]['거래금액']\n",
        "y_test = df[df['계약년']>=0.6]['거래금액']\n",
        "X_train.shape, X_test.shape, y_train.shape, y_test.shape"
      ],
      "metadata": {
        "id": "2wNQIRy8mcsE",
        "colab": {
          "base_uri": "https://localhost:8080/"
        },
        "outputId": "45412456-b6b8-4604-8486-2925dba2c663"
      },
      "execution_count": null,
      "outputs": [
        {
          "output_type": "execute_result",
          "data": {
            "text/plain": [
              "((492392, 46), (140339, 46), (492392,), (140339,))"
            ]
          },
          "metadata": {},
          "execution_count": 11
        }
      ]
    },
    {
      "cell_type": "markdown",
      "source": [
        "### 1. 하이퍼 넣고"
      ],
      "metadata": {
        "id": "IaQ_QQWL4vN5"
      }
    },
    {
      "cell_type": "markdown",
      "source": [
        "----"
      ],
      "metadata": {
        "id": "eDNIlSYW4LOM"
      }
    },
    {
      "cell_type": "code",
      "source": [
        "from sklearn.ensemble import VotingRegressor\n",
        "import xgboost as xgb\n",
        "import lightgbm as lgb"
      ],
      "metadata": {
        "id": "DUTzVI2vIuYC"
      },
      "execution_count": null,
      "outputs": []
    },
    {
      "cell_type": "code",
      "source": [
        "myD = {'n_estimators': 218, 'num_leaves': 39, 'min_child_samples': 4, 'learning_rate': 0.18908812295671118, 'log_max_bin': 9, 'colsample_bytree': 0.7965188503204359, 'reg_alpha': 0.004577823970660194, 'reg_lambda': 0.02722880765786953}\n",
        "\n",
        "for k, v in myD.items():\n",
        "  print(f'{k}={v},')"
      ],
      "metadata": {
        "colab": {
          "base_uri": "https://localhost:8080/"
        },
        "id": "H9hPudU8LkY2",
        "outputId": "c777e3ed-b34a-4d4c-e1b3-56cd9aa5982f"
      },
      "execution_count": null,
      "outputs": [
        {
          "output_type": "stream",
          "name": "stdout",
          "text": [
            "n_estimators=218,\n",
            "num_leaves=39,\n",
            "min_child_samples=4,\n",
            "learning_rate=0.18908812295671118,\n",
            "log_max_bin=9,\n",
            "colsample_bytree=0.7965188503204359,\n",
            "reg_alpha=0.004577823970660194,\n",
            "reg_lambda=0.02722880765786953,\n"
          ]
        }
      ]
    },
    {
      "cell_type": "code",
      "source": [
        "# LightGBM 모델 생성 및 하이퍼파라미터 설정\n",
        "lightgbm_regressor = lgb.LGBMRegressor(\n",
        "    n_estimators=218,\n",
        "num_leaves=39,\n",
        "min_child_samples=4,\n",
        "learning_rate=0.18908812295671118,\n",
        "max_bin=81,\n",
        "colsample_bytree=0.7965188503204359,\n",
        "reg_alpha=0.004577823970660194,\n",
        "reg_lambda=0.02722880765786953,\n",
        "    force_row_wise=True\n",
        ")"
      ],
      "metadata": {
        "id": "PAra8cTbK-Ik"
      },
      "execution_count": null,
      "outputs": []
    },
    {
      "cell_type": "code",
      "source": [
        "myD={'n_estimators': 2138, 'max_leaves': 90, 'min_child_weight': 48.18259460060557, 'learning_rate': 0.09201761794739151, 'subsample': 0.9292526044699931, 'colsample_bylevel': 0.5460500189132015, 'colsample_bytree': 0.5305598836456215, 'reg_alpha': 0.10802490316852457, 'reg_lambda': 0.8769925618432641}\n",
        "\n",
        "\n",
        "for k, v in myD.items():\n",
        "  print(f'{k}={v},')"
      ],
      "metadata": {
        "colab": {
          "base_uri": "https://localhost:8080/"
        },
        "id": "OTXdO9BaM7Sj",
        "outputId": "d493b1e0-20b6-4057-bd6a-59109fdb7d5c"
      },
      "execution_count": null,
      "outputs": [
        {
          "output_type": "stream",
          "name": "stdout",
          "text": [
            "n_estimators=2138,\n",
            "max_leaves=90,\n",
            "min_child_weight=48.18259460060557,\n",
            "learning_rate=0.09201761794739151,\n",
            "subsample=0.9292526044699931,\n",
            "colsample_bylevel=0.5460500189132015,\n",
            "colsample_bytree=0.5305598836456215,\n",
            "reg_alpha=0.10802490316852457,\n",
            "reg_lambda=0.8769925618432641,\n"
          ]
        }
      ]
    },
    {
      "cell_type": "code",
      "source": [
        "# XGBoost 모델 생성 및 하이퍼파라미터 설정\n",
        "xgboost_regressor = xgb.XGBRegressor(\n",
        "   n_estimators=2138,\n",
        "max_leaves=90,\n",
        "min_child_weight=48.18259460060557,\n",
        "learning_rate=0.09201761794739151,\n",
        "subsample=0.9292526044699931,\n",
        "colsample_bylevel=0.5460500189132015,\n",
        "colsample_bytree=0.5305598836456215,\n",
        "reg_alpha=0.10802490316852457,\n",
        "reg_lambda=0.8769925618432641,\n",
        ")"
      ],
      "metadata": {
        "id": "MrcOi_58Kr6f"
      },
      "execution_count": null,
      "outputs": []
    },
    {
      "cell_type": "code",
      "source": [
        "voting_regressor = VotingRegressor(\n",
        "    estimators=[\n",
        "        ('XG', xgboost_regressor),\n",
        "        ('LGBM', lightgbm_regressor),\n",
        "    ]\n",
        ")\n",
        "\n",
        "# 모델 학습\n",
        "voting_regressor.fit(X_train, y_train)\n",
        "\n"
      ],
      "metadata": {
        "colab": {
          "base_uri": "https://localhost:8080/",
          "height": 165
        },
        "id": "UagHdE1fI18P",
        "outputId": "d3c3199f-f4c4-492a-eab4-33a7b1c250c2"
      },
      "execution_count": null,
      "outputs": [
        {
          "output_type": "stream",
          "name": "stdout",
          "text": [
            "[LightGBM] [Info] Total Bins 2245\n",
            "[LightGBM] [Info] Number of data points in the train set: 492392, number of used features: 46\n",
            "[LightGBM] [Info] Start training from score 60288.455954\n"
          ]
        },
        {
          "output_type": "execute_result",
          "data": {
            "text/plain": [
              "VotingRegressor(estimators=[('XG',\n",
              "                             XGBRegressor(base_score=None, booster=None,\n",
              "                                          callbacks=None,\n",
              "                                          colsample_bylevel=0.5460500189132015,\n",
              "                                          colsample_bynode=None,\n",
              "                                          colsample_bytree=0.5305598836456215,\n",
              "                                          device=None,\n",
              "                                          early_stopping_rounds=None,\n",
              "                                          enable_categorical=False,\n",
              "                                          eval_metric=None, feature_types=None,\n",
              "                                          gamma=None, grow_policy=None,\n",
              "                                          importance_type=None,\n",
              "                                          interaction_con...\n",
              "                                          monotone_constraints=None,\n",
              "                                          multi_strategy=None,\n",
              "                                          n_estimators=2138, n_jobs=None,\n",
              "                                          num_parallel_tree=None,\n",
              "                                          random_state=None, ...)),\n",
              "                            ('LGBM',\n",
              "                             LGBMRegressor(colsample_bytree=0.7965188503204359,\n",
              "                                           force_row_wise=True,\n",
              "                                           learning_rate=0.18908812295671118,\n",
              "                                           max_bin=81, min_child_samples=4,\n",
              "                                           n_estimators=218, num_leaves=39,\n",
              "                                           reg_alpha=0.004577823970660194,\n",
              "                                           reg_lambda=0.02722880765786953))])"
            ],
            "text/html": [
              "<style>#sk-container-id-3 {color: black;background-color: white;}#sk-container-id-3 pre{padding: 0;}#sk-container-id-3 div.sk-toggleable {background-color: white;}#sk-container-id-3 label.sk-toggleable__label {cursor: pointer;display: block;width: 100%;margin-bottom: 0;padding: 0.3em;box-sizing: border-box;text-align: center;}#sk-container-id-3 label.sk-toggleable__label-arrow:before {content: \"▸\";float: left;margin-right: 0.25em;color: #696969;}#sk-container-id-3 label.sk-toggleable__label-arrow:hover:before {color: black;}#sk-container-id-3 div.sk-estimator:hover label.sk-toggleable__label-arrow:before {color: black;}#sk-container-id-3 div.sk-toggleable__content {max-height: 0;max-width: 0;overflow: hidden;text-align: left;background-color: #f0f8ff;}#sk-container-id-3 div.sk-toggleable__content pre {margin: 0.2em;color: black;border-radius: 0.25em;background-color: #f0f8ff;}#sk-container-id-3 input.sk-toggleable__control:checked~div.sk-toggleable__content {max-height: 200px;max-width: 100%;overflow: auto;}#sk-container-id-3 input.sk-toggleable__control:checked~label.sk-toggleable__label-arrow:before {content: \"▾\";}#sk-container-id-3 div.sk-estimator input.sk-toggleable__control:checked~label.sk-toggleable__label {background-color: #d4ebff;}#sk-container-id-3 div.sk-label input.sk-toggleable__control:checked~label.sk-toggleable__label {background-color: #d4ebff;}#sk-container-id-3 input.sk-hidden--visually {border: 0;clip: rect(1px 1px 1px 1px);clip: rect(1px, 1px, 1px, 1px);height: 1px;margin: -1px;overflow: hidden;padding: 0;position: absolute;width: 1px;}#sk-container-id-3 div.sk-estimator {font-family: monospace;background-color: #f0f8ff;border: 1px dotted black;border-radius: 0.25em;box-sizing: border-box;margin-bottom: 0.5em;}#sk-container-id-3 div.sk-estimator:hover {background-color: #d4ebff;}#sk-container-id-3 div.sk-parallel-item::after {content: \"\";width: 100%;border-bottom: 1px solid gray;flex-grow: 1;}#sk-container-id-3 div.sk-label:hover label.sk-toggleable__label {background-color: #d4ebff;}#sk-container-id-3 div.sk-serial::before {content: \"\";position: absolute;border-left: 1px solid gray;box-sizing: border-box;top: 0;bottom: 0;left: 50%;z-index: 0;}#sk-container-id-3 div.sk-serial {display: flex;flex-direction: column;align-items: center;background-color: white;padding-right: 0.2em;padding-left: 0.2em;position: relative;}#sk-container-id-3 div.sk-item {position: relative;z-index: 1;}#sk-container-id-3 div.sk-parallel {display: flex;align-items: stretch;justify-content: center;background-color: white;position: relative;}#sk-container-id-3 div.sk-item::before, #sk-container-id-3 div.sk-parallel-item::before {content: \"\";position: absolute;border-left: 1px solid gray;box-sizing: border-box;top: 0;bottom: 0;left: 50%;z-index: -1;}#sk-container-id-3 div.sk-parallel-item {display: flex;flex-direction: column;z-index: 1;position: relative;background-color: white;}#sk-container-id-3 div.sk-parallel-item:first-child::after {align-self: flex-end;width: 50%;}#sk-container-id-3 div.sk-parallel-item:last-child::after {align-self: flex-start;width: 50%;}#sk-container-id-3 div.sk-parallel-item:only-child::after {width: 0;}#sk-container-id-3 div.sk-dashed-wrapped {border: 1px dashed gray;margin: 0 0.4em 0.5em 0.4em;box-sizing: border-box;padding-bottom: 0.4em;background-color: white;}#sk-container-id-3 div.sk-label label {font-family: monospace;font-weight: bold;display: inline-block;line-height: 1.2em;}#sk-container-id-3 div.sk-label-container {text-align: center;}#sk-container-id-3 div.sk-container {/* jupyter's `normalize.less` sets `[hidden] { display: none; }` but bootstrap.min.css set `[hidden] { display: none !important; }` so we also need the `!important` here to be able to override the default hidden behavior on the sphinx rendered scikit-learn.org. See: https://github.com/scikit-learn/scikit-learn/issues/21755 */display: inline-block !important;position: relative;}#sk-container-id-3 div.sk-text-repr-fallback {display: none;}</style><div id=\"sk-container-id-3\" class=\"sk-top-container\"><div class=\"sk-text-repr-fallback\"><pre>VotingRegressor(estimators=[(&#x27;XG&#x27;,\n",
              "                             XGBRegressor(base_score=None, booster=None,\n",
              "                                          callbacks=None,\n",
              "                                          colsample_bylevel=0.5460500189132015,\n",
              "                                          colsample_bynode=None,\n",
              "                                          colsample_bytree=0.5305598836456215,\n",
              "                                          device=None,\n",
              "                                          early_stopping_rounds=None,\n",
              "                                          enable_categorical=False,\n",
              "                                          eval_metric=None, feature_types=None,\n",
              "                                          gamma=None, grow_policy=None,\n",
              "                                          importance_type=None,\n",
              "                                          interaction_con...\n",
              "                                          monotone_constraints=None,\n",
              "                                          multi_strategy=None,\n",
              "                                          n_estimators=2138, n_jobs=None,\n",
              "                                          num_parallel_tree=None,\n",
              "                                          random_state=None, ...)),\n",
              "                            (&#x27;LGBM&#x27;,\n",
              "                             LGBMRegressor(colsample_bytree=0.7965188503204359,\n",
              "                                           force_row_wise=True,\n",
              "                                           learning_rate=0.18908812295671118,\n",
              "                                           max_bin=81, min_child_samples=4,\n",
              "                                           n_estimators=218, num_leaves=39,\n",
              "                                           reg_alpha=0.004577823970660194,\n",
              "                                           reg_lambda=0.02722880765786953))])</pre><b>In a Jupyter environment, please rerun this cell to show the HTML representation or trust the notebook. <br />On GitHub, the HTML representation is unable to render, please try loading this page with nbviewer.org.</b></div><div class=\"sk-container\" hidden><div class=\"sk-item sk-dashed-wrapped\"><div class=\"sk-label-container\"><div class=\"sk-label sk-toggleable\"><input class=\"sk-toggleable__control sk-hidden--visually\" id=\"sk-estimator-id-7\" type=\"checkbox\" ><label for=\"sk-estimator-id-7\" class=\"sk-toggleable__label sk-toggleable__label-arrow\">VotingRegressor</label><div class=\"sk-toggleable__content\"><pre>VotingRegressor(estimators=[(&#x27;XG&#x27;,\n",
              "                             XGBRegressor(base_score=None, booster=None,\n",
              "                                          callbacks=None,\n",
              "                                          colsample_bylevel=0.5460500189132015,\n",
              "                                          colsample_bynode=None,\n",
              "                                          colsample_bytree=0.5305598836456215,\n",
              "                                          device=None,\n",
              "                                          early_stopping_rounds=None,\n",
              "                                          enable_categorical=False,\n",
              "                                          eval_metric=None, feature_types=None,\n",
              "                                          gamma=None, grow_policy=None,\n",
              "                                          importance_type=None,\n",
              "                                          interaction_con...\n",
              "                                          monotone_constraints=None,\n",
              "                                          multi_strategy=None,\n",
              "                                          n_estimators=2138, n_jobs=None,\n",
              "                                          num_parallel_tree=None,\n",
              "                                          random_state=None, ...)),\n",
              "                            (&#x27;LGBM&#x27;,\n",
              "                             LGBMRegressor(colsample_bytree=0.7965188503204359,\n",
              "                                           force_row_wise=True,\n",
              "                                           learning_rate=0.18908812295671118,\n",
              "                                           max_bin=81, min_child_samples=4,\n",
              "                                           n_estimators=218, num_leaves=39,\n",
              "                                           reg_alpha=0.004577823970660194,\n",
              "                                           reg_lambda=0.02722880765786953))])</pre></div></div></div><div class=\"sk-parallel\"><div class=\"sk-parallel-item\"><div class=\"sk-item\"><div class=\"sk-label-container\"><div class=\"sk-label sk-toggleable\"><label>XG</label></div></div><div class=\"sk-serial\"><div class=\"sk-item\"><div class=\"sk-estimator sk-toggleable\"><input class=\"sk-toggleable__control sk-hidden--visually\" id=\"sk-estimator-id-8\" type=\"checkbox\" ><label for=\"sk-estimator-id-8\" class=\"sk-toggleable__label sk-toggleable__label-arrow\">XGBRegressor</label><div class=\"sk-toggleable__content\"><pre>XGBRegressor(base_score=None, booster=None, callbacks=None,\n",
              "             colsample_bylevel=0.5460500189132015, colsample_bynode=None,\n",
              "             colsample_bytree=0.5305598836456215, device=None,\n",
              "             early_stopping_rounds=None, enable_categorical=False,\n",
              "             eval_metric=None, feature_types=None, gamma=None, grow_policy=None,\n",
              "             importance_type=None, interaction_constraints=None,\n",
              "             learning_rate=0.09201761794739151, max_bin=None,\n",
              "             max_cat_threshold=None, max_cat_to_onehot=None,\n",
              "             max_delta_step=None, max_depth=None, max_leaves=90,\n",
              "             min_child_weight=48.18259460060557, missing=nan,\n",
              "             monotone_constraints=None, multi_strategy=None, n_estimators=2138,\n",
              "             n_jobs=None, num_parallel_tree=None, random_state=None, ...)</pre></div></div></div></div></div></div><div class=\"sk-parallel-item\"><div class=\"sk-item\"><div class=\"sk-label-container\"><div class=\"sk-label sk-toggleable\"><label>LGBM</label></div></div><div class=\"sk-serial\"><div class=\"sk-item\"><div class=\"sk-estimator sk-toggleable\"><input class=\"sk-toggleable__control sk-hidden--visually\" id=\"sk-estimator-id-9\" type=\"checkbox\" ><label for=\"sk-estimator-id-9\" class=\"sk-toggleable__label sk-toggleable__label-arrow\">LGBMRegressor</label><div class=\"sk-toggleable__content\"><pre>LGBMRegressor(colsample_bytree=0.7965188503204359, force_row_wise=True,\n",
              "              learning_rate=0.18908812295671118, max_bin=81,\n",
              "              min_child_samples=4, n_estimators=218, num_leaves=39,\n",
              "              reg_alpha=0.004577823970660194, reg_lambda=0.02722880765786953)</pre></div></div></div></div></div></div></div></div></div></div>"
            ]
          },
          "metadata": {},
          "execution_count": 30
        }
      ]
    },
    {
      "cell_type": "code",
      "source": [
        "from sklearn.metrics import mean_absolute_error,mean_squared_error\n",
        "\n",
        "y_pred = voting_regressor.predict(X_test)\n",
        "\n",
        "mse = mean_squared_error(y_test, y_pred)\n",
        "mae = mean_absolute_error(y_test, y_pred)\n",
        "r_squared = voting_regressor.score(X_test, y_test)\n",
        "\n",
        "\n",
        "print('Mean Squared Error (MSE) =', mse)\n",
        "print('Mean Absolute Error (MAE) =', mae)\n",
        "print(f'R-squared: {r_squared}')\n",
        "\n",
        "\n"
      ],
      "metadata": {
        "colab": {
          "base_uri": "https://localhost:8080/"
        },
        "id": "dPoOLMGzfZO8",
        "outputId": "9176246d-63a9-4269-9344-ece970febf2f"
      },
      "execution_count": null,
      "outputs": [
        {
          "output_type": "stream",
          "name": "stdout",
          "text": [
            "Mean Squared Error (MSE) = 1032422829.761229\n",
            "Mean Absolute Error (MAE) = 20580.57609276405\n",
            "R-squared: 0.7739748337922192\n"
          ]
        }
      ]
    },
    {
      "cell_type": "code",
      "source": [
        "xgboost_regressor.fit(X_train, y_train)\n",
        "\n",
        "# XGBoost 모델의 피처 중요도 계산\n",
        "\n",
        "ft = pd.Series(xgboost_regressor.feature_importances_,\n",
        "          index=xgboost_regressor.feature_names_in_)\\\n",
        "    .sort_values(ascending=False)\n",
        "print(ft)\n"
      ],
      "metadata": {
        "colab": {
          "base_uri": "https://localhost:8080/"
        },
        "id": "vmgANK4CqiIs",
        "outputId": "655c1c04-06ee-476a-9db1-88c927f5d945"
      },
      "execution_count": null,
      "outputs": [
        {
          "output_type": "stream",
          "name": "stdout",
          "text": [
            "요양기관수                   0.118277\n",
            "재정자립도                   0.104888\n",
            "서울시_소비자물가지수             0.091590\n",
            "예금은행대출금액                0.087550\n",
            "국내총생산                   0.075814\n",
            "학원                      0.058168\n",
            "지방세                     0.047170\n",
            "조이혼율                    0.045971\n",
            "청년고용률                   0.035381\n",
            "전용면적                    0.032422\n",
            "전체병원                    0.026736\n",
            "여성대비_남성인구_비율            0.022475\n",
            "지역구                     0.018924\n",
            "연간출산율                   0.016074\n",
            "흡연율                     0.015623\n",
            "건강생활실천율                 0.014754\n",
            "건축연도                    0.012655\n",
            "공원면적                    0.012047\n",
            "종합병원                    0.009674\n",
            "건강보험급여                  0.009207\n",
            "계약년                     0.008983\n",
            "비만율                     0.008852\n",
            "독거노인가구비율                0.008664\n",
            "초등학교                    0.008189\n",
            "인플루엔자_접종률               0.007892\n",
            "동                       0.007635\n",
            "학급당_학생수_평균              0.007343\n",
            "다문화가구원            0.007230\n",
            "경찰_및_소방관서               0.006972\n",
            "소비자물가_등락률               0.006903\n",
            "등록외국인현황    0.006825\n",
            "고등학교                    0.006588\n",
            "공공체육시설                  0.006322\n",
            "노인여가복지시설     0.006140\n",
            "예금은행예금액                 0.006038\n",
            "건강양호판단비율                0.005994\n",
            "보육시설                    0.005894\n",
            "층                       0.004517\n",
            "전국_소비자물가지수            0.003963\n",
            "다문화가구             0.003478\n",
            "평균연령                    0.003015\n",
            "수입액                     0.002363\n",
            "범죄건수                    0.002139\n",
            "기준금리                    0.000971\n",
            "청년실업률                   0.000886\n",
            "KOSPI                   0.000803\n",
            "dtype: float32\n",
            "\n",
            "\n"
          ]
        }
      ]
    },
    {
      "cell_type": "code",
      "source": [
        "# LightGBM 모델 학습\n",
        "lightgbm_regressor.fit(X_train, y_train)\n",
        "\n",
        "# lgbm 모델의 피처 중요도 계산\n",
        "# 훈련 데이터셋의 특성 이름을 가져옵니다.\n",
        "feature_names = X_train.columns\n",
        "\n",
        "ft = pd.Series(lightgbm_regressor.feature_importances_,\n",
        "          index=feature_names)\\\n",
        "    .sort_values(ascending=False)\n",
        "print(ft)"
      ],
      "metadata": {
        "colab": {
          "base_uri": "https://localhost:8080/"
        },
        "id": "DJXVnav9-MLB",
        "outputId": "0ce29dff-d18a-49c7-f2c0-35c42a59168e"
      },
      "execution_count": null,
      "outputs": [
        {
          "output_type": "stream",
          "name": "stdout",
          "text": [
            "[LightGBM] [Info] Total Bins 2245\n",
            "[LightGBM] [Info] Number of data points in the train set: 492392, number of used features: 46\n",
            "[LightGBM] [Info] Start training from score 60288.455954\n",
            "건축연도                    1867\n",
            "전용면적                    1496\n",
            "동                       1305\n",
            "층                        474\n",
            "전국_소비자물가지수             299\n",
            "KOSPI                    278\n",
            "공원면적                     195\n",
            "전체병원                     188\n",
            "지역구                      186\n",
            "공공체육시설                   170\n",
            "여성대비_남성인구_비율             130\n",
            "보육시설                     107\n",
            "재정자립도                    106\n",
            "노인여가복지시설      104\n",
            "학원                        85\n",
            "경찰_및_소방관서                 84\n",
            "흡연율                       83\n",
            "요양기관수                     79\n",
            "기준금리                      75\n",
            "범죄건수                      71\n",
            "인플루엔자_접종률                 70\n",
            "학급당_학생수_평균                67\n",
            "다문화가구               67\n",
            "연간출산율                     66\n",
            "등록외국인현황      63\n",
            "건강보험급여                    53\n",
            "조이혼율                      52\n",
            "건강생활실천율                   52\n",
            "평균연령                      51\n",
            "건강양호판단비율                  51\n",
            "독거노인가구비율                  51\n",
            "종합병원                      46\n",
            "비만율                       43\n",
            "초등학교                      36\n",
            "다문화가구원              35\n",
            "고등학교                      34\n",
            "계약년                       32\n",
            "소비자물가_등락률                 18\n",
            "수입액                        6\n",
            "서울시_소비자물가지수                4\n",
            "예금은행대출금액                   3\n",
            "청년실업률                      2\n",
            "청년고용률                      0\n",
            "국내총생산                      0\n",
            "지방세                        0\n",
            "예금은행예금액                    0\n",
            "dtype: int32\n"
          ]
        }
      ]
    },
    {
      "cell_type": "markdown",
      "source": [
        "### 2. 하이퍼 없이"
      ],
      "metadata": {
        "id": "1aNxMdPY4ojL"
      }
    },
    {
      "cell_type": "markdown",
      "source": [
        "----"
      ],
      "metadata": {
        "id": "pHdWvHQ637jW"
      }
    },
    {
      "cell_type": "code",
      "source": [
        "xgboost_regressor = xgb.XGBRegressor()\n",
        "lightgbm_regressor = lgb.LGBMRegressor(force_row_wise=True)"
      ],
      "metadata": {
        "id": "j9fJAW1Vl9iP"
      },
      "execution_count": null,
      "outputs": []
    },
    {
      "cell_type": "code",
      "source": [
        "voting_regressor = VotingRegressor(\n",
        "    estimators=[\n",
        "        ('XG', xgboost_regressor),\n",
        "        ('LGBM', lightgbm_regressor),\n",
        "    ]\n",
        ")\n",
        "\n",
        "# 모델 학습\n",
        "voting_regressor.fit(X_train, y_train)\n",
        "\n"
      ],
      "metadata": {
        "colab": {
          "base_uri": "https://localhost:8080/",
          "height": 165
        },
        "id": "gqXHkHXTqr3s",
        "outputId": "9ff77bd1-9a85-44c0-ce40-a7921a479da4"
      },
      "execution_count": null,
      "outputs": [
        {
          "output_type": "stream",
          "name": "stdout",
          "text": [
            "[LightGBM] [Info] Total Bins 3125\n",
            "[LightGBM] [Info] Number of data points in the train set: 492392, number of used features: 46\n",
            "[LightGBM] [Info] Start training from score 60288.455954\n"
          ]
        },
        {
          "output_type": "execute_result",
          "data": {
            "text/plain": [
              "VotingRegressor(estimators=[('XG',\n",
              "                             XGBRegressor(base_score=None, booster=None,\n",
              "                                          callbacks=None,\n",
              "                                          colsample_bylevel=None,\n",
              "                                          colsample_bynode=None,\n",
              "                                          colsample_bytree=None, device=None,\n",
              "                                          early_stopping_rounds=None,\n",
              "                                          enable_categorical=False,\n",
              "                                          eval_metric=None, feature_types=None,\n",
              "                                          gamma=None, grow_policy=None,\n",
              "                                          importance_type=None,\n",
              "                                          interaction_constraints=None,\n",
              "                                          learning_rate=None, max_bin=None,\n",
              "                                          max_cat_threshold=None,\n",
              "                                          max_cat_to_onehot=None,\n",
              "                                          max_delta_step=None, max_depth=None,\n",
              "                                          max_leaves=None,\n",
              "                                          min_child_weight=None, missing=nan,\n",
              "                                          monotone_constraints=None,\n",
              "                                          multi_strategy=None,\n",
              "                                          n_estimators=None, n_jobs=None,\n",
              "                                          num_parallel_tree=None,\n",
              "                                          random_state=None, ...)),\n",
              "                            ('LGBM', LGBMRegressor(force_row_wise=True))])"
            ],
            "text/html": [
              "<style>#sk-container-id-4 {color: black;background-color: white;}#sk-container-id-4 pre{padding: 0;}#sk-container-id-4 div.sk-toggleable {background-color: white;}#sk-container-id-4 label.sk-toggleable__label {cursor: pointer;display: block;width: 100%;margin-bottom: 0;padding: 0.3em;box-sizing: border-box;text-align: center;}#sk-container-id-4 label.sk-toggleable__label-arrow:before {content: \"▸\";float: left;margin-right: 0.25em;color: #696969;}#sk-container-id-4 label.sk-toggleable__label-arrow:hover:before {color: black;}#sk-container-id-4 div.sk-estimator:hover label.sk-toggleable__label-arrow:before {color: black;}#sk-container-id-4 div.sk-toggleable__content {max-height: 0;max-width: 0;overflow: hidden;text-align: left;background-color: #f0f8ff;}#sk-container-id-4 div.sk-toggleable__content pre {margin: 0.2em;color: black;border-radius: 0.25em;background-color: #f0f8ff;}#sk-container-id-4 input.sk-toggleable__control:checked~div.sk-toggleable__content {max-height: 200px;max-width: 100%;overflow: auto;}#sk-container-id-4 input.sk-toggleable__control:checked~label.sk-toggleable__label-arrow:before {content: \"▾\";}#sk-container-id-4 div.sk-estimator input.sk-toggleable__control:checked~label.sk-toggleable__label {background-color: #d4ebff;}#sk-container-id-4 div.sk-label input.sk-toggleable__control:checked~label.sk-toggleable__label {background-color: #d4ebff;}#sk-container-id-4 input.sk-hidden--visually {border: 0;clip: rect(1px 1px 1px 1px);clip: rect(1px, 1px, 1px, 1px);height: 1px;margin: -1px;overflow: hidden;padding: 0;position: absolute;width: 1px;}#sk-container-id-4 div.sk-estimator {font-family: monospace;background-color: #f0f8ff;border: 1px dotted black;border-radius: 0.25em;box-sizing: border-box;margin-bottom: 0.5em;}#sk-container-id-4 div.sk-estimator:hover {background-color: #d4ebff;}#sk-container-id-4 div.sk-parallel-item::after {content: \"\";width: 100%;border-bottom: 1px solid gray;flex-grow: 1;}#sk-container-id-4 div.sk-label:hover label.sk-toggleable__label {background-color: #d4ebff;}#sk-container-id-4 div.sk-serial::before {content: \"\";position: absolute;border-left: 1px solid gray;box-sizing: border-box;top: 0;bottom: 0;left: 50%;z-index: 0;}#sk-container-id-4 div.sk-serial {display: flex;flex-direction: column;align-items: center;background-color: white;padding-right: 0.2em;padding-left: 0.2em;position: relative;}#sk-container-id-4 div.sk-item {position: relative;z-index: 1;}#sk-container-id-4 div.sk-parallel {display: flex;align-items: stretch;justify-content: center;background-color: white;position: relative;}#sk-container-id-4 div.sk-item::before, #sk-container-id-4 div.sk-parallel-item::before {content: \"\";position: absolute;border-left: 1px solid gray;box-sizing: border-box;top: 0;bottom: 0;left: 50%;z-index: -1;}#sk-container-id-4 div.sk-parallel-item {display: flex;flex-direction: column;z-index: 1;position: relative;background-color: white;}#sk-container-id-4 div.sk-parallel-item:first-child::after {align-self: flex-end;width: 50%;}#sk-container-id-4 div.sk-parallel-item:last-child::after {align-self: flex-start;width: 50%;}#sk-container-id-4 div.sk-parallel-item:only-child::after {width: 0;}#sk-container-id-4 div.sk-dashed-wrapped {border: 1px dashed gray;margin: 0 0.4em 0.5em 0.4em;box-sizing: border-box;padding-bottom: 0.4em;background-color: white;}#sk-container-id-4 div.sk-label label {font-family: monospace;font-weight: bold;display: inline-block;line-height: 1.2em;}#sk-container-id-4 div.sk-label-container {text-align: center;}#sk-container-id-4 div.sk-container {/* jupyter's `normalize.less` sets `[hidden] { display: none; }` but bootstrap.min.css set `[hidden] { display: none !important; }` so we also need the `!important` here to be able to override the default hidden behavior on the sphinx rendered scikit-learn.org. See: https://github.com/scikit-learn/scikit-learn/issues/21755 */display: inline-block !important;position: relative;}#sk-container-id-4 div.sk-text-repr-fallback {display: none;}</style><div id=\"sk-container-id-4\" class=\"sk-top-container\"><div class=\"sk-text-repr-fallback\"><pre>VotingRegressor(estimators=[(&#x27;XG&#x27;,\n",
              "                             XGBRegressor(base_score=None, booster=None,\n",
              "                                          callbacks=None,\n",
              "                                          colsample_bylevel=None,\n",
              "                                          colsample_bynode=None,\n",
              "                                          colsample_bytree=None, device=None,\n",
              "                                          early_stopping_rounds=None,\n",
              "                                          enable_categorical=False,\n",
              "                                          eval_metric=None, feature_types=None,\n",
              "                                          gamma=None, grow_policy=None,\n",
              "                                          importance_type=None,\n",
              "                                          interaction_constraints=None,\n",
              "                                          learning_rate=None, max_bin=None,\n",
              "                                          max_cat_threshold=None,\n",
              "                                          max_cat_to_onehot=None,\n",
              "                                          max_delta_step=None, max_depth=None,\n",
              "                                          max_leaves=None,\n",
              "                                          min_child_weight=None, missing=nan,\n",
              "                                          monotone_constraints=None,\n",
              "                                          multi_strategy=None,\n",
              "                                          n_estimators=None, n_jobs=None,\n",
              "                                          num_parallel_tree=None,\n",
              "                                          random_state=None, ...)),\n",
              "                            (&#x27;LGBM&#x27;, LGBMRegressor(force_row_wise=True))])</pre><b>In a Jupyter environment, please rerun this cell to show the HTML representation or trust the notebook. <br />On GitHub, the HTML representation is unable to render, please try loading this page with nbviewer.org.</b></div><div class=\"sk-container\" hidden><div class=\"sk-item sk-dashed-wrapped\"><div class=\"sk-label-container\"><div class=\"sk-label sk-toggleable\"><input class=\"sk-toggleable__control sk-hidden--visually\" id=\"sk-estimator-id-10\" type=\"checkbox\" ><label for=\"sk-estimator-id-10\" class=\"sk-toggleable__label sk-toggleable__label-arrow\">VotingRegressor</label><div class=\"sk-toggleable__content\"><pre>VotingRegressor(estimators=[(&#x27;XG&#x27;,\n",
              "                             XGBRegressor(base_score=None, booster=None,\n",
              "                                          callbacks=None,\n",
              "                                          colsample_bylevel=None,\n",
              "                                          colsample_bynode=None,\n",
              "                                          colsample_bytree=None, device=None,\n",
              "                                          early_stopping_rounds=None,\n",
              "                                          enable_categorical=False,\n",
              "                                          eval_metric=None, feature_types=None,\n",
              "                                          gamma=None, grow_policy=None,\n",
              "                                          importance_type=None,\n",
              "                                          interaction_constraints=None,\n",
              "                                          learning_rate=None, max_bin=None,\n",
              "                                          max_cat_threshold=None,\n",
              "                                          max_cat_to_onehot=None,\n",
              "                                          max_delta_step=None, max_depth=None,\n",
              "                                          max_leaves=None,\n",
              "                                          min_child_weight=None, missing=nan,\n",
              "                                          monotone_constraints=None,\n",
              "                                          multi_strategy=None,\n",
              "                                          n_estimators=None, n_jobs=None,\n",
              "                                          num_parallel_tree=None,\n",
              "                                          random_state=None, ...)),\n",
              "                            (&#x27;LGBM&#x27;, LGBMRegressor(force_row_wise=True))])</pre></div></div></div><div class=\"sk-parallel\"><div class=\"sk-parallel-item\"><div class=\"sk-item\"><div class=\"sk-label-container\"><div class=\"sk-label sk-toggleable\"><label>XG</label></div></div><div class=\"sk-serial\"><div class=\"sk-item\"><div class=\"sk-estimator sk-toggleable\"><input class=\"sk-toggleable__control sk-hidden--visually\" id=\"sk-estimator-id-11\" type=\"checkbox\" ><label for=\"sk-estimator-id-11\" class=\"sk-toggleable__label sk-toggleable__label-arrow\">XGBRegressor</label><div class=\"sk-toggleable__content\"><pre>XGBRegressor(base_score=None, booster=None, callbacks=None,\n",
              "             colsample_bylevel=None, colsample_bynode=None,\n",
              "             colsample_bytree=None, device=None, early_stopping_rounds=None,\n",
              "             enable_categorical=False, eval_metric=None, feature_types=None,\n",
              "             gamma=None, grow_policy=None, importance_type=None,\n",
              "             interaction_constraints=None, learning_rate=None, max_bin=None,\n",
              "             max_cat_threshold=None, max_cat_to_onehot=None,\n",
              "             max_delta_step=None, max_depth=None, max_leaves=None,\n",
              "             min_child_weight=None, missing=nan, monotone_constraints=None,\n",
              "             multi_strategy=None, n_estimators=None, n_jobs=None,\n",
              "             num_parallel_tree=None, random_state=None, ...)</pre></div></div></div></div></div></div><div class=\"sk-parallel-item\"><div class=\"sk-item\"><div class=\"sk-label-container\"><div class=\"sk-label sk-toggleable\"><label>LGBM</label></div></div><div class=\"sk-serial\"><div class=\"sk-item\"><div class=\"sk-estimator sk-toggleable\"><input class=\"sk-toggleable__control sk-hidden--visually\" id=\"sk-estimator-id-12\" type=\"checkbox\" ><label for=\"sk-estimator-id-12\" class=\"sk-toggleable__label sk-toggleable__label-arrow\">LGBMRegressor</label><div class=\"sk-toggleable__content\"><pre>LGBMRegressor(force_row_wise=True)</pre></div></div></div></div></div></div></div></div></div></div>"
            ]
          },
          "metadata": {},
          "execution_count": 39
        }
      ]
    },
    {
      "cell_type": "code",
      "source": [
        "from sklearn.metrics import mean_absolute_error,mean_squared_error\n",
        "\n",
        "y_pred = voting_regressor.predict(X_test)\n",
        "\n",
        "mse = mean_squared_error(y_test, y_pred)\n",
        "mae = mean_absolute_error(y_test, y_pred)\n",
        "r_squared = voting_regressor.score(X_test, y_test)\n",
        "\n",
        "\n",
        "print('Mean Squared Error (MSE) =', mse)\n",
        "print('Mean Absolute Error (MAE) =', mae)\n",
        "print(f'R-squared: {r_squared}')\n"
      ],
      "metadata": {
        "colab": {
          "base_uri": "https://localhost:8080/"
        },
        "id": "y3o3s68Ks8FU",
        "outputId": "e7c6b41d-d061-4ff9-8239-141fa7a21f28"
      },
      "execution_count": null,
      "outputs": [
        {
          "output_type": "stream",
          "name": "stdout",
          "text": [
            "Mean Squared Error (MSE) = 1049654590.9310329\n",
            "Mean Absolute Error (MAE) = 20887.36028678067\n",
            "R-squared: 0.7702023371269155\n"
          ]
        }
      ]
    },
    {
      "cell_type": "code",
      "source": [
        "xgboost_regressor.fit(X_train, y_train)\n",
        "\n",
        "# XGBoost 모델의 피처 중요도 계산\n",
        "\n",
        "ft = pd.Series(xgboost_regressor.feature_importances_,\n",
        "          index=xgboost_regressor.feature_names_in_)\\\n",
        "    .sort_values(ascending=False)\n",
        "print(ft)"
      ],
      "metadata": {
        "colab": {
          "base_uri": "https://localhost:8080/"
        },
        "id": "QNsCDau2AUgl",
        "outputId": "a8f49f0c-5626-44f5-a352-195fe70fab99"
      },
      "execution_count": null,
      "outputs": [
        {
          "output_type": "stream",
          "name": "stdout",
          "text": [
            "전체병원                    0.288092\n",
            "요양기관수                   0.239825\n",
            "재정자립도                   0.074806\n",
            "여성대비_남성인구_비율            0.071007\n",
            "연간출산율                   0.038850\n",
            "전용면적                    0.035978\n",
            "조이혼율                    0.027028\n",
            "인플루엔자_접종률               0.025051\n",
            "전국_소비자물가지수            0.016793\n",
            "학원                      0.013945\n",
            "건축연도                    0.013363\n",
            "공원면적                    0.011982\n",
            "건강보험급여                  0.010600\n",
            "독거노인가구비율                0.010423\n",
            "보육시설                    0.010100\n",
            "계약년                     0.009650\n",
            "비만율                     0.008636\n",
            "흡연율                     0.008522\n",
            "지역구                     0.007408\n",
            "층                       0.006743\n",
            "종합병원                    0.006614\n",
            "동                       0.006171\n",
            "공공체육시설                  0.006040\n",
            "학급당_학생수_평균              0.005641\n",
            "범죄건수                    0.005591\n",
            "초등학교                    0.005317\n",
            "다문화가구원            0.004591\n",
            "노인여가복지시설     0.004515\n",
            "건강양호판단비율                0.003920\n",
            "경찰_및_소방관서               0.003894\n",
            "등록외국인현황    0.003810\n",
            "건강생활실천율                 0.003132\n",
            "소비자물가_등락률               0.002331\n",
            "고등학교                    0.002310\n",
            "기준금리                    0.001901\n",
            "다문화가구             0.001822\n",
            "평균연령                    0.001496\n",
            "KOSPI                   0.001344\n",
            "수입액                     0.000759\n",
            "지방세                     0.000000\n",
            "예금은행대출금액                0.000000\n",
            "예금은행예금액                 0.000000\n",
            "청년실업률                   0.000000\n",
            "청년고용률                   0.000000\n",
            "국내총생산                   0.000000\n",
            "서울시_소비자물가지수             0.000000\n",
            "dtype: float32\n"
          ]
        }
      ]
    },
    {
      "cell_type": "code",
      "source": [
        "# LightGBM 모델 학습\n",
        "lightgbm_regressor.fit(X_train, y_train)\n",
        "\n",
        "# lgbm 모델의 피처 중요도 계산\n",
        "# 훈련 데이터셋의 특성 이름을 가져옵니다.\n",
        "feature_names = X_train.columns\n",
        "\n",
        "ft = pd.Series(lightgbm_regressor.feature_importances_,\n",
        "          index=feature_names)\\\n",
        "    .sort_values(ascending=False)\n",
        "print(ft)"
      ],
      "metadata": {
        "colab": {
          "base_uri": "https://localhost:8080/"
        },
        "id": "1oC28b0uAZvo",
        "outputId": "b9ccfd4b-8d2a-459c-ed63-25f5fe5e06b0"
      },
      "execution_count": null,
      "outputs": [
        {
          "output_type": "stream",
          "name": "stdout",
          "text": [
            "[LightGBM] [Info] Total Bins 3125\n",
            "[LightGBM] [Info] Number of data points in the train set: 492392, number of used features: 46\n",
            "[LightGBM] [Info] Start training from score 60288.455954\n",
            "건축연도                    682\n",
            "동                       634\n",
            "전용면적                    532\n",
            "층                       133\n",
            "공원면적                     91\n",
            "전체병원                     84\n",
            "전국_소비자물가지수             84\n",
            "재정자립도                    66\n",
            "학원                       63\n",
            "지역구                      57\n",
            "여성대비_남성인구_비율             55\n",
            "KOSPI                    48\n",
            "공공체육시설                   37\n",
            "연간출산율                    33\n",
            "보육시설                     31\n",
            "등록외국인현황     30\n",
            "학급당_학생수_평균               30\n",
            "요양기관수                    29\n",
            "독거노인가구비율                 25\n",
            "기준금리                     25\n",
            "경찰_및_소방관서                24\n",
            "노인여가복지시설      20\n",
            "다문화가구              15\n",
            "범죄건수                     15\n",
            "인플루엔자_접종률                15\n",
            "평균연령                     14\n",
            "흡연율                      14\n",
            "비만율                      14\n",
            "초등학교                     14\n",
            "건강생활실천율                  13\n",
            "조이혼율                     12\n",
            "종합병원                     11\n",
            "계약년                      11\n",
            "건강보험급여                    9\n",
            "소비자물가_등락률                 9\n",
            "건강양호판단비율                  8\n",
            "다문화가구원              6\n",
            "고등학교                      5\n",
            "청년실업률                     1\n",
            "수입액                       1\n",
            "청년고용률                     0\n",
            "국내총생산                     0\n",
            "지방세                       0\n",
            "예금은행예금액                   0\n",
            "예금은행대출금액                  0\n",
            "서울시_소비자물가지수               0\n",
            "dtype: int32\n"
          ]
        }
      ]
    }
  ]
}