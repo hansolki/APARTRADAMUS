{
  "nbformat": 4,
  "nbformat_minor": 0,
  "metadata": {
    "colab": {
      "provenance": [],
      "gpuType": "T4"
    },
    "kernelspec": {
      "name": "python3",
      "display_name": "Python 3"
    },
    "language_info": {
      "name": "python"
    },
    "accelerator": "GPU"
  },
  "cells": [
    {
      "cell_type": "code",
      "execution_count": null,
      "metadata": {
        "colab": {
          "base_uri": "https://localhost:8080/"
        },
        "id": "0JnaVL5FOmc5",
        "outputId": "5192850d-1a86-409f-ecc6-e9128840a7cd"
      },
      "outputs": [
        {
          "output_type": "stream",
          "name": "stdout",
          "text": [
            "Mounted at /content/drive\n"
          ]
        }
      ],
      "source": [
        "from google.colab import drive\n",
        "drive.mount('/content/drive')"
      ]
    },
    {
      "cell_type": "code",
      "source": [
        "import pandas as pd\n",
        "df = pd.read_csv('/content/drive/MyDrive/2조/버전관리/csv/data(ver.4.1)_한솔.csv', index_col=0)\n",
        "df.head()"
      ],
      "metadata": {
        "colab": {
          "base_uri": "https://localhost:8080/",
          "height": 339
        },
        "id": "tng-z3fpOsDW",
        "outputId": "15fd5649-c0ac-4bf5-ac80-322271a70a50"
      },
      "execution_count": null,
      "outputs": [
        {
          "output_type": "execute_result",
          "data": {
            "text/plain": [
              "   지역구    동   계약년  계약월  계약일  전용면적(㎡)   층  건축연도  공공체육시설(개소)  공원면적(천㎡)  ...  \\\n",
              "0  강남구  개포동  2022   12   23  49.8600   4  1992         293    7794.1  ...   \n",
              "1  강남구  개포동  2022   12   23  49.8600   4  1992         293    7794.1  ...   \n",
              "2  강남구  개포동  2022   12   22  76.1709  24  2019         293    7794.1  ...   \n",
              "3  강남구  개포동  2022   12   17  83.2100   3  1983         293    7794.1  ...   \n",
              "4  강남구  개포동  2022   12   16  51.1200  15  1992         293    7794.1  ...   \n",
              "\n",
              "   흡연율(%)  월간음주율(%)  비만율(%)  건강생활실천율(%)  인플루엔자 접종률(%)  연간출산율(%)  \\\n",
              "0    11.8      60.2    25.9        49.4          47.9      0.49   \n",
              "1    11.8      60.2    25.9        49.4          47.9      0.49   \n",
              "2    11.8      60.2    25.9        49.4          47.9      0.49   \n",
              "3    11.8      60.2    25.9        49.4          47.9      0.49   \n",
              "4    11.8      60.2    25.9        49.4          47.9      0.49   \n",
              "\n",
              "   등록외국인현황(명)  다문화가구(가구)  다문화가구원(명)  거래금액(만원)  \n",
              "0                     5001             2384             7041    104000  \n",
              "1                     5001             2384             7041    104000  \n",
              "2                     5001             2384             7041    220000  \n",
              "3                     5001             2384             7041    190000  \n",
              "4                     5001             2384             7041    100000  \n",
              "\n",
              "[5 rows x 49 columns]"
            ],
            "text/html": [
              "\n",
              "  <div id=\"df-e49584aa-abb3-4649-9e31-68705fc82c67\" class=\"colab-df-container\">\n",
              "    <div>\n",
              "<style scoped>\n",
              "    .dataframe tbody tr th:only-of-type {\n",
              "        vertical-align: middle;\n",
              "    }\n",
              "\n",
              "    .dataframe tbody tr th {\n",
              "        vertical-align: top;\n",
              "    }\n",
              "\n",
              "    .dataframe thead th {\n",
              "        text-align: right;\n",
              "    }\n",
              "</style>\n",
              "<table border=\"1\" class=\"dataframe\">\n",
              "  <thead>\n",
              "    <tr style=\"text-align: right;\">\n",
              "      <th></th>\n",
              "      <th>지역구</th>\n",
              "      <th>동</th>\n",
              "      <th>계약년</th>\n",
              "      <th>계약월</th>\n",
              "      <th>계약일</th>\n",
              "      <th>전용면적(㎡)</th>\n",
              "      <th>층</th>\n",
              "      <th>건축연도</th>\n",
              "      <th>공공체육시설(개소)</th>\n",
              "      <th>공원면적(천㎡)</th>\n",
              "      <th>...</th>\n",
              "      <th>흡연율(%)</th>\n",
              "      <th>월간음주율(%)</th>\n",
              "      <th>비만율(%)</th>\n",
              "      <th>건강생활실천율(%)</th>\n",
              "      <th>인플루엔자 접종률(%)</th>\n",
              "      <th>연간출산율(%)</th>\n",
              "      <th>등록외국인현황(명)</th>\n",
              "      <th>다문화가구(가구)</th>\n",
              "      <th>다문화가구원(명)</th>\n",
              "      <th>거래금액(만원)</th>\n",
              "    </tr>\n",
              "  </thead>\n",
              "  <tbody>\n",
              "    <tr>\n",
              "      <th>0</th>\n",
              "      <td>강남구</td>\n",
              "      <td>개포동</td>\n",
              "      <td>2022</td>\n",
              "      <td>12</td>\n",
              "      <td>23</td>\n",
              "      <td>49.8600</td>\n",
              "      <td>4</td>\n",
              "      <td>1992</td>\n",
              "      <td>293</td>\n",
              "      <td>7794.1</td>\n",
              "      <td>...</td>\n",
              "      <td>11.8</td>\n",
              "      <td>60.2</td>\n",
              "      <td>25.9</td>\n",
              "      <td>49.4</td>\n",
              "      <td>47.9</td>\n",
              "      <td>0.49</td>\n",
              "      <td>5001</td>\n",
              "      <td>2384</td>\n",
              "      <td>7041</td>\n",
              "      <td>104000</td>\n",
              "    </tr>\n",
              "    <tr>\n",
              "      <th>1</th>\n",
              "      <td>강남구</td>\n",
              "      <td>개포동</td>\n",
              "      <td>2022</td>\n",
              "      <td>12</td>\n",
              "      <td>23</td>\n",
              "      <td>49.8600</td>\n",
              "      <td>4</td>\n",
              "      <td>1992</td>\n",
              "      <td>293</td>\n",
              "      <td>7794.1</td>\n",
              "      <td>...</td>\n",
              "      <td>11.8</td>\n",
              "      <td>60.2</td>\n",
              "      <td>25.9</td>\n",
              "      <td>49.4</td>\n",
              "      <td>47.9</td>\n",
              "      <td>0.49</td>\n",
              "      <td>5001</td>\n",
              "      <td>2384</td>\n",
              "      <td>7041</td>\n",
              "      <td>104000</td>\n",
              "    </tr>\n",
              "    <tr>\n",
              "      <th>2</th>\n",
              "      <td>강남구</td>\n",
              "      <td>개포동</td>\n",
              "      <td>2022</td>\n",
              "      <td>12</td>\n",
              "      <td>22</td>\n",
              "      <td>76.1709</td>\n",
              "      <td>24</td>\n",
              "      <td>2019</td>\n",
              "      <td>293</td>\n",
              "      <td>7794.1</td>\n",
              "      <td>...</td>\n",
              "      <td>11.8</td>\n",
              "      <td>60.2</td>\n",
              "      <td>25.9</td>\n",
              "      <td>49.4</td>\n",
              "      <td>47.9</td>\n",
              "      <td>0.49</td>\n",
              "      <td>5001</td>\n",
              "      <td>2384</td>\n",
              "      <td>7041</td>\n",
              "      <td>220000</td>\n",
              "    </tr>\n",
              "    <tr>\n",
              "      <th>3</th>\n",
              "      <td>강남구</td>\n",
              "      <td>개포동</td>\n",
              "      <td>2022</td>\n",
              "      <td>12</td>\n",
              "      <td>17</td>\n",
              "      <td>83.2100</td>\n",
              "      <td>3</td>\n",
              "      <td>1983</td>\n",
              "      <td>293</td>\n",
              "      <td>7794.1</td>\n",
              "      <td>...</td>\n",
              "      <td>11.8</td>\n",
              "      <td>60.2</td>\n",
              "      <td>25.9</td>\n",
              "      <td>49.4</td>\n",
              "      <td>47.9</td>\n",
              "      <td>0.49</td>\n",
              "      <td>5001</td>\n",
              "      <td>2384</td>\n",
              "      <td>7041</td>\n",
              "      <td>190000</td>\n",
              "    </tr>\n",
              "    <tr>\n",
              "      <th>4</th>\n",
              "      <td>강남구</td>\n",
              "      <td>개포동</td>\n",
              "      <td>2022</td>\n",
              "      <td>12</td>\n",
              "      <td>16</td>\n",
              "      <td>51.1200</td>\n",
              "      <td>15</td>\n",
              "      <td>1992</td>\n",
              "      <td>293</td>\n",
              "      <td>7794.1</td>\n",
              "      <td>...</td>\n",
              "      <td>11.8</td>\n",
              "      <td>60.2</td>\n",
              "      <td>25.9</td>\n",
              "      <td>49.4</td>\n",
              "      <td>47.9</td>\n",
              "      <td>0.49</td>\n",
              "      <td>5001</td>\n",
              "      <td>2384</td>\n",
              "      <td>7041</td>\n",
              "      <td>100000</td>\n",
              "    </tr>\n",
              "  </tbody>\n",
              "</table>\n",
              "<p>5 rows × 49 columns</p>\n",
              "</div>\n",
              "    <div class=\"colab-df-buttons\">\n",
              "\n",
              "  <div class=\"colab-df-container\">\n",
              "    <button class=\"colab-df-convert\" onclick=\"convertToInteractive('df-e49584aa-abb3-4649-9e31-68705fc82c67')\"\n",
              "            title=\"Convert this dataframe to an interactive table.\"\n",
              "            style=\"display:none;\">\n",
              "\n",
              "  <svg xmlns=\"http://www.w3.org/2000/svg\" height=\"24px\" viewBox=\"0 -960 960 960\">\n",
              "    <path d=\"M120-120v-720h720v720H120Zm60-500h600v-160H180v160Zm220 220h160v-160H400v160Zm0 220h160v-160H400v160ZM180-400h160v-160H180v160Zm440 0h160v-160H620v160ZM180-180h160v-160H180v160Zm440 0h160v-160H620v160Z\"/>\n",
              "  </svg>\n",
              "    </button>\n",
              "\n",
              "  <style>\n",
              "    .colab-df-container {\n",
              "      display:flex;\n",
              "      gap: 12px;\n",
              "    }\n",
              "\n",
              "    .colab-df-convert {\n",
              "      background-color: #E8F0FE;\n",
              "      border: none;\n",
              "      border-radius: 50%;\n",
              "      cursor: pointer;\n",
              "      display: none;\n",
              "      fill: #1967D2;\n",
              "      height: 32px;\n",
              "      padding: 0 0 0 0;\n",
              "      width: 32px;\n",
              "    }\n",
              "\n",
              "    .colab-df-convert:hover {\n",
              "      background-color: #E2EBFA;\n",
              "      box-shadow: 0px 1px 2px rgba(60, 64, 67, 0.3), 0px 1px 3px 1px rgba(60, 64, 67, 0.15);\n",
              "      fill: #174EA6;\n",
              "    }\n",
              "\n",
              "    .colab-df-buttons div {\n",
              "      margin-bottom: 4px;\n",
              "    }\n",
              "\n",
              "    [theme=dark] .colab-df-convert {\n",
              "      background-color: #3B4455;\n",
              "      fill: #D2E3FC;\n",
              "    }\n",
              "\n",
              "    [theme=dark] .colab-df-convert:hover {\n",
              "      background-color: #434B5C;\n",
              "      box-shadow: 0px 1px 3px 1px rgba(0, 0, 0, 0.15);\n",
              "      filter: drop-shadow(0px 1px 2px rgba(0, 0, 0, 0.3));\n",
              "      fill: #FFFFFF;\n",
              "    }\n",
              "  </style>\n",
              "\n",
              "    <script>\n",
              "      const buttonEl =\n",
              "        document.querySelector('#df-e49584aa-abb3-4649-9e31-68705fc82c67 button.colab-df-convert');\n",
              "      buttonEl.style.display =\n",
              "        google.colab.kernel.accessAllowed ? 'block' : 'none';\n",
              "\n",
              "      async function convertToInteractive(key) {\n",
              "        const element = document.querySelector('#df-e49584aa-abb3-4649-9e31-68705fc82c67');\n",
              "        const dataTable =\n",
              "          await google.colab.kernel.invokeFunction('convertToInteractive',\n",
              "                                                    [key], {});\n",
              "        if (!dataTable) return;\n",
              "\n",
              "        const docLinkHtml = 'Like what you see? Visit the ' +\n",
              "          '<a target=\"_blank\" href=https://colab.research.google.com/notebooks/data_table.ipynb>data table notebook</a>'\n",
              "          + ' to learn more about interactive tables.';\n",
              "        element.innerHTML = '';\n",
              "        dataTable['output_type'] = 'display_data';\n",
              "        await google.colab.output.renderOutput(dataTable, element);\n",
              "        const docLink = document.createElement('div');\n",
              "        docLink.innerHTML = docLinkHtml;\n",
              "        element.appendChild(docLink);\n",
              "      }\n",
              "    </script>\n",
              "  </div>\n",
              "\n",
              "\n",
              "<div id=\"df-7b077720-5222-4a67-a9cf-2b8e675a163f\">\n",
              "  <button class=\"colab-df-quickchart\" onclick=\"quickchart('df-7b077720-5222-4a67-a9cf-2b8e675a163f')\"\n",
              "            title=\"Suggest charts\"\n",
              "            style=\"display:none;\">\n",
              "\n",
              "<svg xmlns=\"http://www.w3.org/2000/svg\" height=\"24px\"viewBox=\"0 0 24 24\"\n",
              "     width=\"24px\">\n",
              "    <g>\n",
              "        <path d=\"M19 3H5c-1.1 0-2 .9-2 2v14c0 1.1.9 2 2 2h14c1.1 0 2-.9 2-2V5c0-1.1-.9-2-2-2zM9 17H7v-7h2v7zm4 0h-2V7h2v10zm4 0h-2v-4h2v4z\"/>\n",
              "    </g>\n",
              "</svg>\n",
              "  </button>\n",
              "\n",
              "<style>\n",
              "  .colab-df-quickchart {\n",
              "      --bg-color: #E8F0FE;\n",
              "      --fill-color: #1967D2;\n",
              "      --hover-bg-color: #E2EBFA;\n",
              "      --hover-fill-color: #174EA6;\n",
              "      --disabled-fill-color: #AAA;\n",
              "      --disabled-bg-color: #DDD;\n",
              "  }\n",
              "\n",
              "  [theme=dark] .colab-df-quickchart {\n",
              "      --bg-color: #3B4455;\n",
              "      --fill-color: #D2E3FC;\n",
              "      --hover-bg-color: #434B5C;\n",
              "      --hover-fill-color: #FFFFFF;\n",
              "      --disabled-bg-color: #3B4455;\n",
              "      --disabled-fill-color: #666;\n",
              "  }\n",
              "\n",
              "  .colab-df-quickchart {\n",
              "    background-color: var(--bg-color);\n",
              "    border: none;\n",
              "    border-radius: 50%;\n",
              "    cursor: pointer;\n",
              "    display: none;\n",
              "    fill: var(--fill-color);\n",
              "    height: 32px;\n",
              "    padding: 0;\n",
              "    width: 32px;\n",
              "  }\n",
              "\n",
              "  .colab-df-quickchart:hover {\n",
              "    background-color: var(--hover-bg-color);\n",
              "    box-shadow: 0 1px 2px rgba(60, 64, 67, 0.3), 0 1px 3px 1px rgba(60, 64, 67, 0.15);\n",
              "    fill: var(--button-hover-fill-color);\n",
              "  }\n",
              "\n",
              "  .colab-df-quickchart-complete:disabled,\n",
              "  .colab-df-quickchart-complete:disabled:hover {\n",
              "    background-color: var(--disabled-bg-color);\n",
              "    fill: var(--disabled-fill-color);\n",
              "    box-shadow: none;\n",
              "  }\n",
              "\n",
              "  .colab-df-spinner {\n",
              "    border: 2px solid var(--fill-color);\n",
              "    border-color: transparent;\n",
              "    border-bottom-color: var(--fill-color);\n",
              "    animation:\n",
              "      spin 1s steps(1) infinite;\n",
              "  }\n",
              "\n",
              "  @keyframes spin {\n",
              "    0% {\n",
              "      border-color: transparent;\n",
              "      border-bottom-color: var(--fill-color);\n",
              "      border-left-color: var(--fill-color);\n",
              "    }\n",
              "    20% {\n",
              "      border-color: transparent;\n",
              "      border-left-color: var(--fill-color);\n",
              "      border-top-color: var(--fill-color);\n",
              "    }\n",
              "    30% {\n",
              "      border-color: transparent;\n",
              "      border-left-color: var(--fill-color);\n",
              "      border-top-color: var(--fill-color);\n",
              "      border-right-color: var(--fill-color);\n",
              "    }\n",
              "    40% {\n",
              "      border-color: transparent;\n",
              "      border-right-color: var(--fill-color);\n",
              "      border-top-color: var(--fill-color);\n",
              "    }\n",
              "    60% {\n",
              "      border-color: transparent;\n",
              "      border-right-color: var(--fill-color);\n",
              "    }\n",
              "    80% {\n",
              "      border-color: transparent;\n",
              "      border-right-color: var(--fill-color);\n",
              "      border-bottom-color: var(--fill-color);\n",
              "    }\n",
              "    90% {\n",
              "      border-color: transparent;\n",
              "      border-bottom-color: var(--fill-color);\n",
              "    }\n",
              "  }\n",
              "</style>\n",
              "\n",
              "  <script>\n",
              "    async function quickchart(key) {\n",
              "      const quickchartButtonEl =\n",
              "        document.querySelector('#' + key + ' button');\n",
              "      quickchartButtonEl.disabled = true;  // To prevent multiple clicks.\n",
              "      quickchartButtonEl.classList.add('colab-df-spinner');\n",
              "      try {\n",
              "        const charts = await google.colab.kernel.invokeFunction(\n",
              "            'suggestCharts', [key], {});\n",
              "      } catch (error) {\n",
              "        console.error('Error during call to suggestCharts:', error);\n",
              "      }\n",
              "      quickchartButtonEl.classList.remove('colab-df-spinner');\n",
              "      quickchartButtonEl.classList.add('colab-df-quickchart-complete');\n",
              "    }\n",
              "    (() => {\n",
              "      let quickchartButtonEl =\n",
              "        document.querySelector('#df-7b077720-5222-4a67-a9cf-2b8e675a163f button');\n",
              "      quickchartButtonEl.style.display =\n",
              "        google.colab.kernel.accessAllowed ? 'block' : 'none';\n",
              "    })();\n",
              "  </script>\n",
              "</div>\n",
              "\n",
              "    </div>\n",
              "  </div>\n"
            ]
          },
          "metadata": {},
          "execution_count": 2
        }
      ]
    },
    {
      "cell_type": "code",
      "source": [
        "df.columns = df.columns.str.replace(r'\\([^)]*\\)', '', regex=True)\n",
        "df.columns = df.columns.str.replace(r' ', '_', regex=True)\n",
        "df.columns"
      ],
      "metadata": {
        "colab": {
          "base_uri": "https://localhost:8080/"
        },
        "id": "6sMARdB6UeXM",
        "outputId": "84afcd77-fbb2-4c4e-8c86-8af460bf37cf"
      },
      "execution_count": null,
      "outputs": [
        {
          "output_type": "execute_result",
          "data": {
            "text/plain": [
              "Index(['지역구', '동', '계약년', '계약월', '계약일', '전용면적', '층', '건축연도', '공공체육시설', '공원면적',\n",
              "       '경찰_및_소방관서', '전체병원', '종합병원', '노인여가복지시설', '초등학교', '고등학교',\n",
              "       '학원', '범죄건수', 'KOSPI', '전국_소비자물가지수', '서울시_소비자물가지수', '소비자물가_등락률',\n",
              "       '임금상승률', '건강보험급여', '기준금리', '예금은행대출금액', '예금은행예금액', '제조업생산_증감률',\n",
              "       '서비스업생산_증감률', '수입액', '수출액', '지방세', '국내총생산', '경제성장률', '청년고용률', '청년실업률',\n",
              "       '실업률', '실업자수', '취업자증감', '흡연율', '월간음주율', '비만율', '건강생활실천율', '인플루엔자_접종률',\n",
              "       '연간출산율', '등록외국인현황', '다문화가구', '다문화가구원', '거래금액'],\n",
              "      dtype='object')"
            ]
          },
          "metadata": {},
          "execution_count": 4
        }
      ]
    },
    {
      "cell_type": "code",
      "source": [
        "cols = df.select_dtypes(exclude='object').columns\n",
        "cols = cols.drop('거래금액')\n",
        "\n",
        "from sklearn.preprocessing import MinMaxScaler\n",
        "scaler = MinMaxScaler()\n",
        "df[cols] = scaler.fit_transform(df[cols])\n",
        "\n",
        "df.head()"
      ],
      "metadata": {
        "colab": {
          "base_uri": "https://localhost:8080/",
          "height": 339
        },
        "id": "0snxHFFDO0NV",
        "outputId": "b0bfce9b-0677-48a2-8046-853a055500ac"
      },
      "execution_count": null,
      "outputs": [
        {
          "output_type": "execute_result",
          "data": {
            "text/plain": [
              "   지역구    동  계약년  계약월       계약일      전용면적         층      건축연도  공공체육시설  \\\n",
              "0  강남구  개포동  1.0  1.0  0.733333  0.096162  0.109589  0.500000     1.0   \n",
              "1  강남구  개포동  1.0  1.0  0.733333  0.096162  0.109589  0.500000     1.0   \n",
              "2  강남구  개포동  1.0  1.0  0.700000  0.159669  0.383562  0.935484     1.0   \n",
              "3  강남구  개포동  1.0  1.0  0.533333  0.176659  0.095890  0.354839     1.0   \n",
              "4  강남구  개포동  1.0  1.0  0.500000  0.099203  0.260274  0.500000     1.0   \n",
              "\n",
              "       공원면적  ...       흡연율     월간음주율       비만율   건강생활실천율  인플루엔자_접종률     연간출산율  \\\n",
              "0  0.442545  ...  0.038462  0.752688  0.299465  0.549133   0.802419  0.091031   \n",
              "1  0.442545  ...  0.038462  0.752688  0.299465  0.549133   0.802419  0.091031   \n",
              "2  0.442545  ...  0.038462  0.752688  0.299465  0.549133   0.802419  0.091031   \n",
              "3  0.442545  ...  0.038462  0.752688  0.299465  0.549133   0.802419  0.091031   \n",
              "4  0.442545  ...  0.038462  0.752688  0.299465  0.549133   0.802419  0.091031   \n",
              "\n",
              "   등록외국인현황  다문화가구  다문화가구원    거래금액  \n",
              "0              0.080465     0.193625      0.246538  104000  \n",
              "1              0.080465     0.193625      0.246538  104000  \n",
              "2              0.080465     0.193625      0.246538  220000  \n",
              "3              0.080465     0.193625      0.246538  190000  \n",
              "4              0.080465     0.193625      0.246538  100000  \n",
              "\n",
              "[5 rows x 49 columns]"
            ],
            "text/html": [
              "\n",
              "  <div id=\"df-af3bb152-aa45-43fd-b57d-f9ab20b69b48\" class=\"colab-df-container\">\n",
              "    <div>\n",
              "<style scoped>\n",
              "    .dataframe tbody tr th:only-of-type {\n",
              "        vertical-align: middle;\n",
              "    }\n",
              "\n",
              "    .dataframe tbody tr th {\n",
              "        vertical-align: top;\n",
              "    }\n",
              "\n",
              "    .dataframe thead th {\n",
              "        text-align: right;\n",
              "    }\n",
              "</style>\n",
              "<table border=\"1\" class=\"dataframe\">\n",
              "  <thead>\n",
              "    <tr style=\"text-align: right;\">\n",
              "      <th></th>\n",
              "      <th>지역구</th>\n",
              "      <th>동</th>\n",
              "      <th>계약년</th>\n",
              "      <th>계약월</th>\n",
              "      <th>계약일</th>\n",
              "      <th>전용면적</th>\n",
              "      <th>층</th>\n",
              "      <th>건축연도</th>\n",
              "      <th>공공체육시설</th>\n",
              "      <th>공원면적</th>\n",
              "      <th>...</th>\n",
              "      <th>흡연율</th>\n",
              "      <th>월간음주율</th>\n",
              "      <th>비만율</th>\n",
              "      <th>건강생활실천율</th>\n",
              "      <th>인플루엔자_접종률</th>\n",
              "      <th>연간출산율</th>\n",
              "      <th>등록외국인현황</th>\n",
              "      <th>다문화가구</th>\n",
              "      <th>다문화가구원</th>\n",
              "      <th>거래금액</th>\n",
              "    </tr>\n",
              "  </thead>\n",
              "  <tbody>\n",
              "    <tr>\n",
              "      <th>0</th>\n",
              "      <td>강남구</td>\n",
              "      <td>개포동</td>\n",
              "      <td>1.0</td>\n",
              "      <td>1.0</td>\n",
              "      <td>0.733333</td>\n",
              "      <td>0.096162</td>\n",
              "      <td>0.109589</td>\n",
              "      <td>0.500000</td>\n",
              "      <td>1.0</td>\n",
              "      <td>0.442545</td>\n",
              "      <td>...</td>\n",
              "      <td>0.038462</td>\n",
              "      <td>0.752688</td>\n",
              "      <td>0.299465</td>\n",
              "      <td>0.549133</td>\n",
              "      <td>0.802419</td>\n",
              "      <td>0.091031</td>\n",
              "      <td>0.080465</td>\n",
              "      <td>0.193625</td>\n",
              "      <td>0.246538</td>\n",
              "      <td>104000</td>\n",
              "    </tr>\n",
              "    <tr>\n",
              "      <th>1</th>\n",
              "      <td>강남구</td>\n",
              "      <td>개포동</td>\n",
              "      <td>1.0</td>\n",
              "      <td>1.0</td>\n",
              "      <td>0.733333</td>\n",
              "      <td>0.096162</td>\n",
              "      <td>0.109589</td>\n",
              "      <td>0.500000</td>\n",
              "      <td>1.0</td>\n",
              "      <td>0.442545</td>\n",
              "      <td>...</td>\n",
              "      <td>0.038462</td>\n",
              "      <td>0.752688</td>\n",
              "      <td>0.299465</td>\n",
              "      <td>0.549133</td>\n",
              "      <td>0.802419</td>\n",
              "      <td>0.091031</td>\n",
              "      <td>0.080465</td>\n",
              "      <td>0.193625</td>\n",
              "      <td>0.246538</td>\n",
              "      <td>104000</td>\n",
              "    </tr>\n",
              "    <tr>\n",
              "      <th>2</th>\n",
              "      <td>강남구</td>\n",
              "      <td>개포동</td>\n",
              "      <td>1.0</td>\n",
              "      <td>1.0</td>\n",
              "      <td>0.700000</td>\n",
              "      <td>0.159669</td>\n",
              "      <td>0.383562</td>\n",
              "      <td>0.935484</td>\n",
              "      <td>1.0</td>\n",
              "      <td>0.442545</td>\n",
              "      <td>...</td>\n",
              "      <td>0.038462</td>\n",
              "      <td>0.752688</td>\n",
              "      <td>0.299465</td>\n",
              "      <td>0.549133</td>\n",
              "      <td>0.802419</td>\n",
              "      <td>0.091031</td>\n",
              "      <td>0.080465</td>\n",
              "      <td>0.193625</td>\n",
              "      <td>0.246538</td>\n",
              "      <td>220000</td>\n",
              "    </tr>\n",
              "    <tr>\n",
              "      <th>3</th>\n",
              "      <td>강남구</td>\n",
              "      <td>개포동</td>\n",
              "      <td>1.0</td>\n",
              "      <td>1.0</td>\n",
              "      <td>0.533333</td>\n",
              "      <td>0.176659</td>\n",
              "      <td>0.095890</td>\n",
              "      <td>0.354839</td>\n",
              "      <td>1.0</td>\n",
              "      <td>0.442545</td>\n",
              "      <td>...</td>\n",
              "      <td>0.038462</td>\n",
              "      <td>0.752688</td>\n",
              "      <td>0.299465</td>\n",
              "      <td>0.549133</td>\n",
              "      <td>0.802419</td>\n",
              "      <td>0.091031</td>\n",
              "      <td>0.080465</td>\n",
              "      <td>0.193625</td>\n",
              "      <td>0.246538</td>\n",
              "      <td>190000</td>\n",
              "    </tr>\n",
              "    <tr>\n",
              "      <th>4</th>\n",
              "      <td>강남구</td>\n",
              "      <td>개포동</td>\n",
              "      <td>1.0</td>\n",
              "      <td>1.0</td>\n",
              "      <td>0.500000</td>\n",
              "      <td>0.099203</td>\n",
              "      <td>0.260274</td>\n",
              "      <td>0.500000</td>\n",
              "      <td>1.0</td>\n",
              "      <td>0.442545</td>\n",
              "      <td>...</td>\n",
              "      <td>0.038462</td>\n",
              "      <td>0.752688</td>\n",
              "      <td>0.299465</td>\n",
              "      <td>0.549133</td>\n",
              "      <td>0.802419</td>\n",
              "      <td>0.091031</td>\n",
              "      <td>0.080465</td>\n",
              "      <td>0.193625</td>\n",
              "      <td>0.246538</td>\n",
              "      <td>100000</td>\n",
              "    </tr>\n",
              "  </tbody>\n",
              "</table>\n",
              "<p>5 rows × 49 columns</p>\n",
              "</div>\n",
              "    <div class=\"colab-df-buttons\">\n",
              "\n",
              "  <div class=\"colab-df-container\">\n",
              "    <button class=\"colab-df-convert\" onclick=\"convertToInteractive('df-af3bb152-aa45-43fd-b57d-f9ab20b69b48')\"\n",
              "            title=\"Convert this dataframe to an interactive table.\"\n",
              "            style=\"display:none;\">\n",
              "\n",
              "  <svg xmlns=\"http://www.w3.org/2000/svg\" height=\"24px\" viewBox=\"0 -960 960 960\">\n",
              "    <path d=\"M120-120v-720h720v720H120Zm60-500h600v-160H180v160Zm220 220h160v-160H400v160Zm0 220h160v-160H400v160ZM180-400h160v-160H180v160Zm440 0h160v-160H620v160ZM180-180h160v-160H180v160Zm440 0h160v-160H620v160Z\"/>\n",
              "  </svg>\n",
              "    </button>\n",
              "\n",
              "  <style>\n",
              "    .colab-df-container {\n",
              "      display:flex;\n",
              "      gap: 12px;\n",
              "    }\n",
              "\n",
              "    .colab-df-convert {\n",
              "      background-color: #E8F0FE;\n",
              "      border: none;\n",
              "      border-radius: 50%;\n",
              "      cursor: pointer;\n",
              "      display: none;\n",
              "      fill: #1967D2;\n",
              "      height: 32px;\n",
              "      padding: 0 0 0 0;\n",
              "      width: 32px;\n",
              "    }\n",
              "\n",
              "    .colab-df-convert:hover {\n",
              "      background-color: #E2EBFA;\n",
              "      box-shadow: 0px 1px 2px rgba(60, 64, 67, 0.3), 0px 1px 3px 1px rgba(60, 64, 67, 0.15);\n",
              "      fill: #174EA6;\n",
              "    }\n",
              "\n",
              "    .colab-df-buttons div {\n",
              "      margin-bottom: 4px;\n",
              "    }\n",
              "\n",
              "    [theme=dark] .colab-df-convert {\n",
              "      background-color: #3B4455;\n",
              "      fill: #D2E3FC;\n",
              "    }\n",
              "\n",
              "    [theme=dark] .colab-df-convert:hover {\n",
              "      background-color: #434B5C;\n",
              "      box-shadow: 0px 1px 3px 1px rgba(0, 0, 0, 0.15);\n",
              "      filter: drop-shadow(0px 1px 2px rgba(0, 0, 0, 0.3));\n",
              "      fill: #FFFFFF;\n",
              "    }\n",
              "  </style>\n",
              "\n",
              "    <script>\n",
              "      const buttonEl =\n",
              "        document.querySelector('#df-af3bb152-aa45-43fd-b57d-f9ab20b69b48 button.colab-df-convert');\n",
              "      buttonEl.style.display =\n",
              "        google.colab.kernel.accessAllowed ? 'block' : 'none';\n",
              "\n",
              "      async function convertToInteractive(key) {\n",
              "        const element = document.querySelector('#df-af3bb152-aa45-43fd-b57d-f9ab20b69b48');\n",
              "        const dataTable =\n",
              "          await google.colab.kernel.invokeFunction('convertToInteractive',\n",
              "                                                    [key], {});\n",
              "        if (!dataTable) return;\n",
              "\n",
              "        const docLinkHtml = 'Like what you see? Visit the ' +\n",
              "          '<a target=\"_blank\" href=https://colab.research.google.com/notebooks/data_table.ipynb>data table notebook</a>'\n",
              "          + ' to learn more about interactive tables.';\n",
              "        element.innerHTML = '';\n",
              "        dataTable['output_type'] = 'display_data';\n",
              "        await google.colab.output.renderOutput(dataTable, element);\n",
              "        const docLink = document.createElement('div');\n",
              "        docLink.innerHTML = docLinkHtml;\n",
              "        element.appendChild(docLink);\n",
              "      }\n",
              "    </script>\n",
              "  </div>\n",
              "\n",
              "\n",
              "<div id=\"df-80c76241-4608-4247-a9a6-06387f169481\">\n",
              "  <button class=\"colab-df-quickchart\" onclick=\"quickchart('df-80c76241-4608-4247-a9a6-06387f169481')\"\n",
              "            title=\"Suggest charts\"\n",
              "            style=\"display:none;\">\n",
              "\n",
              "<svg xmlns=\"http://www.w3.org/2000/svg\" height=\"24px\"viewBox=\"0 0 24 24\"\n",
              "     width=\"24px\">\n",
              "    <g>\n",
              "        <path d=\"M19 3H5c-1.1 0-2 .9-2 2v14c0 1.1.9 2 2 2h14c1.1 0 2-.9 2-2V5c0-1.1-.9-2-2-2zM9 17H7v-7h2v7zm4 0h-2V7h2v10zm4 0h-2v-4h2v4z\"/>\n",
              "    </g>\n",
              "</svg>\n",
              "  </button>\n",
              "\n",
              "<style>\n",
              "  .colab-df-quickchart {\n",
              "      --bg-color: #E8F0FE;\n",
              "      --fill-color: #1967D2;\n",
              "      --hover-bg-color: #E2EBFA;\n",
              "      --hover-fill-color: #174EA6;\n",
              "      --disabled-fill-color: #AAA;\n",
              "      --disabled-bg-color: #DDD;\n",
              "  }\n",
              "\n",
              "  [theme=dark] .colab-df-quickchart {\n",
              "      --bg-color: #3B4455;\n",
              "      --fill-color: #D2E3FC;\n",
              "      --hover-bg-color: #434B5C;\n",
              "      --hover-fill-color: #FFFFFF;\n",
              "      --disabled-bg-color: #3B4455;\n",
              "      --disabled-fill-color: #666;\n",
              "  }\n",
              "\n",
              "  .colab-df-quickchart {\n",
              "    background-color: var(--bg-color);\n",
              "    border: none;\n",
              "    border-radius: 50%;\n",
              "    cursor: pointer;\n",
              "    display: none;\n",
              "    fill: var(--fill-color);\n",
              "    height: 32px;\n",
              "    padding: 0;\n",
              "    width: 32px;\n",
              "  }\n",
              "\n",
              "  .colab-df-quickchart:hover {\n",
              "    background-color: var(--hover-bg-color);\n",
              "    box-shadow: 0 1px 2px rgba(60, 64, 67, 0.3), 0 1px 3px 1px rgba(60, 64, 67, 0.15);\n",
              "    fill: var(--button-hover-fill-color);\n",
              "  }\n",
              "\n",
              "  .colab-df-quickchart-complete:disabled,\n",
              "  .colab-df-quickchart-complete:disabled:hover {\n",
              "    background-color: var(--disabled-bg-color);\n",
              "    fill: var(--disabled-fill-color);\n",
              "    box-shadow: none;\n",
              "  }\n",
              "\n",
              "  .colab-df-spinner {\n",
              "    border: 2px solid var(--fill-color);\n",
              "    border-color: transparent;\n",
              "    border-bottom-color: var(--fill-color);\n",
              "    animation:\n",
              "      spin 1s steps(1) infinite;\n",
              "  }\n",
              "\n",
              "  @keyframes spin {\n",
              "    0% {\n",
              "      border-color: transparent;\n",
              "      border-bottom-color: var(--fill-color);\n",
              "      border-left-color: var(--fill-color);\n",
              "    }\n",
              "    20% {\n",
              "      border-color: transparent;\n",
              "      border-left-color: var(--fill-color);\n",
              "      border-top-color: var(--fill-color);\n",
              "    }\n",
              "    30% {\n",
              "      border-color: transparent;\n",
              "      border-left-color: var(--fill-color);\n",
              "      border-top-color: var(--fill-color);\n",
              "      border-right-color: var(--fill-color);\n",
              "    }\n",
              "    40% {\n",
              "      border-color: transparent;\n",
              "      border-right-color: var(--fill-color);\n",
              "      border-top-color: var(--fill-color);\n",
              "    }\n",
              "    60% {\n",
              "      border-color: transparent;\n",
              "      border-right-color: var(--fill-color);\n",
              "    }\n",
              "    80% {\n",
              "      border-color: transparent;\n",
              "      border-right-color: var(--fill-color);\n",
              "      border-bottom-color: var(--fill-color);\n",
              "    }\n",
              "    90% {\n",
              "      border-color: transparent;\n",
              "      border-bottom-color: var(--fill-color);\n",
              "    }\n",
              "  }\n",
              "</style>\n",
              "\n",
              "  <script>\n",
              "    async function quickchart(key) {\n",
              "      const quickchartButtonEl =\n",
              "        document.querySelector('#' + key + ' button');\n",
              "      quickchartButtonEl.disabled = true;  // To prevent multiple clicks.\n",
              "      quickchartButtonEl.classList.add('colab-df-spinner');\n",
              "      try {\n",
              "        const charts = await google.colab.kernel.invokeFunction(\n",
              "            'suggestCharts', [key], {});\n",
              "      } catch (error) {\n",
              "        console.error('Error during call to suggestCharts:', error);\n",
              "      }\n",
              "      quickchartButtonEl.classList.remove('colab-df-spinner');\n",
              "      quickchartButtonEl.classList.add('colab-df-quickchart-complete');\n",
              "    }\n",
              "    (() => {\n",
              "      let quickchartButtonEl =\n",
              "        document.querySelector('#df-80c76241-4608-4247-a9a6-06387f169481 button');\n",
              "      quickchartButtonEl.style.display =\n",
              "        google.colab.kernel.accessAllowed ? 'block' : 'none';\n",
              "    })();\n",
              "  </script>\n",
              "</div>\n",
              "\n",
              "    </div>\n",
              "  </div>\n"
            ]
          },
          "metadata": {},
          "execution_count": 5
        }
      ]
    },
    {
      "cell_type": "code",
      "source": [
        "from sklearn.preprocessing import LabelEncoder\n",
        "cols = ['지역구', '동']\n",
        "for col in cols:\n",
        "  le = LabelEncoder()\n",
        "  df[col] = le.fit_transform(df[col])\n",
        "\n",
        "df.info()"
      ],
      "metadata": {
        "colab": {
          "base_uri": "https://localhost:8080/"
        },
        "id": "6crDJPK3QBjc",
        "outputId": "7c886335-b321-4878-a454-320b106c75d6"
      },
      "execution_count": null,
      "outputs": [
        {
          "output_type": "stream",
          "name": "stdout",
          "text": [
            "<class 'pandas.core.frame.DataFrame'>\n",
            "Int64Index: 632731 entries, 0 to 632730\n",
            "Data columns (total 49 columns):\n",
            " #   Column                Non-Null Count   Dtype  \n",
            "---  ------                --------------   -----  \n",
            " 0   지역구                   632731 non-null  int64  \n",
            " 1   동                     632731 non-null  int64  \n",
            " 2   계약년                   632731 non-null  float64\n",
            " 3   계약월                   632731 non-null  float64\n",
            " 4   계약일                   632731 non-null  float64\n",
            " 5   전용면적                  632731 non-null  float64\n",
            " 6   층                     632731 non-null  float64\n",
            " 7   건축연도                  632731 non-null  float64\n",
            " 8   공공체육시설                632731 non-null  float64\n",
            " 9   공원면적                  632731 non-null  float64\n",
            " 10  경찰_및_소방관서             632731 non-null  float64\n",
            " 11  전체병원                  632731 non-null  float64\n",
            " 12  종합병원                  632731 non-null  float64\n",
            " 13  노인여가복지시설   632731 non-null  float64\n",
            " 14  초등학교                  632731 non-null  float64\n",
            " 15  고등학교                  632731 non-null  float64\n",
            " 16  학원                    632731 non-null  float64\n",
            " 17  범죄건수                  632731 non-null  float64\n",
            " 18  KOSPI                 632731 non-null  float64\n",
            " 19  전국_소비자물가지수          632731 non-null  float64\n",
            " 20  서울시_소비자물가지수           632731 non-null  float64\n",
            " 21  소비자물가_등락률             632731 non-null  float64\n",
            " 22  임금상승률                 632731 non-null  float64\n",
            " 23  건강보험급여                632731 non-null  float64\n",
            " 24  기준금리                  632731 non-null  float64\n",
            " 25  예금은행대출금액              632731 non-null  float64\n",
            " 26  예금은행예금액               632731 non-null  float64\n",
            " 27  제조업생산_증감률             632731 non-null  float64\n",
            " 28  서비스업생산_증감률            632731 non-null  float64\n",
            " 29  수입액                   632731 non-null  float64\n",
            " 30  수출액                   632731 non-null  float64\n",
            " 31  지방세                   632731 non-null  float64\n",
            " 32  국내총생산                 632731 non-null  float64\n",
            " 33  경제성장률                 632731 non-null  float64\n",
            " 34  청년고용률                 632731 non-null  float64\n",
            " 35  청년실업률                 632731 non-null  float64\n",
            " 36  실업률                   632731 non-null  float64\n",
            " 37  실업자수                  632731 non-null  float64\n",
            " 38  취업자증감                 632731 non-null  float64\n",
            " 39  흡연율                   632731 non-null  float64\n",
            " 40  월간음주율                 632731 non-null  float64\n",
            " 41  비만율                   632731 non-null  float64\n",
            " 42  건강생활실천율               632731 non-null  float64\n",
            " 43  인플루엔자_접종률             632731 non-null  float64\n",
            " 44  연간출산율                 632731 non-null  float64\n",
            " 45  등록외국인현황  632731 non-null  float64\n",
            " 46  다문화가구           632731 non-null  float64\n",
            " 47  다문화가구원          632731 non-null  float64\n",
            " 48  거래금액                  632731 non-null  int64  \n",
            "dtypes: float64(46), int64(3)\n",
            "memory usage: 241.4 MB\n"
          ]
        }
      ]
    },
    {
      "cell_type": "code",
      "source": [
        "pip install -q flaml[notebook] # notebook 용 설치"
      ],
      "metadata": {
        "colab": {
          "base_uri": "https://localhost:8080/"
        },
        "id": "8pjcwahZQUkJ",
        "outputId": "29975e25-7797-44da-da58-c87a50f321b2"
      },
      "execution_count": null,
      "outputs": [
        {
          "output_type": "stream",
          "name": "stdout",
          "text": [
            "\u001b[2K     \u001b[90m━━━━━━━━━━━━━━━━━━━━━━━━━━━━━━━━━━━━━━━━\u001b[0m \u001b[32m295.2/295.2 kB\u001b[0m \u001b[31m5.3 MB/s\u001b[0m eta \u001b[36m0:00:00\u001b[0m\n",
            "\u001b[2K     \u001b[90m━━━━━━━━━━━━━━━━━━━━━━━━━━━━━━━━━━━━━━━━\u001b[0m \u001b[32m123.4/123.4 kB\u001b[0m \u001b[31m8.5 MB/s\u001b[0m eta \u001b[36m0:00:00\u001b[0m\n",
            "\u001b[2K     \u001b[90m━━━━━━━━━━━━━━━━━━━━━━━━━━━━━━━━━━━━━━━━\u001b[0m \u001b[32m93.5/93.5 kB\u001b[0m \u001b[31m6.6 MB/s\u001b[0m eta \u001b[36m0:00:00\u001b[0m\n",
            "\u001b[2K     \u001b[90m━━━━━━━━━━━━━━━━━━━━━━━━━━━━━━━━━━━━━━━━\u001b[0m \u001b[32m1.6/1.6 MB\u001b[0m \u001b[31m13.2 MB/s\u001b[0m eta \u001b[36m0:00:00\u001b[0m\n",
            "\u001b[?25h"
          ]
        }
      ]
    },
    {
      "cell_type": "code",
      "source": [
        "df.columns"
      ],
      "metadata": {
        "colab": {
          "base_uri": "https://localhost:8080/"
        },
        "id": "ksxChNloRS1k",
        "outputId": "6aa35c60-852a-4c3f-b19d-0b3841146382"
      },
      "execution_count": null,
      "outputs": [
        {
          "output_type": "execute_result",
          "data": {
            "text/plain": [
              "Index(['지역구', '동', '계약년', '계약월', '계약일', '전용면적', '층', '건축연도', '공공체육시설', '공원면적',\n",
              "       '경찰_및_소방관서', '전체병원', '종합병원', '노인여가복지시설', '초등학교', '고등학교',\n",
              "       '학원', '범죄건수', 'KOSPI', '전국_소비자물가지수', '서울시_소비자물가지수', '소비자물가_등락률',\n",
              "       '임금상승률', '건강보험급여', '기준금리', '예금은행대출금액', '예금은행예금액', '제조업생산_증감률',\n",
              "       '서비스업생산_증감률', '수입액', '수출액', '지방세', '국내총생산', '경제성장률', '청년고용률', '청년실업률',\n",
              "       '실업률', '실업자수', '취업자증감', '흡연율', '월간음주율', '비만율', '건강생활실천율', '인플루엔자_접종률',\n",
              "       '연간출산율', '등록외국인현황', '다문화가구', '다문화가구원', '거래금액'],\n",
              "      dtype='object')"
            ]
          },
          "metadata": {},
          "execution_count": 8
        }
      ]
    },
    {
      "cell_type": "code",
      "source": [
        "df.head()"
      ],
      "metadata": {
        "colab": {
          "base_uri": "https://localhost:8080/",
          "height": 253
        },
        "id": "ABFPP_ToVZNY",
        "outputId": "6d7e1ec0-9d71-4e4d-8529-bda60e767699"
      },
      "execution_count": null,
      "outputs": [
        {
          "output_type": "execute_result",
          "data": {
            "text/plain": [
              "   지역구  동  계약년  계약월       계약일      전용면적         층      건축연도  공공체육시설      공원면적  \\\n",
              "0    0  8  1.0  1.0  0.733333  0.096162  0.109589  0.500000     1.0  0.442545   \n",
              "1    0  8  1.0  1.0  0.733333  0.096162  0.109589  0.500000     1.0  0.442545   \n",
              "2    0  8  1.0  1.0  0.700000  0.159669  0.383562  0.935484     1.0  0.442545   \n",
              "3    0  8  1.0  1.0  0.533333  0.176659  0.095890  0.354839     1.0  0.442545   \n",
              "4    0  8  1.0  1.0  0.500000  0.099203  0.260274  0.500000     1.0  0.442545   \n",
              "\n",
              "   ...       흡연율     월간음주율       비만율   건강생활실천율  인플루엔자_접종률     연간출산율  \\\n",
              "0  ...  0.038462  0.752688  0.299465  0.549133   0.802419  0.091031   \n",
              "1  ...  0.038462  0.752688  0.299465  0.549133   0.802419  0.091031   \n",
              "2  ...  0.038462  0.752688  0.299465  0.549133   0.802419  0.091031   \n",
              "3  ...  0.038462  0.752688  0.299465  0.549133   0.802419  0.091031   \n",
              "4  ...  0.038462  0.752688  0.299465  0.549133   0.802419  0.091031   \n",
              "\n",
              "   등록외국인현황  다문화가구  다문화가구원    거래금액  \n",
              "0              0.080465     0.193625      0.246538  104000  \n",
              "1              0.080465     0.193625      0.246538  104000  \n",
              "2              0.080465     0.193625      0.246538  220000  \n",
              "3              0.080465     0.193625      0.246538  190000  \n",
              "4              0.080465     0.193625      0.246538  100000  \n",
              "\n",
              "[5 rows x 49 columns]"
            ],
            "text/html": [
              "\n",
              "  <div id=\"df-c5e8ac93-40ba-42f9-9871-e40922aa3a4f\" class=\"colab-df-container\">\n",
              "    <div>\n",
              "<style scoped>\n",
              "    .dataframe tbody tr th:only-of-type {\n",
              "        vertical-align: middle;\n",
              "    }\n",
              "\n",
              "    .dataframe tbody tr th {\n",
              "        vertical-align: top;\n",
              "    }\n",
              "\n",
              "    .dataframe thead th {\n",
              "        text-align: right;\n",
              "    }\n",
              "</style>\n",
              "<table border=\"1\" class=\"dataframe\">\n",
              "  <thead>\n",
              "    <tr style=\"text-align: right;\">\n",
              "      <th></th>\n",
              "      <th>지역구</th>\n",
              "      <th>동</th>\n",
              "      <th>계약년</th>\n",
              "      <th>계약월</th>\n",
              "      <th>계약일</th>\n",
              "      <th>전용면적</th>\n",
              "      <th>층</th>\n",
              "      <th>건축연도</th>\n",
              "      <th>공공체육시설</th>\n",
              "      <th>공원면적</th>\n",
              "      <th>...</th>\n",
              "      <th>흡연율</th>\n",
              "      <th>월간음주율</th>\n",
              "      <th>비만율</th>\n",
              "      <th>건강생활실천율</th>\n",
              "      <th>인플루엔자_접종률</th>\n",
              "      <th>연간출산율</th>\n",
              "      <th>등록외국인현황</th>\n",
              "      <th>다문화가구</th>\n",
              "      <th>다문화가구원</th>\n",
              "      <th>거래금액</th>\n",
              "    </tr>\n",
              "  </thead>\n",
              "  <tbody>\n",
              "    <tr>\n",
              "      <th>0</th>\n",
              "      <td>0</td>\n",
              "      <td>8</td>\n",
              "      <td>1.0</td>\n",
              "      <td>1.0</td>\n",
              "      <td>0.733333</td>\n",
              "      <td>0.096162</td>\n",
              "      <td>0.109589</td>\n",
              "      <td>0.500000</td>\n",
              "      <td>1.0</td>\n",
              "      <td>0.442545</td>\n",
              "      <td>...</td>\n",
              "      <td>0.038462</td>\n",
              "      <td>0.752688</td>\n",
              "      <td>0.299465</td>\n",
              "      <td>0.549133</td>\n",
              "      <td>0.802419</td>\n",
              "      <td>0.091031</td>\n",
              "      <td>0.080465</td>\n",
              "      <td>0.193625</td>\n",
              "      <td>0.246538</td>\n",
              "      <td>104000</td>\n",
              "    </tr>\n",
              "    <tr>\n",
              "      <th>1</th>\n",
              "      <td>0</td>\n",
              "      <td>8</td>\n",
              "      <td>1.0</td>\n",
              "      <td>1.0</td>\n",
              "      <td>0.733333</td>\n",
              "      <td>0.096162</td>\n",
              "      <td>0.109589</td>\n",
              "      <td>0.500000</td>\n",
              "      <td>1.0</td>\n",
              "      <td>0.442545</td>\n",
              "      <td>...</td>\n",
              "      <td>0.038462</td>\n",
              "      <td>0.752688</td>\n",
              "      <td>0.299465</td>\n",
              "      <td>0.549133</td>\n",
              "      <td>0.802419</td>\n",
              "      <td>0.091031</td>\n",
              "      <td>0.080465</td>\n",
              "      <td>0.193625</td>\n",
              "      <td>0.246538</td>\n",
              "      <td>104000</td>\n",
              "    </tr>\n",
              "    <tr>\n",
              "      <th>2</th>\n",
              "      <td>0</td>\n",
              "      <td>8</td>\n",
              "      <td>1.0</td>\n",
              "      <td>1.0</td>\n",
              "      <td>0.700000</td>\n",
              "      <td>0.159669</td>\n",
              "      <td>0.383562</td>\n",
              "      <td>0.935484</td>\n",
              "      <td>1.0</td>\n",
              "      <td>0.442545</td>\n",
              "      <td>...</td>\n",
              "      <td>0.038462</td>\n",
              "      <td>0.752688</td>\n",
              "      <td>0.299465</td>\n",
              "      <td>0.549133</td>\n",
              "      <td>0.802419</td>\n",
              "      <td>0.091031</td>\n",
              "      <td>0.080465</td>\n",
              "      <td>0.193625</td>\n",
              "      <td>0.246538</td>\n",
              "      <td>220000</td>\n",
              "    </tr>\n",
              "    <tr>\n",
              "      <th>3</th>\n",
              "      <td>0</td>\n",
              "      <td>8</td>\n",
              "      <td>1.0</td>\n",
              "      <td>1.0</td>\n",
              "      <td>0.533333</td>\n",
              "      <td>0.176659</td>\n",
              "      <td>0.095890</td>\n",
              "      <td>0.354839</td>\n",
              "      <td>1.0</td>\n",
              "      <td>0.442545</td>\n",
              "      <td>...</td>\n",
              "      <td>0.038462</td>\n",
              "      <td>0.752688</td>\n",
              "      <td>0.299465</td>\n",
              "      <td>0.549133</td>\n",
              "      <td>0.802419</td>\n",
              "      <td>0.091031</td>\n",
              "      <td>0.080465</td>\n",
              "      <td>0.193625</td>\n",
              "      <td>0.246538</td>\n",
              "      <td>190000</td>\n",
              "    </tr>\n",
              "    <tr>\n",
              "      <th>4</th>\n",
              "      <td>0</td>\n",
              "      <td>8</td>\n",
              "      <td>1.0</td>\n",
              "      <td>1.0</td>\n",
              "      <td>0.500000</td>\n",
              "      <td>0.099203</td>\n",
              "      <td>0.260274</td>\n",
              "      <td>0.500000</td>\n",
              "      <td>1.0</td>\n",
              "      <td>0.442545</td>\n",
              "      <td>...</td>\n",
              "      <td>0.038462</td>\n",
              "      <td>0.752688</td>\n",
              "      <td>0.299465</td>\n",
              "      <td>0.549133</td>\n",
              "      <td>0.802419</td>\n",
              "      <td>0.091031</td>\n",
              "      <td>0.080465</td>\n",
              "      <td>0.193625</td>\n",
              "      <td>0.246538</td>\n",
              "      <td>100000</td>\n",
              "    </tr>\n",
              "  </tbody>\n",
              "</table>\n",
              "<p>5 rows × 49 columns</p>\n",
              "</div>\n",
              "    <div class=\"colab-df-buttons\">\n",
              "\n",
              "  <div class=\"colab-df-container\">\n",
              "    <button class=\"colab-df-convert\" onclick=\"convertToInteractive('df-c5e8ac93-40ba-42f9-9871-e40922aa3a4f')\"\n",
              "            title=\"Convert this dataframe to an interactive table.\"\n",
              "            style=\"display:none;\">\n",
              "\n",
              "  <svg xmlns=\"http://www.w3.org/2000/svg\" height=\"24px\" viewBox=\"0 -960 960 960\">\n",
              "    <path d=\"M120-120v-720h720v720H120Zm60-500h600v-160H180v160Zm220 220h160v-160H400v160Zm0 220h160v-160H400v160ZM180-400h160v-160H180v160Zm440 0h160v-160H620v160ZM180-180h160v-160H180v160Zm440 0h160v-160H620v160Z\"/>\n",
              "  </svg>\n",
              "    </button>\n",
              "\n",
              "  <style>\n",
              "    .colab-df-container {\n",
              "      display:flex;\n",
              "      gap: 12px;\n",
              "    }\n",
              "\n",
              "    .colab-df-convert {\n",
              "      background-color: #E8F0FE;\n",
              "      border: none;\n",
              "      border-radius: 50%;\n",
              "      cursor: pointer;\n",
              "      display: none;\n",
              "      fill: #1967D2;\n",
              "      height: 32px;\n",
              "      padding: 0 0 0 0;\n",
              "      width: 32px;\n",
              "    }\n",
              "\n",
              "    .colab-df-convert:hover {\n",
              "      background-color: #E2EBFA;\n",
              "      box-shadow: 0px 1px 2px rgba(60, 64, 67, 0.3), 0px 1px 3px 1px rgba(60, 64, 67, 0.15);\n",
              "      fill: #174EA6;\n",
              "    }\n",
              "\n",
              "    .colab-df-buttons div {\n",
              "      margin-bottom: 4px;\n",
              "    }\n",
              "\n",
              "    [theme=dark] .colab-df-convert {\n",
              "      background-color: #3B4455;\n",
              "      fill: #D2E3FC;\n",
              "    }\n",
              "\n",
              "    [theme=dark] .colab-df-convert:hover {\n",
              "      background-color: #434B5C;\n",
              "      box-shadow: 0px 1px 3px 1px rgba(0, 0, 0, 0.15);\n",
              "      filter: drop-shadow(0px 1px 2px rgba(0, 0, 0, 0.3));\n",
              "      fill: #FFFFFF;\n",
              "    }\n",
              "  </style>\n",
              "\n",
              "    <script>\n",
              "      const buttonEl =\n",
              "        document.querySelector('#df-c5e8ac93-40ba-42f9-9871-e40922aa3a4f button.colab-df-convert');\n",
              "      buttonEl.style.display =\n",
              "        google.colab.kernel.accessAllowed ? 'block' : 'none';\n",
              "\n",
              "      async function convertToInteractive(key) {\n",
              "        const element = document.querySelector('#df-c5e8ac93-40ba-42f9-9871-e40922aa3a4f');\n",
              "        const dataTable =\n",
              "          await google.colab.kernel.invokeFunction('convertToInteractive',\n",
              "                                                    [key], {});\n",
              "        if (!dataTable) return;\n",
              "\n",
              "        const docLinkHtml = 'Like what you see? Visit the ' +\n",
              "          '<a target=\"_blank\" href=https://colab.research.google.com/notebooks/data_table.ipynb>data table notebook</a>'\n",
              "          + ' to learn more about interactive tables.';\n",
              "        element.innerHTML = '';\n",
              "        dataTable['output_type'] = 'display_data';\n",
              "        await google.colab.output.renderOutput(dataTable, element);\n",
              "        const docLink = document.createElement('div');\n",
              "        docLink.innerHTML = docLinkHtml;\n",
              "        element.appendChild(docLink);\n",
              "      }\n",
              "    </script>\n",
              "  </div>\n",
              "\n",
              "\n",
              "<div id=\"df-c06d9524-5b83-482e-a7ce-ed1fec8a0c84\">\n",
              "  <button class=\"colab-df-quickchart\" onclick=\"quickchart('df-c06d9524-5b83-482e-a7ce-ed1fec8a0c84')\"\n",
              "            title=\"Suggest charts\"\n",
              "            style=\"display:none;\">\n",
              "\n",
              "<svg xmlns=\"http://www.w3.org/2000/svg\" height=\"24px\"viewBox=\"0 0 24 24\"\n",
              "     width=\"24px\">\n",
              "    <g>\n",
              "        <path d=\"M19 3H5c-1.1 0-2 .9-2 2v14c0 1.1.9 2 2 2h14c1.1 0 2-.9 2-2V5c0-1.1-.9-2-2-2zM9 17H7v-7h2v7zm4 0h-2V7h2v10zm4 0h-2v-4h2v4z\"/>\n",
              "    </g>\n",
              "</svg>\n",
              "  </button>\n",
              "\n",
              "<style>\n",
              "  .colab-df-quickchart {\n",
              "      --bg-color: #E8F0FE;\n",
              "      --fill-color: #1967D2;\n",
              "      --hover-bg-color: #E2EBFA;\n",
              "      --hover-fill-color: #174EA6;\n",
              "      --disabled-fill-color: #AAA;\n",
              "      --disabled-bg-color: #DDD;\n",
              "  }\n",
              "\n",
              "  [theme=dark] .colab-df-quickchart {\n",
              "      --bg-color: #3B4455;\n",
              "      --fill-color: #D2E3FC;\n",
              "      --hover-bg-color: #434B5C;\n",
              "      --hover-fill-color: #FFFFFF;\n",
              "      --disabled-bg-color: #3B4455;\n",
              "      --disabled-fill-color: #666;\n",
              "  }\n",
              "\n",
              "  .colab-df-quickchart {\n",
              "    background-color: var(--bg-color);\n",
              "    border: none;\n",
              "    border-radius: 50%;\n",
              "    cursor: pointer;\n",
              "    display: none;\n",
              "    fill: var(--fill-color);\n",
              "    height: 32px;\n",
              "    padding: 0;\n",
              "    width: 32px;\n",
              "  }\n",
              "\n",
              "  .colab-df-quickchart:hover {\n",
              "    background-color: var(--hover-bg-color);\n",
              "    box-shadow: 0 1px 2px rgba(60, 64, 67, 0.3), 0 1px 3px 1px rgba(60, 64, 67, 0.15);\n",
              "    fill: var(--button-hover-fill-color);\n",
              "  }\n",
              "\n",
              "  .colab-df-quickchart-complete:disabled,\n",
              "  .colab-df-quickchart-complete:disabled:hover {\n",
              "    background-color: var(--disabled-bg-color);\n",
              "    fill: var(--disabled-fill-color);\n",
              "    box-shadow: none;\n",
              "  }\n",
              "\n",
              "  .colab-df-spinner {\n",
              "    border: 2px solid var(--fill-color);\n",
              "    border-color: transparent;\n",
              "    border-bottom-color: var(--fill-color);\n",
              "    animation:\n",
              "      spin 1s steps(1) infinite;\n",
              "  }\n",
              "\n",
              "  @keyframes spin {\n",
              "    0% {\n",
              "      border-color: transparent;\n",
              "      border-bottom-color: var(--fill-color);\n",
              "      border-left-color: var(--fill-color);\n",
              "    }\n",
              "    20% {\n",
              "      border-color: transparent;\n",
              "      border-left-color: var(--fill-color);\n",
              "      border-top-color: var(--fill-color);\n",
              "    }\n",
              "    30% {\n",
              "      border-color: transparent;\n",
              "      border-left-color: var(--fill-color);\n",
              "      border-top-color: var(--fill-color);\n",
              "      border-right-color: var(--fill-color);\n",
              "    }\n",
              "    40% {\n",
              "      border-color: transparent;\n",
              "      border-right-color: var(--fill-color);\n",
              "      border-top-color: var(--fill-color);\n",
              "    }\n",
              "    60% {\n",
              "      border-color: transparent;\n",
              "      border-right-color: var(--fill-color);\n",
              "    }\n",
              "    80% {\n",
              "      border-color: transparent;\n",
              "      border-right-color: var(--fill-color);\n",
              "      border-bottom-color: var(--fill-color);\n",
              "    }\n",
              "    90% {\n",
              "      border-color: transparent;\n",
              "      border-bottom-color: var(--fill-color);\n",
              "    }\n",
              "  }\n",
              "</style>\n",
              "\n",
              "  <script>\n",
              "    async function quickchart(key) {\n",
              "      const quickchartButtonEl =\n",
              "        document.querySelector('#' + key + ' button');\n",
              "      quickchartButtonEl.disabled = true;  // To prevent multiple clicks.\n",
              "      quickchartButtonEl.classList.add('colab-df-spinner');\n",
              "      try {\n",
              "        const charts = await google.colab.kernel.invokeFunction(\n",
              "            'suggestCharts', [key], {});\n",
              "      } catch (error) {\n",
              "        console.error('Error during call to suggestCharts:', error);\n",
              "      }\n",
              "      quickchartButtonEl.classList.remove('colab-df-spinner');\n",
              "      quickchartButtonEl.classList.add('colab-df-quickchart-complete');\n",
              "    }\n",
              "    (() => {\n",
              "      let quickchartButtonEl =\n",
              "        document.querySelector('#df-c06d9524-5b83-482e-a7ce-ed1fec8a0c84 button');\n",
              "      quickchartButtonEl.style.display =\n",
              "        google.colab.kernel.accessAllowed ? 'block' : 'none';\n",
              "    })();\n",
              "  </script>\n",
              "</div>\n",
              "\n",
              "    </div>\n",
              "  </div>\n"
            ]
          },
          "metadata": {},
          "execution_count": 9
        }
      ]
    },
    {
      "cell_type": "code",
      "source": [
        "# train test 나누기\n",
        "X_train = df[df['계약년']<=0.6].drop('거래금액', axis=1)\n",
        "X_test = df[df['계약년']>=0.6].drop('거래금액', axis=1)\n",
        "y_train = df[df['계약년']<0.6]['거래금액']\n",
        "y_test = df[df['계약년']>=0.6]['거래금액']\n",
        "\n",
        "X_train.head()\n",
        "y_train.head()\n",
        "\n",
        "X_train.shape, X_test.shape, y_train.shape, y_test.shape"
      ],
      "metadata": {
        "colab": {
          "base_uri": "https://localhost:8080/"
        },
        "id": "0_qv7PnMVFDA",
        "outputId": "bb862e29-8c20-4731-df2d-dada7280d3d0"
      },
      "execution_count": null,
      "outputs": [
        {
          "output_type": "execute_result",
          "data": {
            "text/plain": [
              "((492392, 48), (140339, 48), (492392,), (140339,))"
            ]
          },
          "metadata": {},
          "execution_count": 10
        }
      ]
    },
    {
      "cell_type": "markdown",
      "source": [
        "# 60초"
      ],
      "metadata": {
        "id": "AK1dk1ULeOAR"
      }
    },
    {
      "cell_type": "code",
      "source": [
        "# from flaml import AutoML\n",
        "# automl = AutoML()\n",
        "# automl.fit(X_train=X_train, y_train=y_train, task=\"regression\", time_budget=60, verbose=False)"
      ],
      "metadata": {
        "colab": {
          "base_uri": "https://localhost:8080/"
        },
        "id": "kzJBoEUUVKEY",
        "outputId": "0b739f8a-71f8-43bc-eff0-e3816a725e8b"
      },
      "execution_count": null,
      "outputs": [
        {
          "output_type": "stream",
          "name": "stdout",
          "text": [
            "[flaml.automl.logger: 12-22 07:17:53] {1679} INFO - task = regression\n",
            "[flaml.automl.logger: 12-22 07:17:53] {1690} INFO - Evaluation method: holdout\n",
            "[flaml.automl.logger: 12-22 07:17:54] {1788} INFO - Minimizing error metric: 1-r2\n",
            "[flaml.automl.logger: 12-22 07:17:54] {1900} INFO - List of ML learners in AutoML Run: ['lgbm', 'rf', 'xgboost', 'extra_tree', 'xgb_limitdepth']\n",
            "[flaml.automl.logger: 12-22 07:17:54] {2218} INFO - iteration 0, current learner lgbm\n",
            "[flaml.automl.logger: 12-22 07:17:54] {2344} INFO - Estimated sufficient time budget=58011s. Estimated necessary time budget=409s.\n",
            "[flaml.automl.logger: 12-22 07:17:54] {2391} INFO -  at 10.8s,\testimator lgbm's best error=0.7439,\tbest estimator lgbm's best error=0.7439\n",
            "[flaml.automl.logger: 12-22 07:17:54] {2218} INFO - iteration 1, current learner lgbm\n",
            "[flaml.automl.logger: 12-22 07:17:54] {2391} INFO -  at 10.9s,\testimator lgbm's best error=0.7439,\tbest estimator lgbm's best error=0.7439\n",
            "[flaml.automl.logger: 12-22 07:17:54] {2218} INFO - iteration 2, current learner lgbm\n",
            "[flaml.automl.logger: 12-22 07:17:54] {2391} INFO -  at 11.0s,\testimator lgbm's best error=0.5231,\tbest estimator lgbm's best error=0.5231\n",
            "[flaml.automl.logger: 12-22 07:17:54] {2218} INFO - iteration 3, current learner lgbm\n",
            "[flaml.automl.logger: 12-22 07:17:54] {2391} INFO -  at 11.1s,\testimator lgbm's best error=0.2506,\tbest estimator lgbm's best error=0.2506\n",
            "[flaml.automl.logger: 12-22 07:17:54] {2218} INFO - iteration 4, current learner lgbm\n",
            "[flaml.automl.logger: 12-22 07:17:54] {2391} INFO -  at 11.2s,\testimator lgbm's best error=0.2506,\tbest estimator lgbm's best error=0.2506\n",
            "[flaml.automl.logger: 12-22 07:17:54] {2218} INFO - iteration 5, current learner lgbm\n",
            "[flaml.automl.logger: 12-22 07:17:55] {2391} INFO -  at 11.3s,\testimator lgbm's best error=0.2401,\tbest estimator lgbm's best error=0.2401\n",
            "[flaml.automl.logger: 12-22 07:17:55] {2218} INFO - iteration 6, current learner lgbm\n",
            "[flaml.automl.logger: 12-22 07:17:55] {2391} INFO -  at 11.4s,\testimator lgbm's best error=0.2401,\tbest estimator lgbm's best error=0.2401\n",
            "[flaml.automl.logger: 12-22 07:17:55] {2218} INFO - iteration 7, current learner lgbm\n",
            "[flaml.automl.logger: 12-22 07:17:55] {2391} INFO -  at 11.5s,\testimator lgbm's best error=0.2401,\tbest estimator lgbm's best error=0.2401\n",
            "[flaml.automl.logger: 12-22 07:17:55] {2218} INFO - iteration 8, current learner lgbm\n",
            "[flaml.automl.logger: 12-22 07:17:55] {2391} INFO -  at 11.7s,\testimator lgbm's best error=0.1812,\tbest estimator lgbm's best error=0.1812\n",
            "[flaml.automl.logger: 12-22 07:17:55] {2218} INFO - iteration 9, current learner xgboost\n",
            "[flaml.automl.logger: 12-22 07:17:55] {2391} INFO -  at 11.9s,\testimator xgboost's best error=0.7438,\tbest estimator lgbm's best error=0.1812\n",
            "[flaml.automl.logger: 12-22 07:17:55] {2218} INFO - iteration 10, current learner xgboost\n",
            "[flaml.automl.logger: 12-22 07:17:55] {2391} INFO -  at 12.0s,\testimator xgboost's best error=0.7438,\tbest estimator lgbm's best error=0.1812\n",
            "[flaml.automl.logger: 12-22 07:17:55] {2218} INFO - iteration 11, current learner extra_tree\n",
            "[flaml.automl.logger: 12-22 07:17:55] {2391} INFO -  at 12.1s,\testimator extra_tree's best error=0.5335,\tbest estimator lgbm's best error=0.1812\n",
            "[flaml.automl.logger: 12-22 07:17:55] {2218} INFO - iteration 12, current learner extra_tree\n",
            "[flaml.automl.logger: 12-22 07:17:55] {2391} INFO -  at 12.2s,\testimator extra_tree's best error=0.3519,\tbest estimator lgbm's best error=0.1812\n",
            "[flaml.automl.logger: 12-22 07:17:55] {2218} INFO - iteration 13, current learner xgboost\n",
            "[flaml.automl.logger: 12-22 07:17:56] {2391} INFO -  at 12.3s,\testimator xgboost's best error=0.5379,\tbest estimator lgbm's best error=0.1812\n",
            "[flaml.automl.logger: 12-22 07:17:56] {2218} INFO - iteration 14, current learner extra_tree\n",
            "[flaml.automl.logger: 12-22 07:17:56] {2391} INFO -  at 12.4s,\testimator extra_tree's best error=0.3519,\tbest estimator lgbm's best error=0.1812\n",
            "[flaml.automl.logger: 12-22 07:17:56] {2218} INFO - iteration 15, current learner rf\n",
            "[flaml.automl.logger: 12-22 07:17:56] {2391} INFO -  at 12.6s,\testimator rf's best error=0.5389,\tbest estimator lgbm's best error=0.1812\n",
            "[flaml.automl.logger: 12-22 07:17:56] {2218} INFO - iteration 16, current learner lgbm\n",
            "[flaml.automl.logger: 12-22 07:17:56] {2391} INFO -  at 12.7s,\testimator lgbm's best error=0.1812,\tbest estimator lgbm's best error=0.1812\n",
            "[flaml.automl.logger: 12-22 07:17:56] {2218} INFO - iteration 17, current learner extra_tree\n",
            "[flaml.automl.logger: 12-22 07:17:56] {2391} INFO -  at 13.0s,\testimator extra_tree's best error=0.2683,\tbest estimator lgbm's best error=0.1812\n",
            "[flaml.automl.logger: 12-22 07:17:56] {2218} INFO - iteration 18, current learner lgbm\n",
            "[flaml.automl.logger: 12-22 07:17:57] {2391} INFO -  at 13.7s,\testimator lgbm's best error=0.1050,\tbest estimator lgbm's best error=0.1050\n",
            "[flaml.automl.logger: 12-22 07:17:57] {2218} INFO - iteration 19, current learner rf\n",
            "[flaml.automl.logger: 12-22 07:17:57] {2391} INFO -  at 13.9s,\testimator rf's best error=0.3297,\tbest estimator lgbm's best error=0.1050\n",
            "[flaml.automl.logger: 12-22 07:17:57] {2218} INFO - iteration 20, current learner rf\n",
            "[flaml.automl.logger: 12-22 07:17:57] {2391} INFO -  at 14.0s,\testimator rf's best error=0.3297,\tbest estimator lgbm's best error=0.1050\n",
            "[flaml.automl.logger: 12-22 07:17:57] {2218} INFO - iteration 21, current learner rf\n",
            "[flaml.automl.logger: 12-22 07:17:58] {2391} INFO -  at 14.5s,\testimator rf's best error=0.2308,\tbest estimator lgbm's best error=0.1050\n",
            "[flaml.automl.logger: 12-22 07:17:58] {2218} INFO - iteration 22, current learner lgbm\n",
            "[flaml.automl.logger: 12-22 07:17:59] {2391} INFO -  at 15.3s,\testimator lgbm's best error=0.1050,\tbest estimator lgbm's best error=0.1050\n",
            "[flaml.automl.logger: 12-22 07:17:59] {2218} INFO - iteration 23, current learner lgbm\n",
            "[flaml.automl.logger: 12-22 07:17:59] {2391} INFO -  at 15.9s,\testimator lgbm's best error=0.1050,\tbest estimator lgbm's best error=0.1050\n",
            "[flaml.automl.logger: 12-22 07:17:59] {2218} INFO - iteration 24, current learner extra_tree\n",
            "[flaml.automl.logger: 12-22 07:18:00] {2391} INFO -  at 16.4s,\testimator extra_tree's best error=0.1991,\tbest estimator lgbm's best error=0.1050\n",
            "[flaml.automl.logger: 12-22 07:18:00] {2218} INFO - iteration 25, current learner extra_tree\n",
            "[flaml.automl.logger: 12-22 07:18:00] {2391} INFO -  at 16.9s,\testimator extra_tree's best error=0.1991,\tbest estimator lgbm's best error=0.1050\n",
            "[flaml.automl.logger: 12-22 07:18:00] {2218} INFO - iteration 26, current learner rf\n",
            "[flaml.automl.logger: 12-22 07:18:01] {2391} INFO -  at 17.3s,\testimator rf's best error=0.1988,\tbest estimator lgbm's best error=0.1050\n",
            "[flaml.automl.logger: 12-22 07:18:01] {2218} INFO - iteration 27, current learner xgboost\n",
            "[flaml.automl.logger: 12-22 07:18:01] {2391} INFO -  at 17.6s,\testimator xgboost's best error=0.3692,\tbest estimator lgbm's best error=0.1050\n",
            "[flaml.automl.logger: 12-22 07:18:01] {2218} INFO - iteration 28, current learner extra_tree\n",
            "[flaml.automl.logger: 12-22 07:18:01] {2391} INFO -  at 18.1s,\testimator extra_tree's best error=0.1876,\tbest estimator lgbm's best error=0.1050\n",
            "[flaml.automl.logger: 12-22 07:18:01] {2218} INFO - iteration 29, current learner xgboost\n",
            "[flaml.automl.logger: 12-22 07:18:02] {2391} INFO -  at 18.4s,\testimator xgboost's best error=0.3692,\tbest estimator lgbm's best error=0.1050\n",
            "[flaml.automl.logger: 12-22 07:18:02] {2218} INFO - iteration 30, current learner lgbm\n",
            "[flaml.automl.logger: 12-22 07:18:02] {2391} INFO -  at 18.8s,\testimator lgbm's best error=0.1050,\tbest estimator lgbm's best error=0.1050\n",
            "[flaml.automl.logger: 12-22 07:18:02] {2218} INFO - iteration 31, current learner lgbm\n",
            "[flaml.automl.logger: 12-22 07:18:02] {2391} INFO -  at 19.2s,\testimator lgbm's best error=0.1050,\tbest estimator lgbm's best error=0.1050\n",
            "[flaml.automl.logger: 12-22 07:18:02] {2218} INFO - iteration 32, current learner lgbm\n",
            "[flaml.automl.logger: 12-22 07:18:03] {2391} INFO -  at 19.6s,\testimator lgbm's best error=0.1050,\tbest estimator lgbm's best error=0.1050\n",
            "[flaml.automl.logger: 12-22 07:18:03] {2218} INFO - iteration 33, current learner xgboost\n",
            "[flaml.automl.logger: 12-22 07:18:03] {2391} INFO -  at 19.7s,\testimator xgboost's best error=0.3692,\tbest estimator lgbm's best error=0.1050\n",
            "[flaml.automl.logger: 12-22 07:18:03] {2218} INFO - iteration 34, current learner lgbm\n",
            "[flaml.automl.logger: 12-22 07:18:03] {2391} INFO -  at 20.2s,\testimator lgbm's best error=0.1050,\tbest estimator lgbm's best error=0.1050\n",
            "[flaml.automl.logger: 12-22 07:18:03] {2218} INFO - iteration 35, current learner rf\n",
            "[flaml.automl.logger: 12-22 07:18:04] {2391} INFO -  at 20.8s,\testimator rf's best error=0.1988,\tbest estimator lgbm's best error=0.1050\n",
            "[flaml.automl.logger: 12-22 07:18:04] {2218} INFO - iteration 36, current learner extra_tree\n",
            "[flaml.automl.logger: 12-22 07:18:04] {2391} INFO -  at 21.1s,\testimator extra_tree's best error=0.1876,\tbest estimator lgbm's best error=0.1050\n",
            "[flaml.automl.logger: 12-22 07:18:04] {2218} INFO - iteration 37, current learner rf\n",
            "[flaml.automl.logger: 12-22 07:18:05] {2391} INFO -  at 21.6s,\testimator rf's best error=0.1867,\tbest estimator lgbm's best error=0.1050\n",
            "[flaml.automl.logger: 12-22 07:18:05] {2218} INFO - iteration 38, current learner xgboost\n",
            "[flaml.automl.logger: 12-22 07:18:05] {2391} INFO -  at 21.7s,\testimator xgboost's best error=0.2675,\tbest estimator lgbm's best error=0.1050\n",
            "[flaml.automl.logger: 12-22 07:18:05] {2218} INFO - iteration 39, current learner lgbm\n",
            "[flaml.automl.logger: 12-22 07:18:06] {2391} INFO -  at 23.0s,\testimator lgbm's best error=0.0804,\tbest estimator lgbm's best error=0.0804\n",
            "[flaml.automl.logger: 12-22 07:18:06] {2218} INFO - iteration 40, current learner xgboost\n",
            "[flaml.automl.logger: 12-22 07:18:06] {2391} INFO -  at 23.2s,\testimator xgboost's best error=0.2283,\tbest estimator lgbm's best error=0.0804\n",
            "[flaml.automl.logger: 12-22 07:18:06] {2218} INFO - iteration 41, current learner xgboost\n",
            "[flaml.automl.logger: 12-22 07:18:07] {2391} INFO -  at 23.3s,\testimator xgboost's best error=0.2280,\tbest estimator lgbm's best error=0.0804\n",
            "[flaml.automl.logger: 12-22 07:18:07] {2218} INFO - iteration 42, current learner lgbm\n",
            "[flaml.automl.logger: 12-22 07:18:08] {2391} INFO -  at 24.9s,\testimator lgbm's best error=0.0655,\tbest estimator lgbm's best error=0.0655\n",
            "[flaml.automl.logger: 12-22 07:18:08] {2218} INFO - iteration 43, current learner lgbm\n",
            "[flaml.automl.logger: 12-22 07:18:09] {2391} INFO -  at 26.2s,\testimator lgbm's best error=0.0655,\tbest estimator lgbm's best error=0.0655\n",
            "[flaml.automl.logger: 12-22 07:18:09] {2218} INFO - iteration 44, current learner extra_tree\n",
            "[flaml.automl.logger: 12-22 07:18:10] {2391} INFO -  at 26.7s,\testimator extra_tree's best error=0.1706,\tbest estimator lgbm's best error=0.0655\n",
            "[flaml.automl.logger: 12-22 07:18:10] {2218} INFO - iteration 45, current learner lgbm\n",
            "[flaml.automl.logger: 12-22 07:18:11] {2391} INFO -  at 27.4s,\testimator lgbm's best error=0.0655,\tbest estimator lgbm's best error=0.0655\n",
            "[flaml.automl.logger: 12-22 07:18:11] {2218} INFO - iteration 46, current learner lgbm\n",
            "[flaml.automl.logger: 12-22 07:18:12] {2391} INFO -  at 29.0s,\testimator lgbm's best error=0.0655,\tbest estimator lgbm's best error=0.0655\n",
            "[flaml.automl.logger: 12-22 07:18:12] {2218} INFO - iteration 47, current learner extra_tree\n",
            "[flaml.automl.logger: 12-22 07:18:13] {2391} INFO -  at 29.3s,\testimator extra_tree's best error=0.1706,\tbest estimator lgbm's best error=0.0655\n",
            "[flaml.automl.logger: 12-22 07:18:13] {2218} INFO - iteration 48, current learner lgbm\n",
            "[flaml.automl.logger: 12-22 07:18:14] {2391} INFO -  at 30.8s,\testimator lgbm's best error=0.0655,\tbest estimator lgbm's best error=0.0655\n",
            "[flaml.automl.logger: 12-22 07:18:14] {2218} INFO - iteration 49, current learner lgbm\n",
            "[flaml.automl.logger: 12-22 07:18:15] {2391} INFO -  at 31.6s,\testimator lgbm's best error=0.0655,\tbest estimator lgbm's best error=0.0655\n",
            "[flaml.automl.logger: 12-22 07:18:15] {2218} INFO - iteration 50, current learner extra_tree\n",
            "[flaml.automl.logger: 12-22 07:18:15] {2391} INFO -  at 32.0s,\testimator extra_tree's best error=0.1706,\tbest estimator lgbm's best error=0.0655\n",
            "[flaml.automl.logger: 12-22 07:18:15] {2218} INFO - iteration 51, current learner lgbm\n",
            "[flaml.automl.logger: 12-22 07:18:16] {2391} INFO -  at 33.0s,\testimator lgbm's best error=0.0655,\tbest estimator lgbm's best error=0.0655\n",
            "[flaml.automl.logger: 12-22 07:18:16] {2218} INFO - iteration 52, current learner lgbm\n",
            "[flaml.automl.logger: 12-22 07:18:27] {2391} INFO -  at 43.9s,\testimator lgbm's best error=0.0423,\tbest estimator lgbm's best error=0.0423\n",
            "[flaml.automl.logger: 12-22 07:18:27] {2218} INFO - iteration 53, current learner xgb_limitdepth\n",
            "[flaml.automl.logger: 12-22 07:18:27] {2391} INFO -  at 44.1s,\testimator xgb_limitdepth's best error=0.1683,\tbest estimator lgbm's best error=0.0423\n",
            "[flaml.automl.logger: 12-22 07:18:27] {2218} INFO - iteration 54, current learner xgb_limitdepth\n",
            "[flaml.automl.logger: 12-22 07:18:27] {2391} INFO -  at 44.2s,\testimator xgb_limitdepth's best error=0.1683,\tbest estimator lgbm's best error=0.0423\n",
            "[flaml.automl.logger: 12-22 07:18:27] {2218} INFO - iteration 55, current learner lgbm\n",
            "[flaml.automl.logger: 12-22 07:18:41] {2391} INFO -  at 57.8s,\testimator lgbm's best error=0.0371,\tbest estimator lgbm's best error=0.0371\n",
            "[flaml.automl.logger: 12-22 07:18:41] {2218} INFO - iteration 56, current learner xgb_limitdepth\n",
            "[flaml.automl.logger: 12-22 07:18:41] {2391} INFO -  at 57.8s,\testimator xgb_limitdepth's best error=0.1683,\tbest estimator lgbm's best error=0.0371\n",
            "[flaml.automl.logger: 12-22 07:18:41] {2218} INFO - iteration 57, current learner xgb_limitdepth\n",
            "[flaml.automl.logger: 12-22 07:18:41] {2391} INFO -  at 57.9s,\testimator xgb_limitdepth's best error=0.1683,\tbest estimator lgbm's best error=0.0371\n",
            "[flaml.automl.logger: 12-22 07:18:41] {2218} INFO - iteration 58, current learner xgb_limitdepth\n",
            "[flaml.automl.logger: 12-22 07:18:41] {2391} INFO -  at 58.0s,\testimator xgb_limitdepth's best error=0.1683,\tbest estimator lgbm's best error=0.0371\n",
            "[flaml.automl.logger: 12-22 07:18:41] {2218} INFO - iteration 59, current learner xgb_limitdepth\n",
            "[flaml.automl.logger: 12-22 07:18:41] {2391} INFO -  at 58.1s,\testimator xgb_limitdepth's best error=0.1683,\tbest estimator lgbm's best error=0.0371\n",
            "[flaml.automl.logger: 12-22 07:18:41] {2218} INFO - iteration 60, current learner extra_tree\n",
            "[flaml.automl.logger: 12-22 07:18:41] {2391} INFO -  at 58.2s,\testimator extra_tree's best error=0.1706,\tbest estimator lgbm's best error=0.0371\n",
            "[flaml.automl.logger: 12-22 07:18:41] {2218} INFO - iteration 61, current learner xgb_limitdepth\n",
            "[flaml.automl.logger: 12-22 07:18:42] {2391} INFO -  at 58.3s,\testimator xgb_limitdepth's best error=0.1683,\tbest estimator lgbm's best error=0.0371\n",
            "[flaml.automl.logger: 12-22 07:18:42] {2218} INFO - iteration 62, current learner xgb_limitdepth\n",
            "[flaml.automl.logger: 12-22 07:18:42] {2391} INFO -  at 58.5s,\testimator xgb_limitdepth's best error=0.1683,\tbest estimator lgbm's best error=0.0371\n",
            "[flaml.automl.logger: 12-22 07:18:42] {2218} INFO - iteration 63, current learner xgb_limitdepth\n",
            "[flaml.automl.logger: 12-22 07:18:42] {2391} INFO -  at 58.8s,\testimator xgb_limitdepth's best error=0.1683,\tbest estimator lgbm's best error=0.0371\n",
            "[flaml.automl.logger: 12-22 07:18:42] {2218} INFO - iteration 64, current learner xgb_limitdepth\n",
            "[flaml.automl.logger: 12-22 07:18:42] {2391} INFO -  at 59.0s,\testimator xgb_limitdepth's best error=0.1683,\tbest estimator lgbm's best error=0.0371\n",
            "[flaml.automl.logger: 12-22 07:18:42] {2218} INFO - iteration 65, current learner extra_tree\n",
            "[flaml.automl.logger: 12-22 07:18:42] {2391} INFO -  at 59.1s,\testimator extra_tree's best error=0.1706,\tbest estimator lgbm's best error=0.0371\n",
            "[flaml.automl.logger: 12-22 07:18:42] {2218} INFO - iteration 66, current learner xgb_limitdepth\n",
            "[flaml.automl.logger: 12-22 07:18:43] {2391} INFO -  at 59.3s,\testimator xgb_limitdepth's best error=0.1683,\tbest estimator lgbm's best error=0.0371\n",
            "[flaml.automl.logger: 12-22 07:18:43] {2218} INFO - iteration 67, current learner xgb_limitdepth\n",
            "[flaml.automl.logger: 12-22 07:18:43] {2391} INFO -  at 59.5s,\testimator xgb_limitdepth's best error=0.1683,\tbest estimator lgbm's best error=0.0371\n",
            "[flaml.automl.logger: 12-22 07:18:43] {2218} INFO - iteration 68, current learner xgb_limitdepth\n",
            "[flaml.automl.logger: 12-22 07:18:43] {2391} INFO -  at 59.8s,\testimator xgb_limitdepth's best error=0.1683,\tbest estimator lgbm's best error=0.0371\n",
            "[flaml.automl.logger: 12-22 07:18:43] {2218} INFO - iteration 69, current learner xgb_limitdepth\n",
            "[flaml.automl.logger: 12-22 07:18:43] {2391} INFO -  at 60.0s,\testimator xgb_limitdepth's best error=0.1683,\tbest estimator lgbm's best error=0.0371\n",
            "[flaml.automl.logger: 12-22 07:18:59] {2627} INFO - retrain lgbm for 15.5s\n",
            "[flaml.automl.logger: 12-22 07:18:59] {2630} INFO - retrained model: LGBMRegressor(colsample_bytree=0.6909374813150135,\n",
            "              learning_rate=0.09481395315747287, max_bin=1023,\n",
            "              min_child_samples=2, n_estimators=1, n_jobs=-1, num_leaves=483,\n",
            "              reg_alpha=0.0009765625, reg_lambda=0.02147471326543607,\n",
            "              verbose=-1)\n",
            "[flaml.automl.logger: 12-22 07:18:59] {1930} INFO - fit succeeded\n",
            "[flaml.automl.logger: 12-22 07:18:59] {1931} INFO - Time taken to find the best model: 57.75197243690491\n"
          ]
        }
      ]
    },
    {
      "cell_type": "code",
      "source": [
        "# print('Best ML model:', automl.model)\n",
        "# print('Best hyperparameter config:', automl.best_config)\n",
        "# print('Best accuracy on validation data: {0:.4g}'.format(1-automl.best_loss))\n",
        "# print('Training duration of best run: {0:.4g} s'.format(automl.best_config_train_time))"
      ],
      "metadata": {
        "colab": {
          "base_uri": "https://localhost:8080/"
        },
        "id": "-3ZQF564WpY7",
        "outputId": "7c0a4a87-8022-4e54-cb2b-062d47fa5258"
      },
      "execution_count": null,
      "outputs": [
        {
          "output_type": "stream",
          "name": "stdout",
          "text": [
            "Best ML model: <flaml.automl.model.LGBMEstimator object at 0x78415999bdc0>\n",
            "Best hyperparameter config: {'n_estimators': 68, 'num_leaves': 483, 'min_child_samples': 2, 'learning_rate': 0.09481395315747287, 'log_max_bin': 10, 'colsample_bytree': 0.6909374813150135, 'reg_alpha': 0.0009765625, 'reg_lambda': 0.02147471326543607}\n",
            "Best accuracy on validation data: 0.9629\n",
            "Training duration of best run: 15.49 s\n"
          ]
        }
      ]
    },
    {
      "cell_type": "code",
      "source": [
        "# automl.model.estimator"
      ],
      "metadata": {
        "colab": {
          "base_uri": "https://localhost:8080/",
          "height": 144
        },
        "id": "ejLt7BQwXAKR",
        "outputId": "17e743c0-1fa2-4c76-e4c6-91cc17922522"
      },
      "execution_count": null,
      "outputs": [
        {
          "output_type": "execute_result",
          "data": {
            "text/plain": [
              "LGBMRegressor(colsample_bytree=0.6909374813150135,\n",
              "              learning_rate=0.09481395315747287, max_bin=1023,\n",
              "              min_child_samples=2, n_estimators=1, n_jobs=-1, num_leaves=483,\n",
              "              reg_alpha=0.0009765625, reg_lambda=0.02147471326543607,\n",
              "              verbose=-1)"
            ],
            "text/html": [
              "<style>#sk-container-id-1 {color: black;background-color: white;}#sk-container-id-1 pre{padding: 0;}#sk-container-id-1 div.sk-toggleable {background-color: white;}#sk-container-id-1 label.sk-toggleable__label {cursor: pointer;display: block;width: 100%;margin-bottom: 0;padding: 0.3em;box-sizing: border-box;text-align: center;}#sk-container-id-1 label.sk-toggleable__label-arrow:before {content: \"▸\";float: left;margin-right: 0.25em;color: #696969;}#sk-container-id-1 label.sk-toggleable__label-arrow:hover:before {color: black;}#sk-container-id-1 div.sk-estimator:hover label.sk-toggleable__label-arrow:before {color: black;}#sk-container-id-1 div.sk-toggleable__content {max-height: 0;max-width: 0;overflow: hidden;text-align: left;background-color: #f0f8ff;}#sk-container-id-1 div.sk-toggleable__content pre {margin: 0.2em;color: black;border-radius: 0.25em;background-color: #f0f8ff;}#sk-container-id-1 input.sk-toggleable__control:checked~div.sk-toggleable__content {max-height: 200px;max-width: 100%;overflow: auto;}#sk-container-id-1 input.sk-toggleable__control:checked~label.sk-toggleable__label-arrow:before {content: \"▾\";}#sk-container-id-1 div.sk-estimator input.sk-toggleable__control:checked~label.sk-toggleable__label {background-color: #d4ebff;}#sk-container-id-1 div.sk-label input.sk-toggleable__control:checked~label.sk-toggleable__label {background-color: #d4ebff;}#sk-container-id-1 input.sk-hidden--visually {border: 0;clip: rect(1px 1px 1px 1px);clip: rect(1px, 1px, 1px, 1px);height: 1px;margin: -1px;overflow: hidden;padding: 0;position: absolute;width: 1px;}#sk-container-id-1 div.sk-estimator {font-family: monospace;background-color: #f0f8ff;border: 1px dotted black;border-radius: 0.25em;box-sizing: border-box;margin-bottom: 0.5em;}#sk-container-id-1 div.sk-estimator:hover {background-color: #d4ebff;}#sk-container-id-1 div.sk-parallel-item::after {content: \"\";width: 100%;border-bottom: 1px solid gray;flex-grow: 1;}#sk-container-id-1 div.sk-label:hover label.sk-toggleable__label {background-color: #d4ebff;}#sk-container-id-1 div.sk-serial::before {content: \"\";position: absolute;border-left: 1px solid gray;box-sizing: border-box;top: 0;bottom: 0;left: 50%;z-index: 0;}#sk-container-id-1 div.sk-serial {display: flex;flex-direction: column;align-items: center;background-color: white;padding-right: 0.2em;padding-left: 0.2em;position: relative;}#sk-container-id-1 div.sk-item {position: relative;z-index: 1;}#sk-container-id-1 div.sk-parallel {display: flex;align-items: stretch;justify-content: center;background-color: white;position: relative;}#sk-container-id-1 div.sk-item::before, #sk-container-id-1 div.sk-parallel-item::before {content: \"\";position: absolute;border-left: 1px solid gray;box-sizing: border-box;top: 0;bottom: 0;left: 50%;z-index: -1;}#sk-container-id-1 div.sk-parallel-item {display: flex;flex-direction: column;z-index: 1;position: relative;background-color: white;}#sk-container-id-1 div.sk-parallel-item:first-child::after {align-self: flex-end;width: 50%;}#sk-container-id-1 div.sk-parallel-item:last-child::after {align-self: flex-start;width: 50%;}#sk-container-id-1 div.sk-parallel-item:only-child::after {width: 0;}#sk-container-id-1 div.sk-dashed-wrapped {border: 1px dashed gray;margin: 0 0.4em 0.5em 0.4em;box-sizing: border-box;padding-bottom: 0.4em;background-color: white;}#sk-container-id-1 div.sk-label label {font-family: monospace;font-weight: bold;display: inline-block;line-height: 1.2em;}#sk-container-id-1 div.sk-label-container {text-align: center;}#sk-container-id-1 div.sk-container {/* jupyter's `normalize.less` sets `[hidden] { display: none; }` but bootstrap.min.css set `[hidden] { display: none !important; }` so we also need the `!important` here to be able to override the default hidden behavior on the sphinx rendered scikit-learn.org. See: https://github.com/scikit-learn/scikit-learn/issues/21755 */display: inline-block !important;position: relative;}#sk-container-id-1 div.sk-text-repr-fallback {display: none;}</style><div id=\"sk-container-id-1\" class=\"sk-top-container\"><div class=\"sk-text-repr-fallback\"><pre>LGBMRegressor(colsample_bytree=0.6909374813150135,\n",
              "              learning_rate=0.09481395315747287, max_bin=1023,\n",
              "              min_child_samples=2, n_estimators=1, n_jobs=-1, num_leaves=483,\n",
              "              reg_alpha=0.0009765625, reg_lambda=0.02147471326543607,\n",
              "              verbose=-1)</pre><b>In a Jupyter environment, please rerun this cell to show the HTML representation or trust the notebook. <br />On GitHub, the HTML representation is unable to render, please try loading this page with nbviewer.org.</b></div><div class=\"sk-container\" hidden><div class=\"sk-item\"><div class=\"sk-estimator sk-toggleable\"><input class=\"sk-toggleable__control sk-hidden--visually\" id=\"sk-estimator-id-1\" type=\"checkbox\" checked><label for=\"sk-estimator-id-1\" class=\"sk-toggleable__label sk-toggleable__label-arrow\">LGBMRegressor</label><div class=\"sk-toggleable__content\"><pre>LGBMRegressor(colsample_bytree=0.6909374813150135,\n",
              "              learning_rate=0.09481395315747287, max_bin=1023,\n",
              "              min_child_samples=2, n_estimators=1, n_jobs=-1, num_leaves=483,\n",
              "              reg_alpha=0.0009765625, reg_lambda=0.02147471326543607,\n",
              "              verbose=-1)</pre></div></div></div></div></div>"
            ]
          },
          "metadata": {},
          "execution_count": 14
        }
      ]
    },
    {
      "cell_type": "code",
      "source": [
        "# y_pred = automl.predict(X_test)\n",
        "\n",
        "# from sklearn.metrics import mean_absolute_error, mean_squared_error, r2_score\n",
        "\n",
        "# # 평균 제곱 오차 (Mean Squared Error, MSE) 계산\n",
        "# mse = mean_squared_error(y_test, y_pred)\n",
        "\n",
        "# # 평균 절대 오차 (Mean Absolute Error, MAE) 계산\n",
        "# mae = mean_absolute_error(y_test, y_pred)\n",
        "\n",
        "# # 결정 계수 (R-squared, R2) 계산\n",
        "# r2 = r2_score(y_test, y_pred)\n",
        "\n",
        "# print('Mean Squared Error (MSE) =', mse)\n",
        "# print('Mean Absolute Error (MAE) =', mae)\n",
        "# print('R-squared (R2) =', r2)"
      ],
      "metadata": {
        "colab": {
          "base_uri": "https://localhost:8080/"
        },
        "id": "jKB7rkraXPRP",
        "outputId": "a26719c2-0712-4cc5-d042-4342e9990a46"
      },
      "execution_count": null,
      "outputs": [
        {
          "output_type": "stream",
          "name": "stdout",
          "text": [
            "Mean Squared Error (MSE) = 1148379669.3470547\n",
            "Mean Absolute Error (MAE) = 21841.66759417521\n",
            "R-squared (R2) = 0.7485887582572791\n"
          ]
        }
      ]
    },
    {
      "cell_type": "markdown",
      "source": [
        "# 600초"
      ],
      "metadata": {
        "id": "CDO_9lL8eIDT"
      }
    },
    {
      "cell_type": "code",
      "source": [
        "# from flaml import AutoML\n",
        "# automl = AutoML()\n",
        "# automl.fit(X_train=X_train, y_train=y_train, task=\"regression\", time_budget=600, verbose=False)"
      ],
      "metadata": {
        "id": "KtgGsWoAV_V_"
      },
      "execution_count": null,
      "outputs": []
    },
    {
      "cell_type": "code",
      "source": [
        "# print('Best ML model:', automl.model)\n",
        "# print('Best hyperparameter config:', automl.best_config)\n",
        "# print('Best accuracy on validation data: {0:.4g}'.format(1-automl.best_loss))\n",
        "# print('Training duration of best run: {0:.4g} s'.format(automl.best_config_train_time))"
      ],
      "metadata": {
        "colab": {
          "base_uri": "https://localhost:8080/"
        },
        "id": "qcNbsQybZUW9",
        "outputId": "9f3f0ed8-c528-4c70-ecf8-f7188ec99ce9"
      },
      "execution_count": null,
      "outputs": [
        {
          "output_type": "stream",
          "name": "stdout",
          "text": [
            "Best ML model: <flaml.automl.model.XGBoostLimitDepthEstimator object at 0x78415251b160>\n",
            "Best hyperparameter config: {'n_estimators': 1864, 'max_depth': 12, 'min_child_weight': 0.7912277841550306, 'learning_rate': 0.20650835804567913, 'subsample': 0.8949520308141511, 'colsample_bylevel': 0.4128575226951954, 'colsample_bytree': 0.5209715034089666, 'reg_alpha': 2.1712246834068027, 'reg_lambda': 8.28578332309534}\n",
            "Best accuracy on validation data: 0.9681\n",
            "Training duration of best run: 304.3 s\n"
          ]
        }
      ]
    },
    {
      "cell_type": "code",
      "source": [
        "automl.model.estimator"
      ],
      "metadata": {
        "colab": {
          "base_uri": "https://localhost:8080/",
          "height": 252
        },
        "id": "yb6uYO0sZXfD",
        "outputId": "bb552859-11df-4cb2-d61e-57d9215ada60"
      },
      "execution_count": null,
      "outputs": [
        {
          "output_type": "execute_result",
          "data": {
            "text/plain": [
              "XGBRegressor(base_score=None, booster=None, callbacks=[],\n",
              "             colsample_bylevel=0.4128575226951954, colsample_bynode=None,\n",
              "             colsample_bytree=0.5209715034089666, device=None,\n",
              "             early_stopping_rounds=None, enable_categorical=False,\n",
              "             eval_metric=None, feature_types=None, gamma=None, grow_policy=None,\n",
              "             importance_type=None, interaction_constraints=None,\n",
              "             learning_rate=0.20650835804567913, max_bin=None,\n",
              "             max_cat_threshold=None, max_cat_to_onehot=None,\n",
              "             max_delta_step=None, max_depth=12, max_leaves=None,\n",
              "             min_child_weight=0.7912277841550306, missing=nan,\n",
              "             monotone_constraints=None, multi_strategy=None, n_estimators=1864,\n",
              "             n_jobs=-1, num_parallel_tree=None, random_state=None, ...)"
            ],
            "text/html": [
              "<style>#sk-container-id-2 {color: black;background-color: white;}#sk-container-id-2 pre{padding: 0;}#sk-container-id-2 div.sk-toggleable {background-color: white;}#sk-container-id-2 label.sk-toggleable__label {cursor: pointer;display: block;width: 100%;margin-bottom: 0;padding: 0.3em;box-sizing: border-box;text-align: center;}#sk-container-id-2 label.sk-toggleable__label-arrow:before {content: \"▸\";float: left;margin-right: 0.25em;color: #696969;}#sk-container-id-2 label.sk-toggleable__label-arrow:hover:before {color: black;}#sk-container-id-2 div.sk-estimator:hover label.sk-toggleable__label-arrow:before {color: black;}#sk-container-id-2 div.sk-toggleable__content {max-height: 0;max-width: 0;overflow: hidden;text-align: left;background-color: #f0f8ff;}#sk-container-id-2 div.sk-toggleable__content pre {margin: 0.2em;color: black;border-radius: 0.25em;background-color: #f0f8ff;}#sk-container-id-2 input.sk-toggleable__control:checked~div.sk-toggleable__content {max-height: 200px;max-width: 100%;overflow: auto;}#sk-container-id-2 input.sk-toggleable__control:checked~label.sk-toggleable__label-arrow:before {content: \"▾\";}#sk-container-id-2 div.sk-estimator input.sk-toggleable__control:checked~label.sk-toggleable__label {background-color: #d4ebff;}#sk-container-id-2 div.sk-label input.sk-toggleable__control:checked~label.sk-toggleable__label {background-color: #d4ebff;}#sk-container-id-2 input.sk-hidden--visually {border: 0;clip: rect(1px 1px 1px 1px);clip: rect(1px, 1px, 1px, 1px);height: 1px;margin: -1px;overflow: hidden;padding: 0;position: absolute;width: 1px;}#sk-container-id-2 div.sk-estimator {font-family: monospace;background-color: #f0f8ff;border: 1px dotted black;border-radius: 0.25em;box-sizing: border-box;margin-bottom: 0.5em;}#sk-container-id-2 div.sk-estimator:hover {background-color: #d4ebff;}#sk-container-id-2 div.sk-parallel-item::after {content: \"\";width: 100%;border-bottom: 1px solid gray;flex-grow: 1;}#sk-container-id-2 div.sk-label:hover label.sk-toggleable__label {background-color: #d4ebff;}#sk-container-id-2 div.sk-serial::before {content: \"\";position: absolute;border-left: 1px solid gray;box-sizing: border-box;top: 0;bottom: 0;left: 50%;z-index: 0;}#sk-container-id-2 div.sk-serial {display: flex;flex-direction: column;align-items: center;background-color: white;padding-right: 0.2em;padding-left: 0.2em;position: relative;}#sk-container-id-2 div.sk-item {position: relative;z-index: 1;}#sk-container-id-2 div.sk-parallel {display: flex;align-items: stretch;justify-content: center;background-color: white;position: relative;}#sk-container-id-2 div.sk-item::before, #sk-container-id-2 div.sk-parallel-item::before {content: \"\";position: absolute;border-left: 1px solid gray;box-sizing: border-box;top: 0;bottom: 0;left: 50%;z-index: -1;}#sk-container-id-2 div.sk-parallel-item {display: flex;flex-direction: column;z-index: 1;position: relative;background-color: white;}#sk-container-id-2 div.sk-parallel-item:first-child::after {align-self: flex-end;width: 50%;}#sk-container-id-2 div.sk-parallel-item:last-child::after {align-self: flex-start;width: 50%;}#sk-container-id-2 div.sk-parallel-item:only-child::after {width: 0;}#sk-container-id-2 div.sk-dashed-wrapped {border: 1px dashed gray;margin: 0 0.4em 0.5em 0.4em;box-sizing: border-box;padding-bottom: 0.4em;background-color: white;}#sk-container-id-2 div.sk-label label {font-family: monospace;font-weight: bold;display: inline-block;line-height: 1.2em;}#sk-container-id-2 div.sk-label-container {text-align: center;}#sk-container-id-2 div.sk-container {/* jupyter's `normalize.less` sets `[hidden] { display: none; }` but bootstrap.min.css set `[hidden] { display: none !important; }` so we also need the `!important` here to be able to override the default hidden behavior on the sphinx rendered scikit-learn.org. See: https://github.com/scikit-learn/scikit-learn/issues/21755 */display: inline-block !important;position: relative;}#sk-container-id-2 div.sk-text-repr-fallback {display: none;}</style><div id=\"sk-container-id-2\" class=\"sk-top-container\"><div class=\"sk-text-repr-fallback\"><pre>XGBRegressor(base_score=None, booster=None, callbacks=[],\n",
              "             colsample_bylevel=0.4128575226951954, colsample_bynode=None,\n",
              "             colsample_bytree=0.5209715034089666, device=None,\n",
              "             early_stopping_rounds=None, enable_categorical=False,\n",
              "             eval_metric=None, feature_types=None, gamma=None, grow_policy=None,\n",
              "             importance_type=None, interaction_constraints=None,\n",
              "             learning_rate=0.20650835804567913, max_bin=None,\n",
              "             max_cat_threshold=None, max_cat_to_onehot=None,\n",
              "             max_delta_step=None, max_depth=12, max_leaves=None,\n",
              "             min_child_weight=0.7912277841550306, missing=nan,\n",
              "             monotone_constraints=None, multi_strategy=None, n_estimators=1864,\n",
              "             n_jobs=-1, num_parallel_tree=None, random_state=None, ...)</pre><b>In a Jupyter environment, please rerun this cell to show the HTML representation or trust the notebook. <br />On GitHub, the HTML representation is unable to render, please try loading this page with nbviewer.org.</b></div><div class=\"sk-container\" hidden><div class=\"sk-item\"><div class=\"sk-estimator sk-toggleable\"><input class=\"sk-toggleable__control sk-hidden--visually\" id=\"sk-estimator-id-2\" type=\"checkbox\" checked><label for=\"sk-estimator-id-2\" class=\"sk-toggleable__label sk-toggleable__label-arrow\">XGBRegressor</label><div class=\"sk-toggleable__content\"><pre>XGBRegressor(base_score=None, booster=None, callbacks=[],\n",
              "             colsample_bylevel=0.4128575226951954, colsample_bynode=None,\n",
              "             colsample_bytree=0.5209715034089666, device=None,\n",
              "             early_stopping_rounds=None, enable_categorical=False,\n",
              "             eval_metric=None, feature_types=None, gamma=None, grow_policy=None,\n",
              "             importance_type=None, interaction_constraints=None,\n",
              "             learning_rate=0.20650835804567913, max_bin=None,\n",
              "             max_cat_threshold=None, max_cat_to_onehot=None,\n",
              "             max_delta_step=None, max_depth=12, max_leaves=None,\n",
              "             min_child_weight=0.7912277841550306, missing=nan,\n",
              "             monotone_constraints=None, multi_strategy=None, n_estimators=1864,\n",
              "             n_jobs=-1, num_parallel_tree=None, random_state=None, ...)</pre></div></div></div></div></div>"
            ]
          },
          "metadata": {},
          "execution_count": 18
        }
      ]
    },
    {
      "cell_type": "code",
      "source": [
        "y_pred = automl.predict(X_test)\n",
        "\n",
        "from sklearn.metrics import mean_absolute_error, mean_squared_error, r2_score\n",
        "\n",
        "# 평균 제곱 오차 (Mean Squared Error, MSE) 계산\n",
        "mse = mean_squared_error(y_test, y_pred)\n",
        "\n",
        "# 평균 절대 오차 (Mean Absolute Error, MAE) 계산\n",
        "mae = mean_absolute_error(y_test, y_pred)\n",
        "\n",
        "# 결정 계수 (R-squared, R2) 계산\n",
        "r2 = r2_score(y_test, y_pred)\n",
        "\n",
        "print('Mean Squared Error (MSE) =', mse)\n",
        "print('Mean Absolute Error (MAE) =', mae)\n",
        "print('R-squared (R2) =', r2)"
      ],
      "metadata": {
        "colab": {
          "base_uri": "https://localhost:8080/"
        },
        "id": "FSHJ3I5WZcGq",
        "outputId": "6fd86601-7e73-4495-8cb3-2cac498d75b7"
      },
      "execution_count": null,
      "outputs": [
        {
          "output_type": "stream",
          "name": "stdout",
          "text": [
            "Mean Squared Error (MSE) = 1461656400.4597173\n",
            "Mean Absolute Error (MAE) = 24135.94279800424\n",
            "R-squared (R2) = 0.6800040435671304\n"
          ]
        }
      ]
    },
    {
      "cell_type": "markdown",
      "source": [
        "# 300초"
      ],
      "metadata": {
        "id": "Sp0ZI4JOd48j"
      }
    },
    {
      "cell_type": "code",
      "source": [
        "from flaml import AutoML\n",
        "automl = AutoML()\n",
        "automl.fit(X_train=X_train, y_train=y_train, task=\"regression\", time_budget=300, verbose=False)"
      ],
      "metadata": {
        "id": "p9qz_DVzc-Vj"
      },
      "execution_count": null,
      "outputs": []
    },
    {
      "cell_type": "code",
      "source": [
        "print('Best ML model:', automl.model)\n",
        "print('Best hyperparameter config:', automl.best_config)\n",
        "print('Best accuracy on validation data: {0:.4g}'.format(1-automl.best_loss))\n",
        "print('Training duration of best run: {0:.4g} s'.format(automl.best_config_train_time))"
      ],
      "metadata": {
        "colab": {
          "base_uri": "https://localhost:8080/"
        },
        "id": "JKfn-7tEd_85",
        "outputId": "e43498c7-63e5-4b2c-95cb-b2b5575895c6"
      },
      "execution_count": null,
      "outputs": [
        {
          "output_type": "stream",
          "name": "stdout",
          "text": [
            "Best ML model: <flaml.automl.model.XGBoostLimitDepthEstimator object at 0x78415251bac0>\n",
            "Best hyperparameter config: {'n_estimators': 864, 'max_depth': 12, 'min_child_weight': 13.945672358103938, 'learning_rate': 0.029286220318750136, 'subsample': 0.8413048297641477, 'colsample_bylevel': 0.5493443205226076, 'colsample_bytree': 0.7111229614644518, 'reg_alpha': 0.0031118183785093945, 'reg_lambda': 1.7060678113402006}\n",
            "Best accuracy on validation data: 0.9698\n",
            "Training duration of best run: 126.3 s\n"
          ]
        }
      ]
    },
    {
      "cell_type": "code",
      "source": [
        "automl.model.estimator"
      ],
      "metadata": {
        "colab": {
          "base_uri": "https://localhost:8080/",
          "height": 252
        },
        "id": "ZQNrk_JKe2Rj",
        "outputId": "8bf426bb-57f2-45de-989b-6d15d2988488"
      },
      "execution_count": null,
      "outputs": [
        {
          "output_type": "execute_result",
          "data": {
            "text/plain": [
              "XGBRegressor(base_score=None, booster=None, callbacks=[],\n",
              "             colsample_bylevel=0.5493443205226076, colsample_bynode=None,\n",
              "             colsample_bytree=0.7111229614644518, device=None,\n",
              "             early_stopping_rounds=None, enable_categorical=False,\n",
              "             eval_metric=None, feature_types=None, gamma=None, grow_policy=None,\n",
              "             importance_type=None, interaction_constraints=None,\n",
              "             learning_rate=0.029286220318750136, max_bin=None,\n",
              "             max_cat_threshold=None, max_cat_to_onehot=None,\n",
              "             max_delta_step=None, max_depth=12, max_leaves=None,\n",
              "             min_child_weight=13.945672358103938, missing=nan,\n",
              "             monotone_constraints=None, multi_strategy=None, n_estimators=864,\n",
              "             n_jobs=-1, num_parallel_tree=None, random_state=None, ...)"
            ],
            "text/html": [
              "<style>#sk-container-id-3 {color: black;background-color: white;}#sk-container-id-3 pre{padding: 0;}#sk-container-id-3 div.sk-toggleable {background-color: white;}#sk-container-id-3 label.sk-toggleable__label {cursor: pointer;display: block;width: 100%;margin-bottom: 0;padding: 0.3em;box-sizing: border-box;text-align: center;}#sk-container-id-3 label.sk-toggleable__label-arrow:before {content: \"▸\";float: left;margin-right: 0.25em;color: #696969;}#sk-container-id-3 label.sk-toggleable__label-arrow:hover:before {color: black;}#sk-container-id-3 div.sk-estimator:hover label.sk-toggleable__label-arrow:before {color: black;}#sk-container-id-3 div.sk-toggleable__content {max-height: 0;max-width: 0;overflow: hidden;text-align: left;background-color: #f0f8ff;}#sk-container-id-3 div.sk-toggleable__content pre {margin: 0.2em;color: black;border-radius: 0.25em;background-color: #f0f8ff;}#sk-container-id-3 input.sk-toggleable__control:checked~div.sk-toggleable__content {max-height: 200px;max-width: 100%;overflow: auto;}#sk-container-id-3 input.sk-toggleable__control:checked~label.sk-toggleable__label-arrow:before {content: \"▾\";}#sk-container-id-3 div.sk-estimator input.sk-toggleable__control:checked~label.sk-toggleable__label {background-color: #d4ebff;}#sk-container-id-3 div.sk-label input.sk-toggleable__control:checked~label.sk-toggleable__label {background-color: #d4ebff;}#sk-container-id-3 input.sk-hidden--visually {border: 0;clip: rect(1px 1px 1px 1px);clip: rect(1px, 1px, 1px, 1px);height: 1px;margin: -1px;overflow: hidden;padding: 0;position: absolute;width: 1px;}#sk-container-id-3 div.sk-estimator {font-family: monospace;background-color: #f0f8ff;border: 1px dotted black;border-radius: 0.25em;box-sizing: border-box;margin-bottom: 0.5em;}#sk-container-id-3 div.sk-estimator:hover {background-color: #d4ebff;}#sk-container-id-3 div.sk-parallel-item::after {content: \"\";width: 100%;border-bottom: 1px solid gray;flex-grow: 1;}#sk-container-id-3 div.sk-label:hover label.sk-toggleable__label {background-color: #d4ebff;}#sk-container-id-3 div.sk-serial::before {content: \"\";position: absolute;border-left: 1px solid gray;box-sizing: border-box;top: 0;bottom: 0;left: 50%;z-index: 0;}#sk-container-id-3 div.sk-serial {display: flex;flex-direction: column;align-items: center;background-color: white;padding-right: 0.2em;padding-left: 0.2em;position: relative;}#sk-container-id-3 div.sk-item {position: relative;z-index: 1;}#sk-container-id-3 div.sk-parallel {display: flex;align-items: stretch;justify-content: center;background-color: white;position: relative;}#sk-container-id-3 div.sk-item::before, #sk-container-id-3 div.sk-parallel-item::before {content: \"\";position: absolute;border-left: 1px solid gray;box-sizing: border-box;top: 0;bottom: 0;left: 50%;z-index: -1;}#sk-container-id-3 div.sk-parallel-item {display: flex;flex-direction: column;z-index: 1;position: relative;background-color: white;}#sk-container-id-3 div.sk-parallel-item:first-child::after {align-self: flex-end;width: 50%;}#sk-container-id-3 div.sk-parallel-item:last-child::after {align-self: flex-start;width: 50%;}#sk-container-id-3 div.sk-parallel-item:only-child::after {width: 0;}#sk-container-id-3 div.sk-dashed-wrapped {border: 1px dashed gray;margin: 0 0.4em 0.5em 0.4em;box-sizing: border-box;padding-bottom: 0.4em;background-color: white;}#sk-container-id-3 div.sk-label label {font-family: monospace;font-weight: bold;display: inline-block;line-height: 1.2em;}#sk-container-id-3 div.sk-label-container {text-align: center;}#sk-container-id-3 div.sk-container {/* jupyter's `normalize.less` sets `[hidden] { display: none; }` but bootstrap.min.css set `[hidden] { display: none !important; }` so we also need the `!important` here to be able to override the default hidden behavior on the sphinx rendered scikit-learn.org. See: https://github.com/scikit-learn/scikit-learn/issues/21755 */display: inline-block !important;position: relative;}#sk-container-id-3 div.sk-text-repr-fallback {display: none;}</style><div id=\"sk-container-id-3\" class=\"sk-top-container\"><div class=\"sk-text-repr-fallback\"><pre>XGBRegressor(base_score=None, booster=None, callbacks=[],\n",
              "             colsample_bylevel=0.5493443205226076, colsample_bynode=None,\n",
              "             colsample_bytree=0.7111229614644518, device=None,\n",
              "             early_stopping_rounds=None, enable_categorical=False,\n",
              "             eval_metric=None, feature_types=None, gamma=None, grow_policy=None,\n",
              "             importance_type=None, interaction_constraints=None,\n",
              "             learning_rate=0.029286220318750136, max_bin=None,\n",
              "             max_cat_threshold=None, max_cat_to_onehot=None,\n",
              "             max_delta_step=None, max_depth=12, max_leaves=None,\n",
              "             min_child_weight=13.945672358103938, missing=nan,\n",
              "             monotone_constraints=None, multi_strategy=None, n_estimators=864,\n",
              "             n_jobs=-1, num_parallel_tree=None, random_state=None, ...)</pre><b>In a Jupyter environment, please rerun this cell to show the HTML representation or trust the notebook. <br />On GitHub, the HTML representation is unable to render, please try loading this page with nbviewer.org.</b></div><div class=\"sk-container\" hidden><div class=\"sk-item\"><div class=\"sk-estimator sk-toggleable\"><input class=\"sk-toggleable__control sk-hidden--visually\" id=\"sk-estimator-id-3\" type=\"checkbox\" checked><label for=\"sk-estimator-id-3\" class=\"sk-toggleable__label sk-toggleable__label-arrow\">XGBRegressor</label><div class=\"sk-toggleable__content\"><pre>XGBRegressor(base_score=None, booster=None, callbacks=[],\n",
              "             colsample_bylevel=0.5493443205226076, colsample_bynode=None,\n",
              "             colsample_bytree=0.7111229614644518, device=None,\n",
              "             early_stopping_rounds=None, enable_categorical=False,\n",
              "             eval_metric=None, feature_types=None, gamma=None, grow_policy=None,\n",
              "             importance_type=None, interaction_constraints=None,\n",
              "             learning_rate=0.029286220318750136, max_bin=None,\n",
              "             max_cat_threshold=None, max_cat_to_onehot=None,\n",
              "             max_delta_step=None, max_depth=12, max_leaves=None,\n",
              "             min_child_weight=13.945672358103938, missing=nan,\n",
              "             monotone_constraints=None, multi_strategy=None, n_estimators=864,\n",
              "             n_jobs=-1, num_parallel_tree=None, random_state=None, ...)</pre></div></div></div></div></div>"
            ]
          },
          "metadata": {},
          "execution_count": 22
        }
      ]
    },
    {
      "cell_type": "code",
      "source": [
        "y_pred = automl.predict(X_test)\n",
        "\n",
        "from sklearn.metrics import mean_absolute_error, mean_squared_error, r2_score\n",
        "\n",
        "# 평균 제곱 오차 (Mean Squared Error, MSE) 계산\n",
        "mse = mean_squared_error(y_test, y_pred)\n",
        "\n",
        "# 평균 절대 오차 (Mean Absolute Error, MAE) 계산\n",
        "mae = mean_absolute_error(y_test, y_pred)\n",
        "\n",
        "# 결정 계수 (R-squared, R2) 계산\n",
        "r2 = r2_score(y_test, y_pred)\n",
        "\n",
        "print('Mean Squared Error (MSE) =', mse)\n",
        "print('Mean Absolute Error (MAE) =', mae)\n",
        "print('R-squared (R2) =', r2)"
      ],
      "metadata": {
        "colab": {
          "base_uri": "https://localhost:8080/"
        },
        "id": "jNgWeKame-eG",
        "outputId": "5ff47712-9cd4-4014-fad1-8998cd96c654"
      },
      "execution_count": null,
      "outputs": [
        {
          "output_type": "stream",
          "name": "stdout",
          "text": [
            "Mean Squared Error (MSE) = 1098266191.2839317\n",
            "Mean Absolute Error (MAE) = 20727.968566689688\n",
            "R-squared (R2) = 0.7595599484343569\n"
          ]
        }
      ]
    },
    {
      "cell_type": "markdown",
      "source": [
        "# 120초"
      ],
      "metadata": {
        "id": "91ai9is7f-g5"
      }
    },
    {
      "cell_type": "code",
      "source": [
        "from flaml import AutoML\n",
        "automl = AutoML()\n",
        "automl.fit(X_train=X_train, y_train=y_train, task=\"regression\", time_budget=120, verbose=False)"
      ],
      "metadata": {
        "id": "42rG3BVJfvzu"
      },
      "execution_count": null,
      "outputs": []
    },
    {
      "cell_type": "code",
      "source": [
        "print('Best ML model:', automl.model)\n",
        "print('Best hyperparameter config:', automl.best_config)\n",
        "print('Best accuracy on validation data: {0:.4g}'.format(1-automl.best_loss))\n",
        "print('Training duration of best run: {0:.4g} s'.format(automl.best_config_train_time))"
      ],
      "metadata": {
        "colab": {
          "base_uri": "https://localhost:8080/"
        },
        "id": "OttaSqx7gARp",
        "outputId": "60c6f67d-995e-4ba6-e94c-14d51d289e55"
      },
      "execution_count": null,
      "outputs": [
        {
          "output_type": "stream",
          "name": "stdout",
          "text": [
            "Best ML model: <flaml.automl.model.LGBMEstimator object at 0x78415999be20>\n",
            "Best hyperparameter config: {'n_estimators': 399, 'num_leaves': 45, 'min_child_samples': 3, 'learning_rate': 0.05646061409019466, 'log_max_bin': 7, 'colsample_bytree': 0.5178642845063358, 'reg_alpha': 0.0009765625, 'reg_lambda': 0.01039649327225154}\n",
            "Best accuracy on validation data: 0.9449\n",
            "Training duration of best run: 35.32 s\n"
          ]
        }
      ]
    },
    {
      "cell_type": "code",
      "source": [
        "automl.model.estimator"
      ],
      "metadata": {
        "colab": {
          "base_uri": "https://localhost:8080/",
          "height": 144
        },
        "id": "TwJXPe4XgIkV",
        "outputId": "7c355137-4838-4e3d-b6c6-37b9ef948d50"
      },
      "execution_count": null,
      "outputs": [
        {
          "output_type": "execute_result",
          "data": {
            "text/plain": [
              "LGBMRegressor(colsample_bytree=0.5178642845063358,\n",
              "              learning_rate=0.05646061409019466, max_bin=127,\n",
              "              min_child_samples=3, n_estimators=1, n_jobs=-1, num_leaves=45,\n",
              "              reg_alpha=0.0009765625, reg_lambda=0.01039649327225154,\n",
              "              verbose=-1)"
            ],
            "text/html": [
              "<style>#sk-container-id-4 {color: black;background-color: white;}#sk-container-id-4 pre{padding: 0;}#sk-container-id-4 div.sk-toggleable {background-color: white;}#sk-container-id-4 label.sk-toggleable__label {cursor: pointer;display: block;width: 100%;margin-bottom: 0;padding: 0.3em;box-sizing: border-box;text-align: center;}#sk-container-id-4 label.sk-toggleable__label-arrow:before {content: \"▸\";float: left;margin-right: 0.25em;color: #696969;}#sk-container-id-4 label.sk-toggleable__label-arrow:hover:before {color: black;}#sk-container-id-4 div.sk-estimator:hover label.sk-toggleable__label-arrow:before {color: black;}#sk-container-id-4 div.sk-toggleable__content {max-height: 0;max-width: 0;overflow: hidden;text-align: left;background-color: #f0f8ff;}#sk-container-id-4 div.sk-toggleable__content pre {margin: 0.2em;color: black;border-radius: 0.25em;background-color: #f0f8ff;}#sk-container-id-4 input.sk-toggleable__control:checked~div.sk-toggleable__content {max-height: 200px;max-width: 100%;overflow: auto;}#sk-container-id-4 input.sk-toggleable__control:checked~label.sk-toggleable__label-arrow:before {content: \"▾\";}#sk-container-id-4 div.sk-estimator input.sk-toggleable__control:checked~label.sk-toggleable__label {background-color: #d4ebff;}#sk-container-id-4 div.sk-label input.sk-toggleable__control:checked~label.sk-toggleable__label {background-color: #d4ebff;}#sk-container-id-4 input.sk-hidden--visually {border: 0;clip: rect(1px 1px 1px 1px);clip: rect(1px, 1px, 1px, 1px);height: 1px;margin: -1px;overflow: hidden;padding: 0;position: absolute;width: 1px;}#sk-container-id-4 div.sk-estimator {font-family: monospace;background-color: #f0f8ff;border: 1px dotted black;border-radius: 0.25em;box-sizing: border-box;margin-bottom: 0.5em;}#sk-container-id-4 div.sk-estimator:hover {background-color: #d4ebff;}#sk-container-id-4 div.sk-parallel-item::after {content: \"\";width: 100%;border-bottom: 1px solid gray;flex-grow: 1;}#sk-container-id-4 div.sk-label:hover label.sk-toggleable__label {background-color: #d4ebff;}#sk-container-id-4 div.sk-serial::before {content: \"\";position: absolute;border-left: 1px solid gray;box-sizing: border-box;top: 0;bottom: 0;left: 50%;z-index: 0;}#sk-container-id-4 div.sk-serial {display: flex;flex-direction: column;align-items: center;background-color: white;padding-right: 0.2em;padding-left: 0.2em;position: relative;}#sk-container-id-4 div.sk-item {position: relative;z-index: 1;}#sk-container-id-4 div.sk-parallel {display: flex;align-items: stretch;justify-content: center;background-color: white;position: relative;}#sk-container-id-4 div.sk-item::before, #sk-container-id-4 div.sk-parallel-item::before {content: \"\";position: absolute;border-left: 1px solid gray;box-sizing: border-box;top: 0;bottom: 0;left: 50%;z-index: -1;}#sk-container-id-4 div.sk-parallel-item {display: flex;flex-direction: column;z-index: 1;position: relative;background-color: white;}#sk-container-id-4 div.sk-parallel-item:first-child::after {align-self: flex-end;width: 50%;}#sk-container-id-4 div.sk-parallel-item:last-child::after {align-self: flex-start;width: 50%;}#sk-container-id-4 div.sk-parallel-item:only-child::after {width: 0;}#sk-container-id-4 div.sk-dashed-wrapped {border: 1px dashed gray;margin: 0 0.4em 0.5em 0.4em;box-sizing: border-box;padding-bottom: 0.4em;background-color: white;}#sk-container-id-4 div.sk-label label {font-family: monospace;font-weight: bold;display: inline-block;line-height: 1.2em;}#sk-container-id-4 div.sk-label-container {text-align: center;}#sk-container-id-4 div.sk-container {/* jupyter's `normalize.less` sets `[hidden] { display: none; }` but bootstrap.min.css set `[hidden] { display: none !important; }` so we also need the `!important` here to be able to override the default hidden behavior on the sphinx rendered scikit-learn.org. See: https://github.com/scikit-learn/scikit-learn/issues/21755 */display: inline-block !important;position: relative;}#sk-container-id-4 div.sk-text-repr-fallback {display: none;}</style><div id=\"sk-container-id-4\" class=\"sk-top-container\"><div class=\"sk-text-repr-fallback\"><pre>LGBMRegressor(colsample_bytree=0.5178642845063358,\n",
              "              learning_rate=0.05646061409019466, max_bin=127,\n",
              "              min_child_samples=3, n_estimators=1, n_jobs=-1, num_leaves=45,\n",
              "              reg_alpha=0.0009765625, reg_lambda=0.01039649327225154,\n",
              "              verbose=-1)</pre><b>In a Jupyter environment, please rerun this cell to show the HTML representation or trust the notebook. <br />On GitHub, the HTML representation is unable to render, please try loading this page with nbviewer.org.</b></div><div class=\"sk-container\" hidden><div class=\"sk-item\"><div class=\"sk-estimator sk-toggleable\"><input class=\"sk-toggleable__control sk-hidden--visually\" id=\"sk-estimator-id-4\" type=\"checkbox\" checked><label for=\"sk-estimator-id-4\" class=\"sk-toggleable__label sk-toggleable__label-arrow\">LGBMRegressor</label><div class=\"sk-toggleable__content\"><pre>LGBMRegressor(colsample_bytree=0.5178642845063358,\n",
              "              learning_rate=0.05646061409019466, max_bin=127,\n",
              "              min_child_samples=3, n_estimators=1, n_jobs=-1, num_leaves=45,\n",
              "              reg_alpha=0.0009765625, reg_lambda=0.01039649327225154,\n",
              "              verbose=-1)</pre></div></div></div></div></div>"
            ]
          },
          "metadata": {},
          "execution_count": 26
        }
      ]
    },
    {
      "cell_type": "code",
      "source": [
        "y_pred = automl.predict(X_test)\n",
        "\n",
        "from sklearn.metrics import mean_absolute_error, mean_squared_error, r2_score\n",
        "\n",
        "# 평균 제곱 오차 (Mean Squared Error, MSE) 계산\n",
        "mse = mean_squared_error(y_test, y_pred)\n",
        "\n",
        "# 평균 절대 오차 (Mean Absolute Error, MAE) 계산\n",
        "mae = mean_absolute_error(y_test, y_pred)\n",
        "\n",
        "# 결정 계수 (R-squared, R2) 계산\n",
        "r2 = r2_score(y_test, y_pred)\n",
        "\n",
        "print('Mean Squared Error (MSE) =', mse)\n",
        "print('Mean Absolute Error (MAE) =', mae)\n",
        "print('R-squared (R2) =', r2)"
      ],
      "metadata": {
        "colab": {
          "base_uri": "https://localhost:8080/"
        },
        "id": "7FY13ldjgMI7",
        "outputId": "ea191e97-2e1f-4661-cda7-56db4531df2e"
      },
      "execution_count": null,
      "outputs": [
        {
          "output_type": "stream",
          "name": "stdout",
          "text": [
            "Mean Squared Error (MSE) = 1173911715.8392622\n",
            "Mean Absolute Error (MAE) = 21718.66829658563\n",
            "R-squared (R2) = 0.7429991055629845\n"
          ]
        }
      ]
    },
    {
      "cell_type": "markdown",
      "source": [
        "# 180초"
      ],
      "metadata": {
        "id": "vyCc8rlCg9Df"
      }
    },
    {
      "cell_type": "code",
      "source": [
        "from flaml import AutoML\n",
        "automl = AutoML()\n",
        "automl.fit(X_train=X_train, y_train=y_train, task=\"regression\", time_budget=180, verbose=False)"
      ],
      "metadata": {
        "id": "BX39NTd_gNay"
      },
      "execution_count": null,
      "outputs": []
    },
    {
      "cell_type": "code",
      "source": [
        "print('Best ML model:', automl.model)\n",
        "print('Best hyperparameter config:', automl.best_config)\n",
        "print('Best accuracy on validation data: {0:.4g}'.format(1-automl.best_loss))\n",
        "print('Training duration of best run: {0:.4g} s'.format(automl.best_config_train_time))"
      ],
      "metadata": {
        "colab": {
          "base_uri": "https://localhost:8080/"
        },
        "id": "XHqk1iCPgw7b",
        "outputId": "d439e8ba-798c-47af-b7b8-fbd249f57eca"
      },
      "execution_count": null,
      "outputs": [
        {
          "output_type": "stream",
          "name": "stdout",
          "text": [
            "Best ML model: <flaml.automl.model.LGBMEstimator object at 0x784151d79060>\n",
            "Best hyperparameter config: {'n_estimators': 1018, 'num_leaves': 178, 'min_child_samples': 2, 'learning_rate': 0.1136777252129827, 'log_max_bin': 8, 'colsample_bytree': 0.5421659140432106, 'reg_alpha': 0.0009765625, 'reg_lambda': 0.071604423479417}\n",
            "Best accuracy on validation data: 0.9772\n",
            "Training duration of best run: 65.74 s\n"
          ]
        }
      ]
    },
    {
      "cell_type": "code",
      "source": [
        "automl.model.estimator"
      ],
      "metadata": {
        "colab": {
          "base_uri": "https://localhost:8080/",
          "height": 126
        },
        "id": "wqaOfQsigzse",
        "outputId": "58ceba43-d6b2-46e2-90c9-967ac9fd17a2"
      },
      "execution_count": null,
      "outputs": [
        {
          "output_type": "execute_result",
          "data": {
            "text/plain": [
              "LGBMRegressor(colsample_bytree=0.5421659140432106,\n",
              "              learning_rate=0.1136777252129827, max_bin=255,\n",
              "              min_child_samples=2, n_estimators=1, n_jobs=-1, num_leaves=178,\n",
              "              reg_alpha=0.0009765625, reg_lambda=0.071604423479417, verbose=-1)"
            ],
            "text/html": [
              "<style>#sk-container-id-5 {color: black;background-color: white;}#sk-container-id-5 pre{padding: 0;}#sk-container-id-5 div.sk-toggleable {background-color: white;}#sk-container-id-5 label.sk-toggleable__label {cursor: pointer;display: block;width: 100%;margin-bottom: 0;padding: 0.3em;box-sizing: border-box;text-align: center;}#sk-container-id-5 label.sk-toggleable__label-arrow:before {content: \"▸\";float: left;margin-right: 0.25em;color: #696969;}#sk-container-id-5 label.sk-toggleable__label-arrow:hover:before {color: black;}#sk-container-id-5 div.sk-estimator:hover label.sk-toggleable__label-arrow:before {color: black;}#sk-container-id-5 div.sk-toggleable__content {max-height: 0;max-width: 0;overflow: hidden;text-align: left;background-color: #f0f8ff;}#sk-container-id-5 div.sk-toggleable__content pre {margin: 0.2em;color: black;border-radius: 0.25em;background-color: #f0f8ff;}#sk-container-id-5 input.sk-toggleable__control:checked~div.sk-toggleable__content {max-height: 200px;max-width: 100%;overflow: auto;}#sk-container-id-5 input.sk-toggleable__control:checked~label.sk-toggleable__label-arrow:before {content: \"▾\";}#sk-container-id-5 div.sk-estimator input.sk-toggleable__control:checked~label.sk-toggleable__label {background-color: #d4ebff;}#sk-container-id-5 div.sk-label input.sk-toggleable__control:checked~label.sk-toggleable__label {background-color: #d4ebff;}#sk-container-id-5 input.sk-hidden--visually {border: 0;clip: rect(1px 1px 1px 1px);clip: rect(1px, 1px, 1px, 1px);height: 1px;margin: -1px;overflow: hidden;padding: 0;position: absolute;width: 1px;}#sk-container-id-5 div.sk-estimator {font-family: monospace;background-color: #f0f8ff;border: 1px dotted black;border-radius: 0.25em;box-sizing: border-box;margin-bottom: 0.5em;}#sk-container-id-5 div.sk-estimator:hover {background-color: #d4ebff;}#sk-container-id-5 div.sk-parallel-item::after {content: \"\";width: 100%;border-bottom: 1px solid gray;flex-grow: 1;}#sk-container-id-5 div.sk-label:hover label.sk-toggleable__label {background-color: #d4ebff;}#sk-container-id-5 div.sk-serial::before {content: \"\";position: absolute;border-left: 1px solid gray;box-sizing: border-box;top: 0;bottom: 0;left: 50%;z-index: 0;}#sk-container-id-5 div.sk-serial {display: flex;flex-direction: column;align-items: center;background-color: white;padding-right: 0.2em;padding-left: 0.2em;position: relative;}#sk-container-id-5 div.sk-item {position: relative;z-index: 1;}#sk-container-id-5 div.sk-parallel {display: flex;align-items: stretch;justify-content: center;background-color: white;position: relative;}#sk-container-id-5 div.sk-item::before, #sk-container-id-5 div.sk-parallel-item::before {content: \"\";position: absolute;border-left: 1px solid gray;box-sizing: border-box;top: 0;bottom: 0;left: 50%;z-index: -1;}#sk-container-id-5 div.sk-parallel-item {display: flex;flex-direction: column;z-index: 1;position: relative;background-color: white;}#sk-container-id-5 div.sk-parallel-item:first-child::after {align-self: flex-end;width: 50%;}#sk-container-id-5 div.sk-parallel-item:last-child::after {align-self: flex-start;width: 50%;}#sk-container-id-5 div.sk-parallel-item:only-child::after {width: 0;}#sk-container-id-5 div.sk-dashed-wrapped {border: 1px dashed gray;margin: 0 0.4em 0.5em 0.4em;box-sizing: border-box;padding-bottom: 0.4em;background-color: white;}#sk-container-id-5 div.sk-label label {font-family: monospace;font-weight: bold;display: inline-block;line-height: 1.2em;}#sk-container-id-5 div.sk-label-container {text-align: center;}#sk-container-id-5 div.sk-container {/* jupyter's `normalize.less` sets `[hidden] { display: none; }` but bootstrap.min.css set `[hidden] { display: none !important; }` so we also need the `!important` here to be able to override the default hidden behavior on the sphinx rendered scikit-learn.org. See: https://github.com/scikit-learn/scikit-learn/issues/21755 */display: inline-block !important;position: relative;}#sk-container-id-5 div.sk-text-repr-fallback {display: none;}</style><div id=\"sk-container-id-5\" class=\"sk-top-container\"><div class=\"sk-text-repr-fallback\"><pre>LGBMRegressor(colsample_bytree=0.5421659140432106,\n",
              "              learning_rate=0.1136777252129827, max_bin=255,\n",
              "              min_child_samples=2, n_estimators=1, n_jobs=-1, num_leaves=178,\n",
              "              reg_alpha=0.0009765625, reg_lambda=0.071604423479417, verbose=-1)</pre><b>In a Jupyter environment, please rerun this cell to show the HTML representation or trust the notebook. <br />On GitHub, the HTML representation is unable to render, please try loading this page with nbviewer.org.</b></div><div class=\"sk-container\" hidden><div class=\"sk-item\"><div class=\"sk-estimator sk-toggleable\"><input class=\"sk-toggleable__control sk-hidden--visually\" id=\"sk-estimator-id-5\" type=\"checkbox\" checked><label for=\"sk-estimator-id-5\" class=\"sk-toggleable__label sk-toggleable__label-arrow\">LGBMRegressor</label><div class=\"sk-toggleable__content\"><pre>LGBMRegressor(colsample_bytree=0.5421659140432106,\n",
              "              learning_rate=0.1136777252129827, max_bin=255,\n",
              "              min_child_samples=2, n_estimators=1, n_jobs=-1, num_leaves=178,\n",
              "              reg_alpha=0.0009765625, reg_lambda=0.071604423479417, verbose=-1)</pre></div></div></div></div></div>"
            ]
          },
          "metadata": {},
          "execution_count": 31
        }
      ]
    },
    {
      "cell_type": "code",
      "source": [
        "y_pred = automl.predict(X_test)\n",
        "\n",
        "from sklearn.metrics import mean_absolute_error, mean_squared_error, r2_score\n",
        "\n",
        "# 평균 제곱 오차 (Mean Squared Error, MSE) 계산\n",
        "mse = mean_squared_error(y_test, y_pred)\n",
        "\n",
        "# 평균 절대 오차 (Mean Absolute Error, MAE) 계산\n",
        "mae = mean_absolute_error(y_test, y_pred)\n",
        "\n",
        "# 결정 계수 (R-squared, R2) 계산\n",
        "r2 = r2_score(y_test, y_pred)\n",
        "\n",
        "print('Mean Squared Error (MSE) =', mse)\n",
        "print('Mean Absolute Error (MAE) =', mae)\n",
        "print('R-squared (R2) =', r2)"
      ],
      "metadata": {
        "colab": {
          "base_uri": "https://localhost:8080/"
        },
        "id": "_6xdxi7Zg1cO",
        "outputId": "54369770-7220-4805-de7e-ac96336e6c9a"
      },
      "execution_count": null,
      "outputs": [
        {
          "output_type": "stream",
          "name": "stdout",
          "text": [
            "Mean Squared Error (MSE) = 1098901067.1131275\n",
            "Mean Absolute Error (MAE) = 21330.36027413056\n",
            "R-squared (R2) = 0.7594209570146802\n"
          ]
        }
      ]
    },
    {
      "cell_type": "markdown",
      "source": [
        "# 240초"
      ],
      "metadata": {
        "id": "ipWzbijLhB19"
      }
    },
    {
      "cell_type": "code",
      "source": [
        "from flaml import AutoML\n",
        "automl = AutoML()\n",
        "automl.fit(X_train=X_train, y_train=y_train, task=\"regression\", time_budget=240, verbose=False)"
      ],
      "metadata": {
        "id": "8UmUpMUbhFdY"
      },
      "execution_count": null,
      "outputs": []
    },
    {
      "cell_type": "code",
      "source": [
        "print('Best ML model:', automl.model)\n",
        "print('Best hyperparameter config:', automl.best_config)\n",
        "print('Best accuracy on validation data: {0:.4g}'.format(1-automl.best_loss))\n",
        "print('Training duration of best run: {0:.4g} s'.format(automl.best_config_train_time))"
      ],
      "metadata": {
        "colab": {
          "base_uri": "https://localhost:8080/"
        },
        "id": "l6_6hnsxhP6O",
        "outputId": "8d046a7e-8f27-48ec-cc50-2fdc7fdeabde"
      },
      "execution_count": null,
      "outputs": [
        {
          "output_type": "stream",
          "name": "stdout",
          "text": [
            "Best ML model: <flaml.automl.model.LGBMEstimator object at 0x784151d43e20>\n",
            "Best hyperparameter config: {'n_estimators': 288, 'num_leaves': 494, 'min_child_samples': 2, 'learning_rate': 0.03800283899776092, 'log_max_bin': 10, 'colsample_bytree': 0.5940749720264871, 'reg_alpha': 0.0020145913289276885, 'reg_lambda': 0.0708036610242627}\n",
            "Best accuracy on validation data: 0.9744\n",
            "Training duration of best run: 47.95 s\n"
          ]
        }
      ]
    },
    {
      "cell_type": "code",
      "source": [
        "automl.model.estimator"
      ],
      "metadata": {
        "colab": {
          "base_uri": "https://localhost:8080/",
          "height": 144
        },
        "id": "x27Mr9olhRQz",
        "outputId": "5103b980-d8d8-4800-c716-75601c275c73"
      },
      "execution_count": null,
      "outputs": [
        {
          "output_type": "execute_result",
          "data": {
            "text/plain": [
              "LGBMRegressor(colsample_bytree=0.5940749720264871,\n",
              "              learning_rate=0.03800283899776092, max_bin=1023,\n",
              "              min_child_samples=2, n_estimators=1, n_jobs=-1, num_leaves=494,\n",
              "              reg_alpha=0.0020145913289276885, reg_lambda=0.0708036610242627,\n",
              "              verbose=-1)"
            ],
            "text/html": [
              "<style>#sk-container-id-6 {color: black;background-color: white;}#sk-container-id-6 pre{padding: 0;}#sk-container-id-6 div.sk-toggleable {background-color: white;}#sk-container-id-6 label.sk-toggleable__label {cursor: pointer;display: block;width: 100%;margin-bottom: 0;padding: 0.3em;box-sizing: border-box;text-align: center;}#sk-container-id-6 label.sk-toggleable__label-arrow:before {content: \"▸\";float: left;margin-right: 0.25em;color: #696969;}#sk-container-id-6 label.sk-toggleable__label-arrow:hover:before {color: black;}#sk-container-id-6 div.sk-estimator:hover label.sk-toggleable__label-arrow:before {color: black;}#sk-container-id-6 div.sk-toggleable__content {max-height: 0;max-width: 0;overflow: hidden;text-align: left;background-color: #f0f8ff;}#sk-container-id-6 div.sk-toggleable__content pre {margin: 0.2em;color: black;border-radius: 0.25em;background-color: #f0f8ff;}#sk-container-id-6 input.sk-toggleable__control:checked~div.sk-toggleable__content {max-height: 200px;max-width: 100%;overflow: auto;}#sk-container-id-6 input.sk-toggleable__control:checked~label.sk-toggleable__label-arrow:before {content: \"▾\";}#sk-container-id-6 div.sk-estimator input.sk-toggleable__control:checked~label.sk-toggleable__label {background-color: #d4ebff;}#sk-container-id-6 div.sk-label input.sk-toggleable__control:checked~label.sk-toggleable__label {background-color: #d4ebff;}#sk-container-id-6 input.sk-hidden--visually {border: 0;clip: rect(1px 1px 1px 1px);clip: rect(1px, 1px, 1px, 1px);height: 1px;margin: -1px;overflow: hidden;padding: 0;position: absolute;width: 1px;}#sk-container-id-6 div.sk-estimator {font-family: monospace;background-color: #f0f8ff;border: 1px dotted black;border-radius: 0.25em;box-sizing: border-box;margin-bottom: 0.5em;}#sk-container-id-6 div.sk-estimator:hover {background-color: #d4ebff;}#sk-container-id-6 div.sk-parallel-item::after {content: \"\";width: 100%;border-bottom: 1px solid gray;flex-grow: 1;}#sk-container-id-6 div.sk-label:hover label.sk-toggleable__label {background-color: #d4ebff;}#sk-container-id-6 div.sk-serial::before {content: \"\";position: absolute;border-left: 1px solid gray;box-sizing: border-box;top: 0;bottom: 0;left: 50%;z-index: 0;}#sk-container-id-6 div.sk-serial {display: flex;flex-direction: column;align-items: center;background-color: white;padding-right: 0.2em;padding-left: 0.2em;position: relative;}#sk-container-id-6 div.sk-item {position: relative;z-index: 1;}#sk-container-id-6 div.sk-parallel {display: flex;align-items: stretch;justify-content: center;background-color: white;position: relative;}#sk-container-id-6 div.sk-item::before, #sk-container-id-6 div.sk-parallel-item::before {content: \"\";position: absolute;border-left: 1px solid gray;box-sizing: border-box;top: 0;bottom: 0;left: 50%;z-index: -1;}#sk-container-id-6 div.sk-parallel-item {display: flex;flex-direction: column;z-index: 1;position: relative;background-color: white;}#sk-container-id-6 div.sk-parallel-item:first-child::after {align-self: flex-end;width: 50%;}#sk-container-id-6 div.sk-parallel-item:last-child::after {align-self: flex-start;width: 50%;}#sk-container-id-6 div.sk-parallel-item:only-child::after {width: 0;}#sk-container-id-6 div.sk-dashed-wrapped {border: 1px dashed gray;margin: 0 0.4em 0.5em 0.4em;box-sizing: border-box;padding-bottom: 0.4em;background-color: white;}#sk-container-id-6 div.sk-label label {font-family: monospace;font-weight: bold;display: inline-block;line-height: 1.2em;}#sk-container-id-6 div.sk-label-container {text-align: center;}#sk-container-id-6 div.sk-container {/* jupyter's `normalize.less` sets `[hidden] { display: none; }` but bootstrap.min.css set `[hidden] { display: none !important; }` so we also need the `!important` here to be able to override the default hidden behavior on the sphinx rendered scikit-learn.org. See: https://github.com/scikit-learn/scikit-learn/issues/21755 */display: inline-block !important;position: relative;}#sk-container-id-6 div.sk-text-repr-fallback {display: none;}</style><div id=\"sk-container-id-6\" class=\"sk-top-container\"><div class=\"sk-text-repr-fallback\"><pre>LGBMRegressor(colsample_bytree=0.5940749720264871,\n",
              "              learning_rate=0.03800283899776092, max_bin=1023,\n",
              "              min_child_samples=2, n_estimators=1, n_jobs=-1, num_leaves=494,\n",
              "              reg_alpha=0.0020145913289276885, reg_lambda=0.0708036610242627,\n",
              "              verbose=-1)</pre><b>In a Jupyter environment, please rerun this cell to show the HTML representation or trust the notebook. <br />On GitHub, the HTML representation is unable to render, please try loading this page with nbviewer.org.</b></div><div class=\"sk-container\" hidden><div class=\"sk-item\"><div class=\"sk-estimator sk-toggleable\"><input class=\"sk-toggleable__control sk-hidden--visually\" id=\"sk-estimator-id-6\" type=\"checkbox\" checked><label for=\"sk-estimator-id-6\" class=\"sk-toggleable__label sk-toggleable__label-arrow\">LGBMRegressor</label><div class=\"sk-toggleable__content\"><pre>LGBMRegressor(colsample_bytree=0.5940749720264871,\n",
              "              learning_rate=0.03800283899776092, max_bin=1023,\n",
              "              min_child_samples=2, n_estimators=1, n_jobs=-1, num_leaves=494,\n",
              "              reg_alpha=0.0020145913289276885, reg_lambda=0.0708036610242627,\n",
              "              verbose=-1)</pre></div></div></div></div></div>"
            ]
          },
          "metadata": {},
          "execution_count": 35
        }
      ]
    },
    {
      "cell_type": "code",
      "source": [
        "y_pred = automl.predict(X_test)\n",
        "\n",
        "from sklearn.metrics import mean_absolute_error, mean_squared_error, r2_score\n",
        "\n",
        "# 평균 제곱 오차 (Mean Squared Error, MSE) 계산\n",
        "mse = mean_squared_error(y_test, y_pred)\n",
        "\n",
        "# 평균 절대 오차 (Mean Absolute Error, MAE) 계산\n",
        "mae = mean_absolute_error(y_test, y_pred)\n",
        "\n",
        "# 결정 계수 (R-squared, R2) 계산\n",
        "r2 = r2_score(y_test, y_pred)\n",
        "\n",
        "print('Mean Squared Error (MSE) =', mse)\n",
        "print('Mean Absolute Error (MAE) =', mae)\n",
        "print('R-squared (R2) =', r2)"
      ],
      "metadata": {
        "colab": {
          "base_uri": "https://localhost:8080/"
        },
        "id": "K2whFtUKhSQ4",
        "outputId": "5c94a29b-c1f1-4145-9615-f2214055e810"
      },
      "execution_count": null,
      "outputs": [
        {
          "output_type": "stream",
          "name": "stdout",
          "text": [
            "Mean Squared Error (MSE) = 1103067158.3408914\n",
            "Mean Absolute Error (MAE) = 20984.171635319068\n",
            "R-squared (R2) = 0.7585088874293826\n"
          ]
        }
      ]
    },
    {
      "cell_type": "markdown",
      "source": [
        "# 360초"
      ],
      "metadata": {
        "id": "dROlLxqJo-_Y"
      }
    },
    {
      "cell_type": "code",
      "source": [
        "from flaml import AutoML\n",
        "automl = AutoML()\n",
        "automl.fit(X_train=X_train, y_train=y_train, task=\"regression\", time_budget=360, verbose=False)"
      ],
      "metadata": {
        "id": "KNDkYQK7hTc9"
      },
      "execution_count": null,
      "outputs": []
    },
    {
      "cell_type": "code",
      "source": [
        "print('Best ML model:', automl.model)\n",
        "print('Best hyperparameter config:', automl.best_config)\n",
        "print('Best accuracy on validation data: {0:.4g}'.format(1-automl.best_loss))\n",
        "print('Training duration of best run: {0:.4g} s'.format(automl.best_config_train_time))"
      ],
      "metadata": {
        "colab": {
          "base_uri": "https://localhost:8080/"
        },
        "id": "GkCkGODno99j",
        "outputId": "3e7e9fa2-45d5-43af-e09d-f9b5ffc46640"
      },
      "execution_count": null,
      "outputs": [
        {
          "output_type": "stream",
          "name": "stdout",
          "text": [
            "Best ML model: <flaml.automl.model.LGBMEstimator object at 0x7841116a2620>\n",
            "Best hyperparameter config: {'n_estimators': 1018, 'num_leaves': 178, 'min_child_samples': 2, 'learning_rate': 0.1136777252129827, 'log_max_bin': 8, 'colsample_bytree': 0.5421659140432106, 'reg_alpha': 0.0009765625, 'reg_lambda': 0.071604423479417}\n",
            "Best accuracy on validation data: 0.9772\n",
            "Training duration of best run: 86.4 s\n"
          ]
        }
      ]
    },
    {
      "cell_type": "code",
      "source": [
        "for k, v in automl.best_config.items():\n",
        "  print(f'{k}={v}')"
      ],
      "metadata": {
        "colab": {
          "base_uri": "https://localhost:8080/"
        },
        "id": "TIj5W9NKrAD7",
        "outputId": "87cf46fc-c9ee-40b8-a183-ddaaf4c8efcc"
      },
      "execution_count": null,
      "outputs": [
        {
          "output_type": "stream",
          "name": "stdout",
          "text": [
            "n_estimators=1018\n",
            "num_leaves=178\n",
            "min_child_samples=2\n",
            "learning_rate=0.1136777252129827\n",
            "log_max_bin=8\n",
            "colsample_bytree=0.5421659140432106\n",
            "reg_alpha=0.0009765625\n",
            "reg_lambda=0.071604423479417\n"
          ]
        }
      ]
    },
    {
      "cell_type": "code",
      "source": [
        "automl.model.estimator"
      ],
      "metadata": {
        "colab": {
          "base_uri": "https://localhost:8080/",
          "height": 126
        },
        "id": "7eJG_h2Tpnj9",
        "outputId": "e320822e-73bc-4f10-c6b7-3b77d4336a52"
      },
      "execution_count": null,
      "outputs": [
        {
          "output_type": "execute_result",
          "data": {
            "text/plain": [
              "LGBMRegressor(colsample_bytree=0.5421659140432106,\n",
              "              learning_rate=0.1136777252129827, max_bin=255,\n",
              "              min_child_samples=2, n_estimators=1, n_jobs=-1, num_leaves=178,\n",
              "              reg_alpha=0.0009765625, reg_lambda=0.071604423479417, verbose=-1)"
            ],
            "text/html": [
              "<style>#sk-container-id-7 {color: black;background-color: white;}#sk-container-id-7 pre{padding: 0;}#sk-container-id-7 div.sk-toggleable {background-color: white;}#sk-container-id-7 label.sk-toggleable__label {cursor: pointer;display: block;width: 100%;margin-bottom: 0;padding: 0.3em;box-sizing: border-box;text-align: center;}#sk-container-id-7 label.sk-toggleable__label-arrow:before {content: \"▸\";float: left;margin-right: 0.25em;color: #696969;}#sk-container-id-7 label.sk-toggleable__label-arrow:hover:before {color: black;}#sk-container-id-7 div.sk-estimator:hover label.sk-toggleable__label-arrow:before {color: black;}#sk-container-id-7 div.sk-toggleable__content {max-height: 0;max-width: 0;overflow: hidden;text-align: left;background-color: #f0f8ff;}#sk-container-id-7 div.sk-toggleable__content pre {margin: 0.2em;color: black;border-radius: 0.25em;background-color: #f0f8ff;}#sk-container-id-7 input.sk-toggleable__control:checked~div.sk-toggleable__content {max-height: 200px;max-width: 100%;overflow: auto;}#sk-container-id-7 input.sk-toggleable__control:checked~label.sk-toggleable__label-arrow:before {content: \"▾\";}#sk-container-id-7 div.sk-estimator input.sk-toggleable__control:checked~label.sk-toggleable__label {background-color: #d4ebff;}#sk-container-id-7 div.sk-label input.sk-toggleable__control:checked~label.sk-toggleable__label {background-color: #d4ebff;}#sk-container-id-7 input.sk-hidden--visually {border: 0;clip: rect(1px 1px 1px 1px);clip: rect(1px, 1px, 1px, 1px);height: 1px;margin: -1px;overflow: hidden;padding: 0;position: absolute;width: 1px;}#sk-container-id-7 div.sk-estimator {font-family: monospace;background-color: #f0f8ff;border: 1px dotted black;border-radius: 0.25em;box-sizing: border-box;margin-bottom: 0.5em;}#sk-container-id-7 div.sk-estimator:hover {background-color: #d4ebff;}#sk-container-id-7 div.sk-parallel-item::after {content: \"\";width: 100%;border-bottom: 1px solid gray;flex-grow: 1;}#sk-container-id-7 div.sk-label:hover label.sk-toggleable__label {background-color: #d4ebff;}#sk-container-id-7 div.sk-serial::before {content: \"\";position: absolute;border-left: 1px solid gray;box-sizing: border-box;top: 0;bottom: 0;left: 50%;z-index: 0;}#sk-container-id-7 div.sk-serial {display: flex;flex-direction: column;align-items: center;background-color: white;padding-right: 0.2em;padding-left: 0.2em;position: relative;}#sk-container-id-7 div.sk-item {position: relative;z-index: 1;}#sk-container-id-7 div.sk-parallel {display: flex;align-items: stretch;justify-content: center;background-color: white;position: relative;}#sk-container-id-7 div.sk-item::before, #sk-container-id-7 div.sk-parallel-item::before {content: \"\";position: absolute;border-left: 1px solid gray;box-sizing: border-box;top: 0;bottom: 0;left: 50%;z-index: -1;}#sk-container-id-7 div.sk-parallel-item {display: flex;flex-direction: column;z-index: 1;position: relative;background-color: white;}#sk-container-id-7 div.sk-parallel-item:first-child::after {align-self: flex-end;width: 50%;}#sk-container-id-7 div.sk-parallel-item:last-child::after {align-self: flex-start;width: 50%;}#sk-container-id-7 div.sk-parallel-item:only-child::after {width: 0;}#sk-container-id-7 div.sk-dashed-wrapped {border: 1px dashed gray;margin: 0 0.4em 0.5em 0.4em;box-sizing: border-box;padding-bottom: 0.4em;background-color: white;}#sk-container-id-7 div.sk-label label {font-family: monospace;font-weight: bold;display: inline-block;line-height: 1.2em;}#sk-container-id-7 div.sk-label-container {text-align: center;}#sk-container-id-7 div.sk-container {/* jupyter's `normalize.less` sets `[hidden] { display: none; }` but bootstrap.min.css set `[hidden] { display: none !important; }` so we also need the `!important` here to be able to override the default hidden behavior on the sphinx rendered scikit-learn.org. See: https://github.com/scikit-learn/scikit-learn/issues/21755 */display: inline-block !important;position: relative;}#sk-container-id-7 div.sk-text-repr-fallback {display: none;}</style><div id=\"sk-container-id-7\" class=\"sk-top-container\"><div class=\"sk-text-repr-fallback\"><pre>LGBMRegressor(colsample_bytree=0.5421659140432106,\n",
              "              learning_rate=0.1136777252129827, max_bin=255,\n",
              "              min_child_samples=2, n_estimators=1, n_jobs=-1, num_leaves=178,\n",
              "              reg_alpha=0.0009765625, reg_lambda=0.071604423479417, verbose=-1)</pre><b>In a Jupyter environment, please rerun this cell to show the HTML representation or trust the notebook. <br />On GitHub, the HTML representation is unable to render, please try loading this page with nbviewer.org.</b></div><div class=\"sk-container\" hidden><div class=\"sk-item\"><div class=\"sk-estimator sk-toggleable\"><input class=\"sk-toggleable__control sk-hidden--visually\" id=\"sk-estimator-id-7\" type=\"checkbox\" checked><label for=\"sk-estimator-id-7\" class=\"sk-toggleable__label sk-toggleable__label-arrow\">LGBMRegressor</label><div class=\"sk-toggleable__content\"><pre>LGBMRegressor(colsample_bytree=0.5421659140432106,\n",
              "              learning_rate=0.1136777252129827, max_bin=255,\n",
              "              min_child_samples=2, n_estimators=1, n_jobs=-1, num_leaves=178,\n",
              "              reg_alpha=0.0009765625, reg_lambda=0.071604423479417, verbose=-1)</pre></div></div></div></div></div>"
            ]
          },
          "metadata": {},
          "execution_count": 39
        }
      ]
    },
    {
      "cell_type": "code",
      "source": [
        "y_pred = automl.predict(X_test)\n",
        "\n",
        "from sklearn.metrics import mean_absolute_error, mean_squared_error, r2_score\n",
        "\n",
        "# 평균 제곱 오차 (Mean Squared Error, MSE) 계산\n",
        "mse = mean_squared_error(y_test, y_pred)\n",
        "\n",
        "# 평균 절대 오차 (Mean Absolute Error, MAE) 계산\n",
        "mae = mean_absolute_error(y_test, y_pred)\n",
        "\n",
        "# 결정 계수 (R-squared, R2) 계산\n",
        "r2 = r2_score(y_test, y_pred)\n",
        "\n",
        "print('Mean Squared Error (MSE) =', mse)\n",
        "print('Mean Absolute Error (MAE) =', mae)\n",
        "print('R-squared (R2) =', r2)"
      ],
      "metadata": {
        "colab": {
          "base_uri": "https://localhost:8080/"
        },
        "id": "HG6-mKPNpovH",
        "outputId": "fccc96e1-9f33-40fa-e1e1-2a0ecc15d74b"
      },
      "execution_count": null,
      "outputs": [
        {
          "output_type": "stream",
          "name": "stdout",
          "text": [
            "Mean Squared Error (MSE) = 1098895782.8784847\n",
            "Mean Absolute Error (MAE) = 21326.335397756302\n",
            "R-squared (R2) = 0.7594221138759767\n"
          ]
        }
      ]
    },
    {
      "cell_type": "code",
      "source": [],
      "metadata": {
        "id": "e54w0YbMpoor"
      },
      "execution_count": null,
      "outputs": []
    }
  ]
}